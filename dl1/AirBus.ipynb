{
 "cells": [
  {
   "cell_type": "markdown",
   "metadata": {},
   "source": [
    "# Airbus Ship Detection Challenge 比赛信息\n",
    "\n",
    "比赛页面： https://www.kaggle.com/c/airbus-ship-detection\n",
    "\n",
    "评估方式： https://www.kaggle.com/c/airbus-ship-detection#evaluation\n",
    "\n",
    "数据集介绍： https://www.kaggle.com/c/airbus-ship-detection/data\n",
    "\n",
    "参考Kernel： \n",
    "\n",
    "（数据预处理）https://www.kaggle.com/leighplt/pytorch-tutorial-dataset-data-preparetion-stage\n",
    "\n",
    "（U-Net模型）https://www.kaggle.com/windsurfer/baseline-u-net-on-pytorch\n"
   ]
  },
  {
   "cell_type": "markdown",
   "metadata": {},
   "source": [
    "# 数据预处理"
   ]
  },
  {
   "cell_type": "markdown",
   "metadata": {
    "ExecuteTime": {
     "end_time": "2018-11-02T13:16:17.096359Z",
     "start_time": "2018-11-02T13:16:17.092558Z"
    }
   },
   "source": [
    "## import Package"
   ]
  },
  {
   "cell_type": "code",
   "execution_count": 3,
   "metadata": {
    "ExecuteTime": {
     "end_time": "2018-11-02T13:46:11.887750Z",
     "start_time": "2018-11-02T13:46:11.853448Z"
    }
   },
   "outputs": [],
   "source": [
    "%reload_ext autoreload\n",
    "%autoreload 2\n",
    "%matplotlib inline"
   ]
  },
  {
   "cell_type": "code",
   "execution_count": 4,
   "metadata": {
    "ExecuteTime": {
     "end_time": "2018-11-02T13:47:21.037011Z",
     "start_time": "2018-11-02T13:47:08.507027Z"
    }
   },
   "outputs": [],
   "source": [
    "# 导入fast.ai\n",
    "from fastai.imports import *\n",
    "from fastai.torch_imports import *\n",
    "from fastai.transforms import *\n",
    "from fastai.conv_learner import *\n",
    "from fastai.model import *\n",
    "from fastai.dataset import *\n",
    "from fastai.sgdr import *\n",
    "from fastai.plots import *"
   ]
  },
  {
   "cell_type": "code",
   "execution_count": 5,
   "metadata": {
    "ExecuteTime": {
     "end_time": "2018-11-02T13:47:34.793397Z",
     "start_time": "2018-11-02T13:47:34.736525Z"
    }
   },
   "outputs": [],
   "source": [
    "# 指定GPU\n",
    "torch.cuda.set_device(1)"
   ]
  },
  {
   "cell_type": "markdown",
   "metadata": {},
   "source": [
    "## 读取"
   ]
  },
  {
   "cell_type": "code",
   "execution_count": 7,
   "metadata": {
    "ExecuteTime": {
     "end_time": "2018-11-02T14:28:36.654970Z",
     "start_time": "2018-11-02T14:28:36.597205Z"
    }
   },
   "outputs": [],
   "source": [
    "# 指定路径\n",
    "PATH = \"/home/ubuntu/Datasets/Air_Bus_Ship_Detection_Challenge\"\n",
    "\n",
    "sz = 224\n",
    "\n",
    "bs = 64"
   ]
  },
  {
   "cell_type": "code",
   "execution_count": 8,
   "metadata": {
    "ExecuteTime": {
     "end_time": "2018-11-02T14:28:38.691087Z",
     "start_time": "2018-11-02T14:28:38.437923Z"
    }
   },
   "outputs": [
    {
     "name": "stdout",
     "output_type": "stream",
     "text": [
      "sample_submission_v2.csv  train_ship_segmentations_v2.csv      train_v2.zip\r\n",
      "test_v2\t\t\t  train_ship_segmentations_v2.csv.zip\r\n",
      "test_v2.zip\t\t  train_v2\r\n"
     ]
    }
   ],
   "source": [
    "!ls {PATH}"
   ]
  },
  {
   "cell_type": "code",
   "execution_count": null,
   "metadata": {},
   "outputs": [],
   "source": []
  }
 ],
 "metadata": {
  "kernelspec": {
   "display_name": "Python 3",
   "language": "python",
   "name": "python3"
  },
  "language_info": {
   "codemirror_mode": {
    "name": "ipython",
    "version": 3
   },
   "file_extension": ".py",
   "mimetype": "text/x-python",
   "name": "python",
   "nbconvert_exporter": "python",
   "pygments_lexer": "ipython3",
   "version": "3.6.6"
  },
  "toc": {
   "base_numbering": 1,
   "nav_menu": {},
   "number_sections": true,
   "sideBar": true,
   "skip_h1_title": false,
   "title_cell": "Table of Contents",
   "title_sidebar": "Contents",
   "toc_cell": false,
   "toc_position": {},
   "toc_section_display": true,
   "toc_window_display": false
  },
  "varInspector": {
   "cols": {
    "lenName": 16,
    "lenType": 16,
    "lenVar": 40
   },
   "kernels_config": {
    "python": {
     "delete_cmd_postfix": "",
     "delete_cmd_prefix": "del ",
     "library": "var_list.py",
     "varRefreshCmd": "print(var_dic_list())"
    },
    "r": {
     "delete_cmd_postfix": ") ",
     "delete_cmd_prefix": "rm(",
     "library": "var_list.r",
     "varRefreshCmd": "cat(var_dic_list()) "
    }
   },
   "types_to_exclude": [
    "module",
    "function",
    "builtin_function_or_method",
    "instance",
    "_Feature"
   ],
   "window_display": false
  }
 },
 "nbformat": 4,
 "nbformat_minor": 2
}
