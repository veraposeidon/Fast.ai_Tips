{
 "cells": [
  {
   "cell_type": "markdown",
   "metadata": {},
   "source": [
    "## Kaggle 手写数字识别\n",
    "\n",
    "关于数据处理的参考：https://www.kaggle.com/vijaykris/mnist-classification-using-fast-ai-v2"
   ]
  },
  {
   "cell_type": "code",
   "execution_count": 1,
   "metadata": {
    "ExecuteTime": {
     "end_time": "2018-11-01T05:00:46.796154Z",
     "start_time": "2018-11-01T05:00:46.585998Z"
    },
    "code_folding": []
   },
   "outputs": [],
   "source": [
    "# Put these at the top of every notebook, to get automatic reloading and inline plotting\n",
    "%reload_ext autoreload\n",
    "%autoreload 2\n",
    "%matplotlib inline"
   ]
  },
  {
   "cell_type": "code",
   "execution_count": 2,
   "metadata": {
    "ExecuteTime": {
     "end_time": "2018-11-01T05:00:48.377749Z",
     "start_time": "2018-11-01T05:00:46.798382Z"
    }
   },
   "outputs": [],
   "source": [
    "# This file contains all the main external libs we'll use\n",
    "from fastai.imports import *\n",
    "\n",
    "from fastai.transforms import *\n",
    "from fastai.conv_learner import *\n",
    "from fastai.model import *\n",
    "from fastai.dataset import *\n",
    "from fastai.sgdr import *\n",
    "from fastai.plots import *"
   ]
  },
  {
   "cell_type": "code",
   "execution_count": 3,
   "metadata": {
    "ExecuteTime": {
     "end_time": "2018-11-01T05:00:48.409290Z",
     "start_time": "2018-11-01T05:00:48.381045Z"
    }
   },
   "outputs": [],
   "source": [
    "# 指定设备\n",
    "torch.cuda.set_device(1)"
   ]
  },
  {
   "cell_type": "code",
   "execution_count": 4,
   "metadata": {
    "ExecuteTime": {
     "end_time": "2018-11-01T05:00:49.860306Z",
     "start_time": "2018-11-01T05:00:48.410721Z"
    }
   },
   "outputs": [],
   "source": [
    "PATH = \"data/DigitRecognizer/\"\n",
    "sz=28\n",
    "arch=resnext101_64\n",
    "bs=64"
   ]
  },
  {
   "cell_type": "code",
   "execution_count": 5,
   "metadata": {
    "ExecuteTime": {
     "end_time": "2018-11-01T05:00:50.305891Z",
     "start_time": "2018-11-01T05:00:49.863021Z"
    }
   },
   "outputs": [
    {
     "name": "stdout",
     "output_type": "stream",
     "text": [
      "sample_submission.csv  test.csv  tmp  train.csv\r\n"
     ]
    }
   ],
   "source": [
    "!ls {PATH}"
   ]
  },
  {
   "cell_type": "code",
   "execution_count": 6,
   "metadata": {
    "ExecuteTime": {
     "end_time": "2018-11-01T05:00:50.630028Z",
     "start_time": "2018-11-01T05:00:50.308238Z"
    }
   },
   "outputs": [],
   "source": [
    "# 根据label文件， 交叉验证分割训练集和验证集\n",
    "train_csv = f'{PATH}train.csv'\n",
    "n = len(list(open(train_csv))) - 1 # header is not counted (-1)"
   ]
  },
  {
   "cell_type": "code",
   "execution_count": 7,
   "metadata": {
    "ExecuteTime": {
     "end_time": "2018-11-01T05:00:50.664076Z",
     "start_time": "2018-11-01T05:00:50.633067Z"
    }
   },
   "outputs": [
    {
     "data": {
      "text/plain": [
       "42000"
      ]
     },
     "execution_count": 7,
     "metadata": {},
     "output_type": "execute_result"
    }
   ],
   "source": [
    "# 样本数目\n",
    "n"
   ]
  },
  {
   "cell_type": "markdown",
   "metadata": {},
   "source": [
    "## 研究数据"
   ]
  },
  {
   "cell_type": "code",
   "execution_count": 8,
   "metadata": {
    "ExecuteTime": {
     "end_time": "2018-11-01T05:00:50.823603Z",
     "start_time": "2018-11-01T05:00:50.666986Z"
    }
   },
   "outputs": [
    {
     "name": "stdout",
     "output_type": "stream",
     "text": [
      "sample_submission.csv  test.csv  tmp  train.csv\r\n"
     ]
    }
   ],
   "source": [
    "!ls {PATH}"
   ]
  },
  {
   "cell_type": "code",
   "execution_count": 9,
   "metadata": {
    "ExecuteTime": {
     "end_time": "2018-11-01T05:00:54.724733Z",
     "start_time": "2018-11-01T05:00:50.827388Z"
    }
   },
   "outputs": [],
   "source": [
    "train_df = pd.read_csv(train_csv)"
   ]
  },
  {
   "cell_type": "code",
   "execution_count": 10,
   "metadata": {
    "ExecuteTime": {
     "end_time": "2018-11-01T05:00:54.781088Z",
     "start_time": "2018-11-01T05:00:54.728413Z"
    }
   },
   "outputs": [
    {
     "data": {
      "text/html": [
       "<div>\n",
       "<style scoped>\n",
       "    .dataframe tbody tr th:only-of-type {\n",
       "        vertical-align: middle;\n",
       "    }\n",
       "\n",
       "    .dataframe tbody tr th {\n",
       "        vertical-align: top;\n",
       "    }\n",
       "\n",
       "    .dataframe thead th {\n",
       "        text-align: right;\n",
       "    }\n",
       "</style>\n",
       "<table border=\"1\" class=\"dataframe\">\n",
       "  <thead>\n",
       "    <tr style=\"text-align: right;\">\n",
       "      <th></th>\n",
       "      <th>label</th>\n",
       "      <th>pixel0</th>\n",
       "      <th>pixel1</th>\n",
       "      <th>pixel2</th>\n",
       "      <th>pixel3</th>\n",
       "      <th>pixel4</th>\n",
       "      <th>pixel5</th>\n",
       "      <th>pixel6</th>\n",
       "      <th>pixel7</th>\n",
       "      <th>pixel8</th>\n",
       "      <th>...</th>\n",
       "      <th>pixel774</th>\n",
       "      <th>pixel775</th>\n",
       "      <th>pixel776</th>\n",
       "      <th>pixel777</th>\n",
       "      <th>pixel778</th>\n",
       "      <th>pixel779</th>\n",
       "      <th>pixel780</th>\n",
       "      <th>pixel781</th>\n",
       "      <th>pixel782</th>\n",
       "      <th>pixel783</th>\n",
       "    </tr>\n",
       "  </thead>\n",
       "  <tbody>\n",
       "    <tr>\n",
       "      <th>0</th>\n",
       "      <td>1</td>\n",
       "      <td>0</td>\n",
       "      <td>0</td>\n",
       "      <td>0</td>\n",
       "      <td>0</td>\n",
       "      <td>0</td>\n",
       "      <td>0</td>\n",
       "      <td>0</td>\n",
       "      <td>0</td>\n",
       "      <td>0</td>\n",
       "      <td>...</td>\n",
       "      <td>0</td>\n",
       "      <td>0</td>\n",
       "      <td>0</td>\n",
       "      <td>0</td>\n",
       "      <td>0</td>\n",
       "      <td>0</td>\n",
       "      <td>0</td>\n",
       "      <td>0</td>\n",
       "      <td>0</td>\n",
       "      <td>0</td>\n",
       "    </tr>\n",
       "    <tr>\n",
       "      <th>1</th>\n",
       "      <td>0</td>\n",
       "      <td>0</td>\n",
       "      <td>0</td>\n",
       "      <td>0</td>\n",
       "      <td>0</td>\n",
       "      <td>0</td>\n",
       "      <td>0</td>\n",
       "      <td>0</td>\n",
       "      <td>0</td>\n",
       "      <td>0</td>\n",
       "      <td>...</td>\n",
       "      <td>0</td>\n",
       "      <td>0</td>\n",
       "      <td>0</td>\n",
       "      <td>0</td>\n",
       "      <td>0</td>\n",
       "      <td>0</td>\n",
       "      <td>0</td>\n",
       "      <td>0</td>\n",
       "      <td>0</td>\n",
       "      <td>0</td>\n",
       "    </tr>\n",
       "    <tr>\n",
       "      <th>2</th>\n",
       "      <td>1</td>\n",
       "      <td>0</td>\n",
       "      <td>0</td>\n",
       "      <td>0</td>\n",
       "      <td>0</td>\n",
       "      <td>0</td>\n",
       "      <td>0</td>\n",
       "      <td>0</td>\n",
       "      <td>0</td>\n",
       "      <td>0</td>\n",
       "      <td>...</td>\n",
       "      <td>0</td>\n",
       "      <td>0</td>\n",
       "      <td>0</td>\n",
       "      <td>0</td>\n",
       "      <td>0</td>\n",
       "      <td>0</td>\n",
       "      <td>0</td>\n",
       "      <td>0</td>\n",
       "      <td>0</td>\n",
       "      <td>0</td>\n",
       "    </tr>\n",
       "    <tr>\n",
       "      <th>3</th>\n",
       "      <td>4</td>\n",
       "      <td>0</td>\n",
       "      <td>0</td>\n",
       "      <td>0</td>\n",
       "      <td>0</td>\n",
       "      <td>0</td>\n",
       "      <td>0</td>\n",
       "      <td>0</td>\n",
       "      <td>0</td>\n",
       "      <td>0</td>\n",
       "      <td>...</td>\n",
       "      <td>0</td>\n",
       "      <td>0</td>\n",
       "      <td>0</td>\n",
       "      <td>0</td>\n",
       "      <td>0</td>\n",
       "      <td>0</td>\n",
       "      <td>0</td>\n",
       "      <td>0</td>\n",
       "      <td>0</td>\n",
       "      <td>0</td>\n",
       "    </tr>\n",
       "    <tr>\n",
       "      <th>4</th>\n",
       "      <td>0</td>\n",
       "      <td>0</td>\n",
       "      <td>0</td>\n",
       "      <td>0</td>\n",
       "      <td>0</td>\n",
       "      <td>0</td>\n",
       "      <td>0</td>\n",
       "      <td>0</td>\n",
       "      <td>0</td>\n",
       "      <td>0</td>\n",
       "      <td>...</td>\n",
       "      <td>0</td>\n",
       "      <td>0</td>\n",
       "      <td>0</td>\n",
       "      <td>0</td>\n",
       "      <td>0</td>\n",
       "      <td>0</td>\n",
       "      <td>0</td>\n",
       "      <td>0</td>\n",
       "      <td>0</td>\n",
       "      <td>0</td>\n",
       "    </tr>\n",
       "  </tbody>\n",
       "</table>\n",
       "<p>5 rows × 785 columns</p>\n",
       "</div>"
      ],
      "text/plain": [
       "   label  pixel0  pixel1  pixel2  pixel3  pixel4  pixel5  pixel6  pixel7  \\\n",
       "0      1       0       0       0       0       0       0       0       0   \n",
       "1      0       0       0       0       0       0       0       0       0   \n",
       "2      1       0       0       0       0       0       0       0       0   \n",
       "3      4       0       0       0       0       0       0       0       0   \n",
       "4      0       0       0       0       0       0       0       0       0   \n",
       "\n",
       "   pixel8    ...     pixel774  pixel775  pixel776  pixel777  pixel778  \\\n",
       "0       0    ...            0         0         0         0         0   \n",
       "1       0    ...            0         0         0         0         0   \n",
       "2       0    ...            0         0         0         0         0   \n",
       "3       0    ...            0         0         0         0         0   \n",
       "4       0    ...            0         0         0         0         0   \n",
       "\n",
       "   pixel779  pixel780  pixel781  pixel782  pixel783  \n",
       "0         0         0         0         0         0  \n",
       "1         0         0         0         0         0  \n",
       "2         0         0         0         0         0  \n",
       "3         0         0         0         0         0  \n",
       "4         0         0         0         0         0  \n",
       "\n",
       "[5 rows x 785 columns]"
      ]
     },
     "execution_count": 10,
     "metadata": {},
     "output_type": "execute_result"
    }
   ],
   "source": [
    "train_df.head()"
   ]
  },
  {
   "cell_type": "markdown",
   "metadata": {},
   "source": [
    "## 数据预处理和交叉验证分割"
   ]
  },
  {
   "cell_type": "code",
   "execution_count": 11,
   "metadata": {
    "ExecuteTime": {
     "end_time": "2018-11-01T05:01:01.038685Z",
     "start_time": "2018-11-01T05:00:54.784022Z"
    }
   },
   "outputs": [],
   "source": [
    "# 读取CSV\n",
    "train=pd.read_csv(f'{PATH}/train.csv')\n",
    "test=pd.read_csv(f'{PATH}/test.csv')"
   ]
  },
  {
   "cell_type": "code",
   "execution_count": 12,
   "metadata": {
    "ExecuteTime": {
     "end_time": "2018-11-01T05:01:01.079942Z",
     "start_time": "2018-11-01T05:01:01.041095Z"
    }
   },
   "outputs": [],
   "source": [
    "# 训练图像和标签\n",
    "images=train.iloc[:,1:]\n",
    "labels=train.iloc[:,0:1]"
   ]
  },
  {
   "cell_type": "code",
   "execution_count": 13,
   "metadata": {
    "ExecuteTime": {
     "end_time": "2018-11-01T05:01:01.115108Z",
     "start_time": "2018-11-01T05:01:01.082244Z"
    }
   },
   "outputs": [
    {
     "name": "stdout",
     "output_type": "stream",
     "text": [
      "(42000, 784)\n",
      "(42000, 1)\n",
      "(28000, 784)\n"
     ]
    }
   ],
   "source": [
    "print(images.shape)\n",
    "print(labels.shape)\n",
    "print(test.shape)"
   ]
  },
  {
   "cell_type": "code",
   "execution_count": 14,
   "metadata": {
    "ExecuteTime": {
     "end_time": "2018-11-01T05:01:01.151396Z",
     "start_time": "2018-11-01T05:01:01.117229Z"
    }
   },
   "outputs": [
    {
     "name": "stdout",
     "output_type": "stream",
     "text": [
      "(42000, 28, 28)\n",
      "(42000,)\n",
      "(28000, 28, 28)\n"
     ]
    }
   ],
   "source": [
    "# 一维图像转换为二维\n",
    "images = np.reshape(images.values,(-1, 28, 28))\n",
    "labels = labels.values.flatten()\n",
    "test_images =  np.reshape(test.values,(-1, 28, 28))\n",
    "print(images.shape)\n",
    "print(labels.shape)\n",
    "print(test_images.shape)"
   ]
  },
  {
   "cell_type": "code",
   "execution_count": 15,
   "metadata": {
    "ExecuteTime": {
     "end_time": "2018-11-01T05:01:02.408013Z",
     "start_time": "2018-11-01T05:01:01.153392Z"
    }
   },
   "outputs": [],
   "source": [
    "images=np.stack((images,)*3, axis=-1)# .astype('float32')\n",
    "test_images=np.stack((test_images,)*3, axis=-1) #.astype('float32')"
   ]
  },
  {
   "cell_type": "code",
   "execution_count": 16,
   "metadata": {
    "ExecuteTime": {
     "end_time": "2018-11-01T05:01:02.433006Z",
     "start_time": "2018-11-01T05:01:02.409699Z"
    }
   },
   "outputs": [
    {
     "name": "stdout",
     "output_type": "stream",
     "text": [
      "(42000, 28, 28, 3)\n",
      "(28000, 28, 28, 3)\n"
     ]
    }
   ],
   "source": [
    "print(images.shape)\n",
    "print(test_images.shape)"
   ]
  },
  {
   "cell_type": "code",
   "execution_count": 17,
   "metadata": {
    "ExecuteTime": {
     "end_time": "2018-11-01T05:01:02.488862Z",
     "start_time": "2018-11-01T05:01:02.434636Z"
    }
   },
   "outputs": [],
   "source": [
    "# 省内存\n",
    "del train\n",
    "del test"
   ]
  },
  {
   "cell_type": "code",
   "execution_count": 18,
   "metadata": {
    "ExecuteTime": {
     "end_time": "2018-11-01T05:01:02.675437Z",
     "start_time": "2018-11-01T05:01:02.490660Z"
    }
   },
   "outputs": [
    {
     "data": {
      "text/plain": [
       "<matplotlib.image.AxesImage at 0x7ff3cfba8cf8>"
      ]
     },
     "execution_count": 18,
     "metadata": {},
     "output_type": "execute_result"
    },
    {
     "data": {
      "image/png": "[encoded data removed]",
      "text/plain": [
       "<Figure size 432x288 with 1 Axes>"
      ]
     },
     "metadata": {
      "needs_background": "light"
     },
     "output_type": "display_data"
    }
   ],
   "source": [
    "# 查看数据\n",
    "plt.grid(0)\n",
    "plt.imshow(images[3])"
   ]
  },
  {
   "cell_type": "code",
   "execution_count": 19,
   "metadata": {
    "ExecuteTime": {
     "end_time": "2018-11-01T05:01:05.360178Z",
     "start_time": "2018-11-01T05:01:02.677043Z"
    }
   },
   "outputs": [],
   "source": [
    "# 分割数据集\n",
    "from sklearn.model_selection import train_test_split\n",
    "\n",
    "train_img, val_img, train_lbl, val_lbl = train_test_split(\n",
    "    images, labels, test_size=0.2, random_state=3)"
   ]
  },
  {
   "cell_type": "code",
   "execution_count": 20,
   "metadata": {
    "ExecuteTime": {
     "end_time": "2018-11-01T05:01:05.385467Z",
     "start_time": "2018-11-01T05:01:05.362003Z"
    }
   },
   "outputs": [
    {
     "name": "stdout",
     "output_type": "stream",
     "text": [
      "(33600, 28, 28, 3)\n",
      "(8400, 28, 28, 3)\n"
     ]
    }
   ],
   "source": [
    "print(train_img.shape)\n",
    "print(val_img.shape)"
   ]
  },
  {
   "cell_type": "markdown",
   "metadata": {},
   "source": [
    "## 训练模型"
   ]
  },
  {
   "cell_type": "code",
   "execution_count": 21,
   "metadata": {
    "ExecuteTime": {
     "end_time": "2018-11-01T05:01:05.433110Z",
     "start_time": "2018-11-01T05:01:05.387112Z"
    }
   },
   "outputs": [],
   "source": [
    "# 数据扩增方式\n",
    "# transformer\n",
    "tfms = tfms_from_model(arch, sz, aug_tfms=transforms_basic + [AddPadding(pad=2)] + [RandomCrop(targ_sz=28)], max_zoom=1.1)"
   ]
  },
  {
   "cell_type": "code",
   "execution_count": 22,
   "metadata": {
    "ExecuteTime": {
     "end_time": "2018-11-01T05:01:06.487048Z",
     "start_time": "2018-11-01T05:01:05.437584Z"
    }
   },
   "outputs": [],
   "source": [
    "# 构建数据加载器\n",
    "classes = np.unique(train_lbl)\n",
    "\n",
    "data=ImageClassifierData.from_arrays(path= f'{PATH}tmp',trn=(train_img/255, train_lbl),\n",
    "                                     val=(val_img/255, val_lbl),\n",
    "                                     bs = bs,\n",
    "                                     classes=classes,\n",
    "                                     test=test_images/255,\n",
    "                                     tfms=tfms)"
   ]
  },
  {
   "cell_type": "code",
   "execution_count": 23,
   "metadata": {
    "ExecuteTime": {
     "end_time": "2018-11-01T05:02:20.006489Z",
     "start_time": "2018-11-01T05:01:06.490641Z"
    }
   },
   "outputs": [
    {
     "name": "stdout",
     "output_type": "stream",
     "text": [
      "100%|██████████| 525/525 [00:35<00:00, 18.68it/s]\n",
      "100%|██████████| 132/132 [00:08<00:00, 16.30it/s]\n",
      "100%|██████████| 438/438 [00:26<00:00, 16.57it/s]\n"
     ]
    }
   ],
   "source": [
    "# 构建学习器\n",
    "learn = ConvLearner.pretrained(arch, data, precompute=True)"
   ]
  },
  {
   "cell_type": "code",
   "execution_count": 24,
   "metadata": {
    "ExecuteTime": {
     "end_time": "2018-11-01T05:02:30.449118Z",
     "start_time": "2018-11-01T05:02:20.009520Z"
    }
   },
   "outputs": [
    {
     "data": {
      "application/vnd.jupyter.widget-view+json": {
       "model_id": "c9614ac2d9bd43a6844d3c7cba819a26",
       "version_major": 2,
       "version_minor": 0
      },
      "text/plain": [
       "HBox(children=(IntProgress(value=0, description='Epoch', max=1), HTML(value='')))"
      ]
     },
     "metadata": {},
     "output_type": "display_data"
    },
    {
     "name": "stdout",
     "output_type": "stream",
     "text": [
      " 83%|████████▎ | 434/525 [00:08<00:02, 41.68it/s, loss=1.63] \n",
      "                                                            \r"
     ]
    },
    {
     "data": {
      "image/png": "[encoded data removed]",
      "text/plain": [
       "<Figure size 432x288 with 1 Axes>"
      ]
     },
     "metadata": {
      "needs_background": "light"
     },
     "output_type": "display_data"
    }
   ],
   "source": [
    "# 找最优学习率\n",
    "lrf=learn.lr_find()\n",
    "learn.sched.plot()"
   ]
  },
  {
   "cell_type": "code",
   "execution_count": 25,
   "metadata": {
    "ExecuteTime": {
     "end_time": "2018-11-01T05:04:06.936517Z",
     "start_time": "2018-11-01T05:02:30.451131Z"
    }
   },
   "outputs": [
    {
     "data": {
      "application/vnd.jupyter.widget-view+json": {
       "model_id": "52084ee56bd74861a17565150feb7c83",
       "version_major": 2,
       "version_minor": 0
      },
      "text/plain": [
       "HBox(children=(IntProgress(value=0, description='Epoch', max=8), HTML(value='')))"
      ]
     },
     "metadata": {},
     "output_type": "display_data"
    },
    {
     "name": "stdout",
     "output_type": "stream",
     "text": [
      "epoch      trn_loss   val_loss   accuracy                    \n",
      "    0      0.274983   0.199311   0.93369   \n",
      "    1      0.198208   0.15306    0.948333                    \n",
      "    2      0.213818   0.136481   0.955595                    \n",
      "    3      0.160592   0.13811    0.955357                    \n",
      "    4      0.152863   0.12799    0.959643                    \n",
      "    5      0.139646   0.129716   0.961429                    \n",
      "    6      0.142631   0.119458   0.962143                    \n",
      "    7      0.137618   0.120047   0.964405                    \n",
      "\n"
     ]
    },
    {
     "data": {
      "text/plain": [
       "[array([0.12005]), 0.9644047619047619]"
      ]
     },
     "execution_count": 25,
     "metadata": {},
     "output_type": "execute_result"
    }
   ],
   "source": [
    "# 根据曲线，选择学习率 lr= 0.1\n",
    "# 进行训练，并根据train loss和 validation loss判断是否过拟合\n",
    "learn.fit(1e-1, 8)"
   ]
  },
  {
   "cell_type": "code",
   "execution_count": 26,
   "metadata": {
    "ExecuteTime": {
     "end_time": "2018-11-01T05:04:06.986040Z",
     "start_time": "2018-11-01T05:04:06.938966Z"
    }
   },
   "outputs": [],
   "source": [
    "# 先保存模型\n",
    "# 当然目前还是欠拟合的\n",
    "learn.save('first_try')\n",
    "learn.load('first_try')"
   ]
  },
  {
   "cell_type": "markdown",
   "metadata": {},
   "source": [
    "## 模型优化"
   ]
  },
  {
   "cell_type": "code",
   "execution_count": 27,
   "metadata": {
    "ExecuteTime": {
     "end_time": "2018-11-01T05:04:08.939433Z",
     "start_time": "2018-11-01T05:04:06.988195Z"
    }
   },
   "outputs": [],
   "source": [
    "# DropOut手段\n",
    "# ps是Dropout参数\n",
    "learn = ConvLearner.pretrained(arch, data, precompute=True, ps=0.5)"
   ]
  },
  {
   "cell_type": "code",
   "execution_count": 28,
   "metadata": {
    "ExecuteTime": {
     "end_time": "2018-11-01T05:04:18.404836Z",
     "start_time": "2018-11-01T05:04:08.941507Z"
    }
   },
   "outputs": [
    {
     "data": {
      "application/vnd.jupyter.widget-view+json": {
       "model_id": "2b5b5f8503cf4908acc4c6ebe2febeb0",
       "version_major": 2,
       "version_minor": 0
      },
      "text/plain": [
       "HBox(children=(IntProgress(value=0, description='Epoch', max=1), HTML(value='')))"
      ]
     },
     "metadata": {},
     "output_type": "display_data"
    },
    {
     "name": "stdout",
     "output_type": "stream",
     "text": [
      " 83%|████████▎ | 437/525 [00:08<00:02, 38.06it/s, loss=2.06] \n",
      "                                                            \r"
     ]
    },
    {
     "data": {
      "image/png": "[encoded data removed]",
      "text/plain": [
       "<Figure size 432x288 with 1 Axes>"
      ]
     },
     "metadata": {
      "needs_background": "light"
     },
     "output_type": "display_data"
    }
   ],
   "source": [
    "# 找最优学习率\n",
    "lrf=learn.lr_find()\n",
    "learn.sched.plot()"
   ]
  },
  {
   "cell_type": "code",
   "execution_count": 29,
   "metadata": {
    "ExecuteTime": {
     "end_time": "2018-11-01T05:05:19.468033Z",
     "start_time": "2018-11-01T05:04:18.406714Z"
    },
    "code_folding": []
   },
   "outputs": [
    {
     "data": {
      "application/vnd.jupyter.widget-view+json": {
       "model_id": "3b8b0ef5659741039f40539b96c9da98",
       "version_major": 2,
       "version_minor": 0
      },
      "text/plain": [
       "HBox(children=(IntProgress(value=0, description='Epoch', max=5), HTML(value='')))"
      ]
     },
     "metadata": {},
     "output_type": "display_data"
    },
    {
     "name": "stdout",
     "output_type": "stream",
     "text": [
      "epoch      trn_loss   val_loss   accuracy                    \n",
      "    0      0.317158   0.19464    0.935119  \n",
      "    1      0.2598     0.1734     0.944881                    \n",
      "    2      0.207689   0.150801   0.952143                    \n",
      "    3      0.213899   0.13703    0.954881                    \n",
      "    4      0.174896   0.130922   0.957381                    \n",
      "\n"
     ]
    },
    {
     "data": {
      "text/plain": [
       "[array([0.13092]), 0.9573809523809523]"
      ]
     },
     "execution_count": 29,
     "metadata": {},
     "output_type": "execute_result"
    }
   ],
   "source": [
    "# 根据曲线，选择学习率 lr= 0.1\n",
    "# 进行训练，并根据train loss和 validation loss判断是否过拟合\n",
    "learn.fit(1e-1, 5)"
   ]
  },
  {
   "cell_type": "code",
   "execution_count": 30,
   "metadata": {
    "ExecuteTime": {
     "end_time": "2018-11-01T05:05:19.511703Z",
     "start_time": "2018-11-01T05:05:19.472354Z"
    }
   },
   "outputs": [],
   "source": [
    "learn.save('dropOut')\n",
    "learn.load('dropOut')"
   ]
  },
  {
   "cell_type": "code",
   "execution_count": 31,
   "metadata": {
    "ExecuteTime": {
     "end_time": "2018-11-01T05:05:19.963682Z",
     "start_time": "2018-11-01T05:05:19.513397Z"
    }
   },
   "outputs": [],
   "source": [
    "learn.precompute = False"
   ]
  },
  {
   "cell_type": "code",
   "execution_count": 32,
   "metadata": {
    "ExecuteTime": {
     "end_time": "2018-11-01T05:05:52.245252Z",
     "start_time": "2018-11-01T05:05:19.966215Z"
    }
   },
   "outputs": [
    {
     "data": {
      "application/vnd.jupyter.widget-view+json": {
       "model_id": "e79dcf81b0c74a16971e056807be37c2",
       "version_major": 2,
       "version_minor": 0
      },
      "text/plain": [
       "HBox(children=(IntProgress(value=0, description='Epoch', max=1), HTML(value='')))"
      ]
     },
     "metadata": {},
     "output_type": "display_data"
    },
    {
     "name": "stdout",
     "output_type": "stream",
     "text": [
      " 84%|████████▍ | 442/525 [00:30<00:08,  9.32it/s, loss=1.13] "
     ]
    },
    {
     "data": {
      "image/png": "[encoded data removed]",
      "text/plain": [
       "<Figure size 432x288 with 1 Axes>"
      ]
     },
     "metadata": {
      "needs_background": "light"
     },
     "output_type": "display_data"
    }
   ],
   "source": [
    "# 找最优学习率\n",
    "lrf=learn.lr_find()\n",
    "learn.sched.plot()"
   ]
  },
  {
   "cell_type": "code",
   "execution_count": 33,
   "metadata": {
    "ExecuteTime": {
     "end_time": "2018-11-01T05:16:24.807109Z",
     "start_time": "2018-11-01T05:05:52.247695Z"
    }
   },
   "outputs": [
    {
     "data": {
      "application/vnd.jupyter.widget-view+json": {
       "model_id": "3a657affda7149828ac0c70fdb2c3b08",
       "version_major": 2,
       "version_minor": 0
      },
      "text/plain": [
       "HBox(children=(IntProgress(value=0, description='Epoch', max=15), HTML(value='')))"
      ]
     },
     "metadata": {},
     "output_type": "display_data"
    },
    {
     "name": "stdout",
     "output_type": "stream",
     "text": [
      "epoch      trn_loss   val_loss   accuracy                    \n",
      "    0      0.26754    0.137729   0.955714  \n",
      "    1      0.228966   0.143739   0.954405                    \n",
      "    2      0.222551   0.129113   0.958452                    \n",
      "    3      0.234704   0.138637   0.955238                    \n",
      "    4      0.233933   0.128033   0.958214                    \n",
      "    5      0.213325   0.119944   0.960595                    \n",
      "    6      0.204307   0.122251   0.960119                    \n",
      "    7      0.234767   0.132185   0.957024                    \n",
      "    8      0.234062   0.13402    0.956786                    \n",
      "    9      0.22086    0.117657   0.961667                    \n",
      "    10     0.203032   0.123946   0.961071                    \n",
      "    11     0.183642   0.117649   0.961071                    \n",
      "    12     0.187012   0.113057   0.963095                    \n",
      "    13     0.170765   0.110144   0.964048                    \n",
      "    14     0.179473   0.110842   0.964048                    \n"
     ]
    },
    {
     "data": {
      "text/plain": [
       "[array([0.11084]), 0.964047619047619]"
      ]
     },
     "execution_count": 33,
     "metadata": {},
     "output_type": "execute_result"
    }
   ],
   "source": [
    "# 可以加上SGDR算法\n",
    "learn.fit(1e-1, n_cycle=4, cycle_len=1, cycle_mult=2)"
   ]
  },
  {
   "cell_type": "code",
   "execution_count": 34,
   "metadata": {
    "ExecuteTime": {
     "end_time": "2018-11-01T05:16:25.673948Z",
     "start_time": "2018-11-01T05:16:24.809135Z"
    }
   },
   "outputs": [
    {
     "data": {
      "image/png": "[encoded data removed]",
      "text/plain": [
       "<Figure size 432x288 with 1 Axes>"
      ]
     },
     "metadata": {
      "needs_background": "light"
     },
     "output_type": "display_data"
    }
   ],
   "source": [
    "learn.sched.plot_lr()"
   ]
  },
  {
   "cell_type": "code",
   "execution_count": 35,
   "metadata": {
    "ExecuteTime": {
     "end_time": "2018-11-01T05:21:17.961991Z",
     "start_time": "2018-11-01T05:16:25.675871Z"
    }
   },
   "outputs": [
    {
     "data": {
      "application/vnd.jupyter.widget-view+json": {
       "model_id": "86e746edc4ee447c8c1b0f3fd3d1cf66",
       "version_major": 2,
       "version_minor": 0
      },
      "text/plain": [
       "HBox(children=(IntProgress(value=0, description='Epoch', max=7), HTML(value='')))"
      ]
     },
     "metadata": {},
     "output_type": "display_data"
    },
    {
     "name": "stdout",
     "output_type": "stream",
     "text": [
      "epoch      trn_loss   val_loss   accuracy                    \n",
      "    0      0.183977   0.11308    0.964167  \n",
      "    1      0.165255   0.11386    0.963214                    \n",
      "    2      0.174176   0.113564   0.962619                    \n",
      "    3      0.174515   0.111123   0.964643                    \n",
      "    4      0.170266   0.110733   0.964405                    \n",
      "    5      0.177971   0.110655   0.96381                     \n",
      "    6      0.17023    0.109759   0.964048                    \n"
     ]
    },
    {
     "data": {
      "text/plain": [
       "[array([0.10976]), 0.964047619047619]"
      ]
     },
     "execution_count": 35,
     "metadata": {},
     "output_type": "execute_result"
    }
   ],
   "source": [
    "# 目前还是欠拟合状态\n",
    "learn.fit(1e-2, n_cycle=3, cycle_len=1, cycle_mult=2)"
   ]
  },
  {
   "cell_type": "markdown",
   "metadata": {},
   "source": [
    "## 多分布率处理"
   ]
  },
  {
   "cell_type": "code",
   "execution_count": 36,
   "metadata": {
    "ExecuteTime": {
     "end_time": "2018-11-01T05:21:17.992547Z",
     "start_time": "2018-11-01T05:21:17.964038Z"
    }
   },
   "outputs": [],
   "source": [
    "# fast.ai 获取指定size的数据集\n",
    "def get_data(sz):\n",
    "    # 此处sz是做dataloader时将图像预处理为指定sz大小\n",
    "    tfms = tfms_from_model(arch, sz, aug_tfms=transforms_basic + [AddPadding(pad=2)] + [RandomCrop(targ_sz=sz)], max_zoom=1.1)\n",
    "    return ImageClassifierData.from_arrays(path= f'{PATH}tmp',trn=(train_img/255, train_lbl),\n",
    "                                     val=(val_img/255, val_lbl),\n",
    "                                     bs = bs,\n",
    "                                     classes=classes,\n",
    "                                     test=test_images/255,\n",
    "                                     tfms=tfms)"
   ]
  },
  {
   "cell_type": "code",
   "execution_count": 37,
   "metadata": {
    "ExecuteTime": {
     "end_time": "2018-11-01T05:21:49.545643Z",
     "start_time": "2018-11-01T05:21:17.994183Z"
    }
   },
   "outputs": [
    {
     "data": {
      "application/vnd.jupyter.widget-view+json": {
       "model_id": "40d768f4fa6e48598efdbeed765a298f",
       "version_major": 2,
       "version_minor": 0
      },
      "text/plain": [
       "HBox(children=(IntProgress(value=0, description='Epoch', max=1), HTML(value='')))"
      ]
     },
     "metadata": {},
     "output_type": "display_data"
    },
    {
     "name": "stdout",
     "output_type": "stream",
     "text": [
      " 83%|████████▎ | 438/525 [00:29<00:03, 23.94it/s, loss=0.578]"
     ]
    },
    {
     "data": {
      "image/png": "[encoded data removed]",
      "text/plain": [
       "<Figure size 432x288 with 1 Axes>"
      ]
     },
     "metadata": {
      "needs_background": "light"
     },
     "output_type": "display_data"
    }
   ],
   "source": [
    "# 找最优学习率\n",
    "lrf=learn.lr_find()\n",
    "learn.sched.plot()"
   ]
  },
  {
   "cell_type": "code",
   "execution_count": 38,
   "metadata": {
    "ExecuteTime": {
     "end_time": "2018-11-01T05:21:49.577413Z",
     "start_time": "2018-11-01T05:21:49.547581Z"
    }
   },
   "outputs": [],
   "source": [
    "# differencial learning rate的分配，除了第三个参数是针对全连接层的，第一二个参数平均分配剩余测网络层\n",
    "lr = 1e-2\n",
    "lrs = np.array([lr/9,lr/3,lr])"
   ]
  },
  {
   "cell_type": "code",
   "execution_count": 39,
   "metadata": {
    "ExecuteTime": {
     "end_time": "2018-11-01T05:34:01.037399Z",
     "start_time": "2018-11-01T05:21:49.579203Z"
    }
   },
   "outputs": [
    {
     "data": {
      "application/vnd.jupyter.widget-view+json": {
       "model_id": "3bf9f55158fa43d9aba891b774ca5952",
       "version_major": 2,
       "version_minor": 0
      },
      "text/plain": [
       "HBox(children=(IntProgress(value=0, description='Epoch', max=7), HTML(value='')))"
      ]
     },
     "metadata": {},
     "output_type": "display_data"
    },
    {
     "name": "stdout",
     "output_type": "stream",
     "text": [
      "epoch      trn_loss   val_loss   accuracy                     \n",
      "    0      0.105211   0.052219   0.983929  \n",
      "    1      0.072058   0.038679   0.987143                     \n",
      "    2      0.04859    0.031206   0.990714                     \n",
      "    3      0.049083   0.034584   0.988929                     \n",
      "    4      0.040643   0.028713   0.990476                     \n",
      "    5      0.029351   0.02445    0.991786                     \n",
      "    6      0.026229   0.023161   0.991905                     \n"
     ]
    },
    {
     "data": {
      "text/plain": [
       "[array([0.02316]), 0.991904761904762]"
      ]
     },
     "execution_count": 39,
     "metadata": {},
     "output_type": "execute_result"
    }
   ],
   "source": [
    "# 从新训练\n",
    "# 事实上，可以直接跳过从预训练模型中训练全连接层参数这一步，直接unfreeze进行全部权重的训练\n",
    "# 但是，预训练模型的卷积层参数不是随机的，而是在ImageNet数据集上训练过的。\n",
    "#（对于与ImageNet类似的数据，是好事，对于与ImageNet不同的数据集，也比没有要好）\n",
    "# 但是全连接层又是全部随机的，所以对于全连接层，可以先进行一次训练（在预训练卷积参数的帮助下），使之比随机要好，\n",
    "# 然后再放开卷积层的参数，对其进行全部的训练\n",
    "learn.unfreeze()\n",
    "learn.fit(lrs, 3, cycle_len=1, cycle_mult=2)"
   ]
  },
  {
   "cell_type": "code",
   "execution_count": 40,
   "metadata": {
    "ExecuteTime": {
     "end_time": "2018-11-01T05:34:01.302404Z",
     "start_time": "2018-11-01T05:34:01.040782Z"
    }
   },
   "outputs": [],
   "source": [
    "learn.save(f'{sz}')"
   ]
  },
  {
   "cell_type": "code",
   "execution_count": 41,
   "metadata": {
    "ExecuteTime": {
     "end_time": "2018-11-01T05:34:02.025644Z",
     "start_time": "2018-11-01T05:34:01.304542Z"
    }
   },
   "outputs": [
    {
     "data": {
      "image/png": "[encoded data removed]",
      "text/plain": [
       "<Figure size 432x288 with 1 Axes>"
      ]
     },
     "metadata": {
      "needs_background": "light"
     },
     "output_type": "display_data"
    }
   ],
   "source": [
    "learn.sched.plot_loss()"
   ]
  },
  {
   "cell_type": "code",
   "execution_count": 42,
   "metadata": {
    "ExecuteTime": {
     "end_time": "2018-11-01T05:34:02.055173Z",
     "start_time": "2018-11-01T05:34:02.027618Z"
    }
   },
   "outputs": [],
   "source": [
    "sz=56"
   ]
  },
  {
   "cell_type": "code",
   "execution_count": 43,
   "metadata": {
    "ExecuteTime": {
     "end_time": "2018-11-01T05:40:07.141114Z",
     "start_time": "2018-11-01T05:34:02.056965Z"
    }
   },
   "outputs": [
    {
     "data": {
      "application/vnd.jupyter.widget-view+json": {
       "model_id": "df65dd1489124ab99f6dc24d4a429415",
       "version_major": 2,
       "version_minor": 0
      },
      "text/plain": [
       "HBox(children=(IntProgress(value=0, description='Epoch', max=7), HTML(value='')))"
      ]
     },
     "metadata": {},
     "output_type": "display_data"
    },
    {
     "name": "stdout",
     "output_type": "stream",
     "text": [
      "epoch      trn_loss   val_loss   accuracy                    \n",
      "    0      0.757907   0.570661   0.844286  \n",
      "    1      0.499019   0.304121   0.914405                    \n",
      "    2      0.455893   0.281939   0.918571                    \n",
      "    3      0.402226   0.225838   0.934643                    \n",
      "    4      0.36548    0.193338   0.942381                    \n",
      "    5      0.325702   0.182049   0.947024                    \n",
      "    6      0.318741   0.175933   0.948452                    \n"
     ]
    },
    {
     "data": {
      "text/plain": [
       "[array([0.17593]), 0.9484523809523809]"
      ]
     },
     "execution_count": 43,
     "metadata": {},
     "output_type": "execute_result"
    }
   ],
   "source": [
    "learn.set_data(get_data(sz))\n",
    "learn.freeze()\n",
    "learn.fit(lr, 3, cycle_len=1, cycle_mult=2)"
   ]
  },
  {
   "cell_type": "code",
   "execution_count": 44,
   "metadata": {
    "ExecuteTime": {
     "end_time": "2018-11-01T05:56:34.848819Z",
     "start_time": "2018-11-01T05:40:07.143590Z"
    }
   },
   "outputs": [
    {
     "data": {
      "application/vnd.jupyter.widget-view+json": {
       "model_id": "777cef0d89a3409eaa555b16ba955154",
       "version_major": 2,
       "version_minor": 0
      },
      "text/plain": [
       "HBox(children=(IntProgress(value=0, description='Epoch', max=7), HTML(value='')))"
      ]
     },
     "metadata": {},
     "output_type": "display_data"
    },
    {
     "name": "stdout",
     "output_type": "stream",
     "text": [
      "epoch      trn_loss   val_loss   accuracy                     \n",
      "    0      0.058693   0.034893   0.989524  \n",
      "    1      0.054986   0.026994   0.992143                     \n",
      "    2      0.036006   0.021957   0.992619                     \n",
      "    3      0.034336   0.025406   0.99131                      \n",
      "    4      0.026008   0.021791   0.991905                     \n",
      "    5      0.014845   0.020832   0.993452                     \n",
      "    6      0.013636   0.01937    0.99381                      \n"
     ]
    },
    {
     "data": {
      "image/png": "[encoded data removed]",
      "text/plain": [
       "<Figure size 432x288 with 1 Axes>"
      ]
     },
     "metadata": {
      "needs_background": "light"
     },
     "output_type": "display_data"
    }
   ],
   "source": [
    "learn.unfreeze()\n",
    "learn.fit(lrs, 3, cycle_len=1, cycle_mult=2)\n",
    "learn.save(f'{sz}')\n",
    "learn.sched.plot_loss()"
   ]
  },
  {
   "cell_type": "code",
   "execution_count": 50,
   "metadata": {
    "ExecuteTime": {
     "end_time": "2018-11-01T07:34:20.422585Z",
     "start_time": "2018-11-01T07:34:17.270433Z"
    }
   },
   "outputs": [],
   "source": [
    "learn.load('56')"
   ]
  },
  {
   "cell_type": "code",
   "execution_count": 52,
   "metadata": {
    "ExecuteTime": {
     "end_time": "2018-11-01T07:37:04.642774Z",
     "start_time": "2018-11-01T07:37:04.611294Z"
    }
   },
   "outputs": [],
   "source": [
    "# sz为56时已经很完美了，trainloss越等于validationloss了。\n",
    "sz=112"
   ]
  },
  {
   "cell_type": "code",
   "execution_count": 47,
   "metadata": {
    "ExecuteTime": {
     "end_time": "2018-11-01T06:06:47.324557Z",
     "start_time": "2018-11-01T05:56:37.416901Z"
    }
   },
   "outputs": [
    {
     "data": {
      "application/vnd.jupyter.widget-view+json": {
       "model_id": "f51175cdae044a5eb653030d315d15f3",
       "version_major": 2,
       "version_minor": 0
      },
      "text/plain": [
       "HBox(children=(IntProgress(value=0, description='Epoch', max=7), HTML(value='')))"
      ]
     },
     "metadata": {},
     "output_type": "display_data"
    },
    {
     "name": "stdout",
     "output_type": "stream",
     "text": [
      "epoch      trn_loss   val_loss   accuracy                    \n",
      "    0      1.185216   0.996413   0.669762  \n",
      "    1      0.96527    0.736496   0.766905                    \n",
      "    2      0.868851   0.669329   0.790714                    \n",
      "    3      0.813786   0.56094    0.823571                    \n",
      "    4      0.743812   0.505451   0.842619                    \n",
      "    5      0.714868   0.486642   0.846905                    \n",
      "    6      0.705779   0.492632   0.8425                      \n"
     ]
    },
    {
     "data": {
      "text/plain": [
       "[array([0.49263]), 0.8425]"
      ]
     },
     "execution_count": 47,
     "metadata": {},
     "output_type": "execute_result"
    }
   ],
   "source": [
    "learn.set_data(get_data(sz))\n",
    "learn.freeze()\n",
    "learn.fit(lr, 3, cycle_len=1, cycle_mult=2)"
   ]
  },
  {
   "cell_type": "code",
   "execution_count": 48,
   "metadata": {
    "ExecuteTime": {
     "end_time": "2018-11-01T06:36:00.131905Z",
     "start_time": "2018-11-01T06:06:47.326575Z"
    }
   },
   "outputs": [
    {
     "data": {
      "application/vnd.jupyter.widget-view+json": {
       "model_id": "b4a181e8deef4aba8bd6c7685954128d",
       "version_major": 2,
       "version_minor": 0
      },
      "text/plain": [
       "HBox(children=(IntProgress(value=0, description='Epoch', max=7), HTML(value='')))"
      ]
     },
     "metadata": {},
     "output_type": "display_data"
    },
    {
     "name": "stdout",
     "output_type": "stream",
     "text": [
      "epoch      trn_loss   val_loss   accuracy                     \n",
      "    0      0.056944   0.039509   0.98869   \n",
      "    1      0.042435   0.028595   0.99119                      \n",
      "    2      0.024617   0.023517   0.992262                     \n",
      "    3      0.033676   0.022817   0.992976                     \n",
      "    4      0.022803   0.022622   0.993571                     \n",
      "    5      0.013123   0.019921   0.994524                     \n",
      "    6      0.012305   0.01797    0.994881                      \n"
     ]
    },
    {
     "data": {
      "image/png": "[encoded data removed]",
      "text/plain": [
       "<Figure size 432x288 with 1 Axes>"
      ]
     },
     "metadata": {
      "needs_background": "light"
     },
     "output_type": "display_data"
    }
   ],
   "source": [
    "learn.unfreeze()\n",
    "learn.fit(lrs, 3, cycle_len=1, cycle_mult=2)\n",
    "learn.save(f'{sz}')\n",
    "learn.sched.plot_loss()"
   ]
  },
  {
   "cell_type": "markdown",
   "metadata": {},
   "source": [
    "## 提交后微调"
   ]
  },
  {
   "cell_type": "code",
   "execution_count": 54,
   "metadata": {
    "ExecuteTime": {
     "end_time": "2018-11-01T07:37:36.113725Z",
     "start_time": "2018-11-01T07:37:33.617061Z"
    }
   },
   "outputs": [],
   "source": [
    "learn.load('112')"
   ]
  },
  {
   "cell_type": "code",
   "execution_count": 68,
   "metadata": {
    "ExecuteTime": {
     "end_time": "2018-11-01T07:58:53.270852Z",
     "start_time": "2018-11-01T07:58:53.235426Z"
    }
   },
   "outputs": [],
   "source": [
    "sz=28"
   ]
  },
  {
   "cell_type": "code",
   "execution_count": 69,
   "metadata": {
    "ExecuteTime": {
     "end_time": "2018-11-01T07:59:12.844611Z",
     "start_time": "2018-11-01T07:59:11.441289Z"
    }
   },
   "outputs": [],
   "source": [
    "learn.set_data(get_data(sz))\n",
    "learn.freeze()"
   ]
  },
  {
   "cell_type": "code",
   "execution_count": 70,
   "metadata": {
    "ExecuteTime": {
     "end_time": "2018-11-01T08:00:02.437868Z",
     "start_time": "2018-11-01T07:59:28.227170Z"
    }
   },
   "outputs": [
    {
     "data": {
      "application/vnd.jupyter.widget-view+json": {
       "model_id": "15b3c32526f5441c90d74f00d3e488d8",
       "version_major": 2,
       "version_minor": 0
      },
      "text/plain": [
       "HBox(children=(IntProgress(value=0, description='Epoch', max=1), HTML(value='')))"
      ]
     },
     "metadata": {},
     "output_type": "display_data"
    },
    {
     "name": "stdout",
     "output_type": "stream",
     "text": [
      " 86%|████████▋ | 453/525 [00:31<00:06, 10.91it/s, loss=0.832]"
     ]
    },
    {
     "data": {
      "image/png": "[encoded data removed]",
      "text/plain": [
       "<Figure size 432x288 with 1 Axes>"
      ]
     },
     "metadata": {
      "needs_background": "light"
     },
     "output_type": "display_data"
    }
   ],
   "source": [
    "# 找最优学习率\n",
    "lrf=learn.lr_find()\n",
    "learn.sched.plot()"
   ]
  },
  {
   "cell_type": "code",
   "execution_count": 71,
   "metadata": {
    "ExecuteTime": {
     "end_time": "2018-11-01T08:06:07.042849Z",
     "start_time": "2018-11-01T08:01:09.276241Z"
    }
   },
   "outputs": [
    {
     "data": {
      "application/vnd.jupyter.widget-view+json": {
       "model_id": "0b5fb6ddfa24487785a8f310e77cf876",
       "version_major": 2,
       "version_minor": 0
      },
      "text/plain": [
       "HBox(children=(IntProgress(value=0, description='Epoch', max=7), HTML(value='')))"
      ]
     },
     "metadata": {},
     "output_type": "display_data"
    },
    {
     "name": "stdout",
     "output_type": "stream",
     "text": [
      "epoch      trn_loss   val_loss   accuracy                    \n",
      "    0      0.14694    0.080192   0.974643  \n",
      "    1      0.111392   0.06995    0.9775                      \n",
      "    2      0.106289   0.060855   0.980595                     \n",
      "    3      0.101301   0.068429   0.978333                     \n",
      "    4      0.103459   0.053477   0.981786                     \n",
      "    5      0.082989   0.052716   0.982857                     \n",
      "    6      0.083448   0.051086   0.982619                     \n"
     ]
    },
    {
     "data": {
      "text/plain": [
       "[array([0.05109]), 0.9826190476190476]"
      ]
     },
     "execution_count": 71,
     "metadata": {},
     "output_type": "execute_result"
    }
   ],
   "source": [
    "# differencial learning rate的分配，除了第三个参数是针对全连接层的，第一二个参数平均分配剩余测网络层\n",
    "lr = 1e-1\n",
    "lrs = np.array([lr/9,lr/3,lr])\n",
    "learn.fit(lr, 3, cycle_len=1, cycle_mult=2)"
   ]
  },
  {
   "cell_type": "code",
   "execution_count": 72,
   "metadata": {
    "ExecuteTime": {
     "end_time": "2018-11-01T08:06:46.667796Z",
     "start_time": "2018-11-01T08:06:14.206611Z"
    }
   },
   "outputs": [
    {
     "data": {
      "application/vnd.jupyter.widget-view+json": {
       "model_id": "f31628e7045a4a168bd29619ec005a0c",
       "version_major": 2,
       "version_minor": 0
      },
      "text/plain": [
       "HBox(children=(IntProgress(value=0, description='Epoch', max=1), HTML(value='')))"
      ]
     },
     "metadata": {},
     "output_type": "display_data"
    },
    {
     "name": "stdout",
     "output_type": "stream",
     "text": [
      " 85%|████████▌ | 448/525 [00:31<00:10,  7.29it/s, loss=0.265] "
     ]
    },
    {
     "data": {
      "image/png": "[encoded data removed]",
      "text/plain": [
       "<Figure size 432x288 with 1 Axes>"
      ]
     },
     "metadata": {
      "needs_background": "light"
     },
     "output_type": "display_data"
    }
   ],
   "source": [
    "# 找最优学习率\n",
    "lrf=learn.lr_find()\n",
    "learn.sched.plot()"
   ]
  },
  {
   "cell_type": "code",
   "execution_count": 73,
   "metadata": {
    "ExecuteTime": {
     "end_time": "2018-11-01T08:06:51.490306Z",
     "start_time": "2018-11-01T08:06:51.438125Z"
    }
   },
   "outputs": [],
   "source": [
    "learn.unfreeze()"
   ]
  },
  {
   "cell_type": "code",
   "execution_count": 74,
   "metadata": {
    "ExecuteTime": {
     "end_time": "2018-11-01T08:08:06.204511Z",
     "start_time": "2018-11-01T08:06:53.379886Z"
    }
   },
   "outputs": [
    {
     "data": {
      "application/vnd.jupyter.widget-view+json": {
       "model_id": "0b802b3c460b4b02a5a32167d8882dd1",
       "version_major": 2,
       "version_minor": 0
      },
      "text/plain": [
       "HBox(children=(IntProgress(value=0, description='Epoch', max=1), HTML(value='')))"
      ]
     },
     "metadata": {},
     "output_type": "display_data"
    },
    {
     "name": "stdout",
     "output_type": "stream",
     "text": [
      " 73%|███████▎  | 384/525 [01:11<00:22,  6.22it/s, loss=0.435]"
     ]
    },
    {
     "data": {
      "image/png": "[encoded data removed]",
      "text/plain": [
       "<Figure size 432x288 with 1 Axes>"
      ]
     },
     "metadata": {
      "needs_background": "light"
     },
     "output_type": "display_data"
    }
   ],
   "source": [
    "lrf=learn.lr_find()\n",
    "learn.sched.plot()"
   ]
  },
  {
   "cell_type": "code",
   "execution_count": 75,
   "metadata": {
    "ExecuteTime": {
     "end_time": "2018-11-01T08:20:41.897242Z",
     "start_time": "2018-11-01T08:08:32.847324Z"
    }
   },
   "outputs": [
    {
     "data": {
      "application/vnd.jupyter.widget-view+json": {
       "model_id": "a8a6d72b601a4497873fcd10e4a1d051",
       "version_major": 2,
       "version_minor": 0
      },
      "text/plain": [
       "HBox(children=(IntProgress(value=0, description='Epoch', max=7), HTML(value='')))"
      ]
     },
     "metadata": {},
     "output_type": "display_data"
    },
    {
     "name": "stdout",
     "output_type": "stream",
     "text": [
      "epoch      trn_loss   val_loss   accuracy                     \n",
      "    0      0.058292   0.027155   0.991786  \n",
      "    1      0.042599   0.024554   0.992738                     \n",
      "    2      0.04625    0.023759   0.992738                     \n",
      "    3      0.050641   0.023497   0.993333                     \n",
      "    4      0.030357   0.022129   0.992976                     \n",
      "    5      0.036625   0.021471   0.994048                     \n",
      "    6      0.034601   0.021643   0.994048                     \n"
     ]
    },
    {
     "data": {
      "image/png": "[encoded data removed]",
      "text/plain": [
       "<Figure size 432x288 with 1 Axes>"
      ]
     },
     "metadata": {
      "needs_background": "light"
     },
     "output_type": "display_data"
    }
   ],
   "source": [
    "lr = 1e-3\n",
    "lrs = np.array([lr/9,lr/3,lr])\n",
    "learn.fit(lrs, 3, cycle_len=1, cycle_mult=2)\n",
    "learn.save(f'{sz}Again')\n",
    "learn.sched.plot_loss()"
   ]
  },
  {
   "cell_type": "code",
   "execution_count": 76,
   "metadata": {
    "ExecuteTime": {
     "end_time": "2018-11-01T08:22:07.438456Z",
     "start_time": "2018-11-01T08:21:13.913693Z"
    }
   },
   "outputs": [
    {
     "data": {
      "application/vnd.jupyter.widget-view+json": {
       "model_id": "00128e580c6345c7be476febe927fc26",
       "version_major": 2,
       "version_minor": 0
      },
      "text/plain": [
       "HBox(children=(IntProgress(value=0, description='Epoch', max=1), HTML(value='')))"
      ]
     },
     "metadata": {},
     "output_type": "display_data"
    },
    {
     "name": "stdout",
     "output_type": "stream",
     "text": [
      " 51%|█████▏    | 270/525 [00:50<00:40,  6.22it/s, loss=0.095] "
     ]
    },
    {
     "data": {
      "image/png": "[encoded data removed]",
      "text/plain": [
       "<Figure size 432x288 with 1 Axes>"
      ]
     },
     "metadata": {
      "needs_background": "light"
     },
     "output_type": "display_data"
    }
   ],
   "source": [
    "# 还有继续拟合空间\n",
    "lrf=learn.lr_find()\n",
    "learn.sched.plot()"
   ]
  },
  {
   "cell_type": "code",
   "execution_count": 77,
   "metadata": {
    "ExecuteTime": {
     "end_time": "2018-11-01T08:34:45.185315Z",
     "start_time": "2018-11-01T08:22:38.276397Z"
    }
   },
   "outputs": [
    {
     "data": {
      "application/vnd.jupyter.widget-view+json": {
       "model_id": "48a667634ce0412c81d06178db1b03e2",
       "version_major": 2,
       "version_minor": 0
      },
      "text/plain": [
       "HBox(children=(IntProgress(value=0, description='Epoch', max=7), HTML(value='')))"
      ]
     },
     "metadata": {},
     "output_type": "display_data"
    },
    {
     "name": "stdout",
     "output_type": "stream",
     "text": [
      "epoch      trn_loss   val_loss   accuracy                     \n",
      "    0      0.030013   0.021631   0.993452  \n",
      "    1      0.038439   0.021415   0.993571                     \n",
      "    2      0.036066   0.021714   0.993214                     \n",
      "    3      0.028524   0.020903   0.99381                      \n",
      "    4      0.026395   0.022412   0.993571                     \n",
      "    5      0.027481   0.021069   0.994524                     \n",
      "    6      0.032142   0.02132    0.993929                     \n"
     ]
    },
    {
     "data": {
      "image/png": "[encoded data removed]",
      "text/plain": [
       "<Figure size 432x288 with 1 Axes>"
      ]
     },
     "metadata": {
      "needs_background": "light"
     },
     "output_type": "display_data"
    }
   ],
   "source": [
    "lr = 1e-4\n",
    "lrs = np.array([lr/9,lr/3,lr])\n",
    "learn.fit(lrs, 3, cycle_len=1, cycle_mult=2)\n",
    "learn.save(f'{sz}Again2')\n",
    "learn.sched.plot_loss()"
   ]
  },
  {
   "cell_type": "markdown",
   "metadata": {},
   "source": [
    "loss降不下去了。"
   ]
  },
  {
   "cell_type": "code",
   "execution_count": 79,
   "metadata": {
    "ExecuteTime": {
     "end_time": "2018-11-01T08:39:29.367243Z",
     "start_time": "2018-11-01T08:39:27.944232Z"
    }
   },
   "outputs": [],
   "source": [
    "sz=112\n",
    "learn.set_data(get_data(sz))\n",
    "learn.freeze()"
   ]
  },
  {
   "cell_type": "code",
   "execution_count": 80,
   "metadata": {
    "ExecuteTime": {
     "end_time": "2018-11-01T08:40:45.563219Z",
     "start_time": "2018-11-01T08:39:46.769051Z"
    }
   },
   "outputs": [
    {
     "data": {
      "application/vnd.jupyter.widget-view+json": {
       "model_id": "4600f57ef7404f9e92bc0b689c9f62d4",
       "version_major": 2,
       "version_minor": 0
      },
      "text/plain": [
       "HBox(children=(IntProgress(value=0, description='Epoch', max=1), HTML(value='')))"
      ]
     },
     "metadata": {},
     "output_type": "display_data"
    },
    {
     "name": "stdout",
     "output_type": "stream",
     "text": [
      " 84%|████████▍ | 441/525 [00:56<00:14,  5.81it/s, loss=4.92]"
     ]
    },
    {
     "data": {
      "image/png": "[encoded data removed]",
      "text/plain": [
       "<Figure size 432x288 with 1 Axes>"
      ]
     },
     "metadata": {
      "needs_background": "light"
     },
     "output_type": "display_data"
    }
   ],
   "source": [
    "lrf=learn.lr_find()\n",
    "learn.sched.plot()"
   ]
  },
  {
   "cell_type": "code",
   "execution_count": 81,
   "metadata": {
    "ExecuteTime": {
     "end_time": "2018-11-01T08:52:00.419849Z",
     "start_time": "2018-11-01T08:41:59.091935Z"
    }
   },
   "outputs": [
    {
     "data": {
      "application/vnd.jupyter.widget-view+json": {
       "model_id": "8b7c637252874c20b67dbf53a400ac69",
       "version_major": 2,
       "version_minor": 0
      },
      "text/plain": [
       "HBox(children=(IntProgress(value=0, description='Epoch', max=7), HTML(value='')))"
      ]
     },
     "metadata": {},
     "output_type": "display_data"
    },
    {
     "name": "stdout",
     "output_type": "stream",
     "text": [
      "epoch      trn_loss   val_loss   accuracy                    \n",
      "    0      1.091641   0.756396   0.803214  \n",
      "    1      0.767363   0.420683   0.885                       \n",
      "    2      0.691721   0.382925   0.892976                    \n",
      "    3      0.631434   0.319758   0.909881                    \n",
      "    4      0.580153   0.291494   0.918095                    \n",
      "    5      0.568056   0.271639   0.921786                    \n",
      "    6      0.554687   0.264963   0.923214                    \n"
     ]
    },
    {
     "data": {
      "text/plain": [
       "[array([0.26496]), 0.9232142857142858]"
      ]
     },
     "execution_count": 81,
     "metadata": {},
     "output_type": "execute_result"
    }
   ],
   "source": [
    "lr = 1e-2\n",
    "lrs = np.array([lr/9,lr/3,lr])\n",
    "learn.fit(lr, 3, cycle_len=1, cycle_mult=2)"
   ]
  },
  {
   "cell_type": "code",
   "execution_count": 82,
   "metadata": {
    "ExecuteTime": {
     "end_time": "2018-11-01T08:56:20.533455Z",
     "start_time": "2018-11-01T08:53:29.424873Z"
    }
   },
   "outputs": [
    {
     "data": {
      "application/vnd.jupyter.widget-view+json": {
       "model_id": "6482e6334b9647f08bb94f356b33f9d8",
       "version_major": 2,
       "version_minor": 0
      },
      "text/plain": [
       "HBox(children=(IntProgress(value=0, description='Epoch', max=1), HTML(value='')))"
      ]
     },
     "metadata": {},
     "output_type": "display_data"
    },
    {
     "name": "stdout",
     "output_type": "stream",
     "text": [
      " 73%|███████▎  | 382/525 [02:46<01:00,  2.36it/s, loss=0.252] "
     ]
    },
    {
     "data": {
      "image/png": "[encoded data removed]",
      "text/plain": [
       "<Figure size 432x288 with 1 Axes>"
      ]
     },
     "metadata": {
      "needs_background": "light"
     },
     "output_type": "display_data"
    }
   ],
   "source": [
    "learn.unfreeze()\n",
    "lrf=learn.lr_find()\n",
    "learn.sched.plot()"
   ]
  },
  {
   "cell_type": "code",
   "execution_count": 83,
   "metadata": {
    "ExecuteTime": {
     "end_time": "2018-11-01T09:27:04.040344Z",
     "start_time": "2018-11-01T08:58:14.178643Z"
    }
   },
   "outputs": [
    {
     "data": {
      "application/vnd.jupyter.widget-view+json": {
       "model_id": "dc050843b6014d5e865871fdcf0b7581",
       "version_major": 2,
       "version_minor": 0
      },
      "text/plain": [
       "HBox(children=(IntProgress(value=0, description='Epoch', max=7), HTML(value='')))"
      ]
     },
     "metadata": {},
     "output_type": "display_data"
    },
    {
     "name": "stdout",
     "output_type": "stream",
     "text": [
      "epoch      trn_loss   val_loss   accuracy                     \n",
      "    0      0.022228   0.020633   0.993929  \n",
      "    1      0.020429   0.01919    0.993929                     \n",
      "    2      0.014612   0.017838   0.994762                     \n",
      "    3      0.015562   0.022461   0.993333                      \n",
      "    4      0.010581   0.022268   0.993929                      \n",
      "    5      0.00785    0.020098   0.994048                      \n",
      "    6      0.004554   0.018898   0.99381                       \n"
     ]
    },
    {
     "data": {
      "image/png": "[encoded data removed]",
      "text/plain": [
       "<Figure size 432x288 with 1 Axes>"
      ]
     },
     "metadata": {
      "needs_background": "light"
     },
     "output_type": "display_data"
    }
   ],
   "source": [
    "lr = 5e-3\n",
    "lrs = np.array([lr/9,lr/3,lr])\n",
    "learn.fit(lrs, 3, cycle_len=1, cycle_mult=2)\n",
    "learn.save(f'{sz}Again3')\n",
    "learn.sched.plot_loss()"
   ]
  },
  {
   "cell_type": "markdown",
   "metadata": {
    "ExecuteTime": {
     "end_time": "2018-11-01T07:41:00.370493Z",
     "start_time": "2018-11-01T07:40:59.805482Z"
    }
   },
   "source": [
    "## 预测提交"
   ]
  },
  {
   "cell_type": "code",
   "execution_count": 84,
   "metadata": {
    "ExecuteTime": {
     "end_time": "2018-11-01T09:57:19.931424Z",
     "start_time": "2018-11-01T09:52:44.466530Z"
    }
   },
   "outputs": [
    {
     "name": "stdout",
     "output_type": "stream",
     "text": [
      "                                             \r"
     ]
    },
    {
     "data": {
      "text/plain": [
       "(28000, 10)"
      ]
     },
     "execution_count": 84,
     "metadata": {},
     "output_type": "execute_result"
    }
   ],
   "source": [
    "log_preds_test, y_test=learn.TTA(is_test=True)\n",
    "probs_test=np.mean(np.exp(log_preds_test),0)\n",
    "probs_test.shape"
   ]
  },
  {
   "cell_type": "code",
   "execution_count": 85,
   "metadata": {
    "ExecuteTime": {
     "end_time": "2018-11-01T09:57:22.002444Z",
     "start_time": "2018-11-01T09:57:21.956727Z"
    }
   },
   "outputs": [
    {
     "data": {
      "text/html": [
       "<div>\n",
       "<style scoped>\n",
       "    .dataframe tbody tr th:only-of-type {\n",
       "        vertical-align: middle;\n",
       "    }\n",
       "\n",
       "    .dataframe tbody tr th {\n",
       "        vertical-align: top;\n",
       "    }\n",
       "\n",
       "    .dataframe thead th {\n",
       "        text-align: right;\n",
       "    }\n",
       "</style>\n",
       "<table border=\"1\" class=\"dataframe\">\n",
       "  <thead>\n",
       "    <tr style=\"text-align: right;\">\n",
       "      <th></th>\n",
       "      <th>0</th>\n",
       "      <th>1</th>\n",
       "      <th>2</th>\n",
       "      <th>3</th>\n",
       "      <th>4</th>\n",
       "      <th>5</th>\n",
       "      <th>6</th>\n",
       "      <th>7</th>\n",
       "      <th>8</th>\n",
       "      <th>9</th>\n",
       "    </tr>\n",
       "  </thead>\n",
       "  <tbody>\n",
       "    <tr>\n",
       "      <th>0</th>\n",
       "      <td>0.000017</td>\n",
       "      <td>3.990781e-06</td>\n",
       "      <td>9.998549e-01</td>\n",
       "      <td>6.500037e-05</td>\n",
       "      <td>2.669223e-06</td>\n",
       "      <td>3.329097e-06</td>\n",
       "      <td>4.568560e-06</td>\n",
       "      <td>3.594458e-05</td>\n",
       "      <td>0.000008</td>\n",
       "      <td>0.000005</td>\n",
       "    </tr>\n",
       "    <tr>\n",
       "      <th>1</th>\n",
       "      <td>0.999985</td>\n",
       "      <td>3.287467e-07</td>\n",
       "      <td>7.486570e-07</td>\n",
       "      <td>1.814502e-07</td>\n",
       "      <td>1.493309e-07</td>\n",
       "      <td>6.618133e-07</td>\n",
       "      <td>8.587524e-06</td>\n",
       "      <td>2.826225e-07</td>\n",
       "      <td>0.000001</td>\n",
       "      <td>0.000002</td>\n",
       "    </tr>\n",
       "    <tr>\n",
       "      <th>2</th>\n",
       "      <td>0.000019</td>\n",
       "      <td>1.306887e-06</td>\n",
       "      <td>1.431316e-04</td>\n",
       "      <td>4.553310e-06</td>\n",
       "      <td>2.107268e-04</td>\n",
       "      <td>6.744819e-06</td>\n",
       "      <td>1.101093e-05</td>\n",
       "      <td>3.909314e-04</td>\n",
       "      <td>0.000048</td>\n",
       "      <td>0.999165</td>\n",
       "    </tr>\n",
       "    <tr>\n",
       "      <th>3</th>\n",
       "      <td>0.998095</td>\n",
       "      <td>1.450757e-05</td>\n",
       "      <td>6.196879e-04</td>\n",
       "      <td>3.026148e-05</td>\n",
       "      <td>3.212359e-06</td>\n",
       "      <td>2.989436e-05</td>\n",
       "      <td>8.257570e-04</td>\n",
       "      <td>2.177610e-05</td>\n",
       "      <td>0.000107</td>\n",
       "      <td>0.000252</td>\n",
       "    </tr>\n",
       "    <tr>\n",
       "      <th>4</th>\n",
       "      <td>0.000002</td>\n",
       "      <td>1.282164e-06</td>\n",
       "      <td>1.330045e-04</td>\n",
       "      <td>9.995996e-01</td>\n",
       "      <td>5.865684e-08</td>\n",
       "      <td>8.057583e-05</td>\n",
       "      <td>1.854530e-07</td>\n",
       "      <td>3.295734e-06</td>\n",
       "      <td>0.000177</td>\n",
       "      <td>0.000003</td>\n",
       "    </tr>\n",
       "  </tbody>\n",
       "</table>\n",
       "</div>"
      ],
      "text/plain": [
       "          0             1             2             3             4  \\\n",
       "0  0.000017  3.990781e-06  9.998549e-01  6.500037e-05  2.669223e-06   \n",
       "1  0.999985  3.287467e-07  7.486570e-07  1.814502e-07  1.493309e-07   \n",
       "2  0.000019  1.306887e-06  1.431316e-04  4.553310e-06  2.107268e-04   \n",
       "3  0.998095  1.450757e-05  6.196879e-04  3.026148e-05  3.212359e-06   \n",
       "4  0.000002  1.282164e-06  1.330045e-04  9.995996e-01  5.865684e-08   \n",
       "\n",
       "              5             6             7         8         9  \n",
       "0  3.329097e-06  4.568560e-06  3.594458e-05  0.000008  0.000005  \n",
       "1  6.618133e-07  8.587524e-06  2.826225e-07  0.000001  0.000002  \n",
       "2  6.744819e-06  1.101093e-05  3.909314e-04  0.000048  0.999165  \n",
       "3  2.989436e-05  8.257570e-04  2.177610e-05  0.000107  0.000252  \n",
       "4  8.057583e-05  1.854530e-07  3.295734e-06  0.000177  0.000003  "
      ]
     },
     "execution_count": 85,
     "metadata": {},
     "output_type": "execute_result"
    }
   ],
   "source": [
    "# 转成pandas格式\n",
    "df = pd.DataFrame(probs_test)\n",
    "df.head()"
   ]
  },
  {
   "cell_type": "code",
   "execution_count": 86,
   "metadata": {
    "ExecuteTime": {
     "end_time": "2018-11-01T09:57:23.475550Z",
     "start_time": "2018-11-01T09:57:23.446071Z"
    }
   },
   "outputs": [],
   "source": [
    "# 找概率最大的作为结果\n",
    "df=df.assign(Label=df.values.argmax(axis=1))\n",
    "df=df.assign(ImageId=df.index.values+1)"
   ]
  },
  {
   "cell_type": "code",
   "execution_count": 87,
   "metadata": {
    "ExecuteTime": {
     "end_time": "2018-11-01T09:57:24.752365Z",
     "start_time": "2018-11-01T09:57:24.710033Z"
    }
   },
   "outputs": [
    {
     "data": {
      "text/html": [
       "<div>\n",
       "<style scoped>\n",
       "    .dataframe tbody tr th:only-of-type {\n",
       "        vertical-align: middle;\n",
       "    }\n",
       "\n",
       "    .dataframe tbody tr th {\n",
       "        vertical-align: top;\n",
       "    }\n",
       "\n",
       "    .dataframe thead th {\n",
       "        text-align: right;\n",
       "    }\n",
       "</style>\n",
       "<table border=\"1\" class=\"dataframe\">\n",
       "  <thead>\n",
       "    <tr style=\"text-align: right;\">\n",
       "      <th></th>\n",
       "      <th>ImageId</th>\n",
       "      <th>Label</th>\n",
       "    </tr>\n",
       "  </thead>\n",
       "  <tbody>\n",
       "    <tr>\n",
       "      <th>0</th>\n",
       "      <td>1</td>\n",
       "      <td>2</td>\n",
       "    </tr>\n",
       "    <tr>\n",
       "      <th>1</th>\n",
       "      <td>2</td>\n",
       "      <td>0</td>\n",
       "    </tr>\n",
       "    <tr>\n",
       "      <th>2</th>\n",
       "      <td>3</td>\n",
       "      <td>9</td>\n",
       "    </tr>\n",
       "    <tr>\n",
       "      <th>3</th>\n",
       "      <td>4</td>\n",
       "      <td>0</td>\n",
       "    </tr>\n",
       "    <tr>\n",
       "      <th>4</th>\n",
       "      <td>5</td>\n",
       "      <td>3</td>\n",
       "    </tr>\n",
       "  </tbody>\n",
       "</table>\n",
       "</div>"
      ],
      "text/plain": [
       "   ImageId  Label\n",
       "0        1      2\n",
       "1        2      0\n",
       "2        3      9\n",
       "3        4      0\n",
       "4        5      3"
      ]
     },
     "execution_count": 87,
     "metadata": {},
     "output_type": "execute_result"
    }
   ],
   "source": [
    "dfResult=df[['ImageId', 'Label']]\n",
    "dfResult.head()"
   ]
  },
  {
   "cell_type": "code",
   "execution_count": 88,
   "metadata": {
    "ExecuteTime": {
     "end_time": "2018-11-01T09:57:26.047157Z",
     "start_time": "2018-11-01T09:57:26.025571Z"
    }
   },
   "outputs": [
    {
     "data": {
      "text/plain": [
       "(28000, 2)"
      ]
     },
     "execution_count": 88,
     "metadata": {},
     "output_type": "execute_result"
    }
   ],
   "source": [
    "dfResult.shape"
   ]
  },
  {
   "cell_type": "code",
   "execution_count": 89,
   "metadata": {
    "ExecuteTime": {
     "end_time": "2018-11-01T09:57:27.589707Z",
     "start_time": "2018-11-01T09:57:27.369018Z"
    }
   },
   "outputs": [],
   "source": [
    "# 写入csv文件并压缩\n",
    "SUBM = f'{PATH}submOverFit/'\n",
    "os.makedirs(SUBM, exist_ok=True)\n",
    "dfResult.to_csv(f'{SUBM}subm.gz', compression='gzip', index=False)"
   ]
  },
  {
   "cell_type": "code",
   "execution_count": 90,
   "metadata": {
    "ExecuteTime": {
     "end_time": "2018-11-01T09:57:29.080844Z",
     "start_time": "2018-11-01T09:57:29.046923Z"
    }
   },
   "outputs": [
    {
     "data": {
      "text/html": [
       "<a href='data/DigitRecognizer/submOverFit/subm.gz' target='_blank'>data/DigitRecognizer/submOverFit/subm.gz</a><br>"
      ],
      "text/plain": [
       "/home/ubuntu/Fast.ai_Tips/dl1/data/DigitRecognizer/submOverFit/subm.gz"
      ]
     },
     "execution_count": 90,
     "metadata": {},
     "output_type": "execute_result"
    }
   ],
   "source": [
    "# 显示文件路径链接\n",
    "FileLink(f'{SUBM}subm.gz')"
   ]
  },
  {
   "cell_type": "code",
   "execution_count": null,
   "metadata": {},
   "outputs": [],
   "source": []
  }
 ],
 "metadata": {
  "kernelspec": {
   "display_name": "Python 3",
   "language": "python",
   "name": "python3"
  },
  "language_info": {
   "codemirror_mode": {
    "name": "ipython",
    "version": 3
   },
   "file_extension": ".py",
   "mimetype": "text/x-python",
   "name": "python",
   "nbconvert_exporter": "python",
   "pygments_lexer": "ipython3",
   "version": "3.6.6"
  },
  "toc": {
   "base_numbering": 1,
   "nav_menu": {},
   "number_sections": true,
   "sideBar": true,
   "skip_h1_title": false,
   "title_cell": "Table of Contents",
   "title_sidebar": "Contents",
   "toc_cell": false,
   "toc_position": {},
   "toc_section_display": true,
   "toc_window_display": false
  },
  "varInspector": {
   "cols": {
    "lenName": 16,
    "lenType": 16,
    "lenVar": 40
   },
   "kernels_config": {
    "python": {
     "delete_cmd_postfix": "",
     "delete_cmd_prefix": "del ",
     "library": "var_list.py",
     "varRefreshCmd": "print(var_dic_list())"
    },
    "r": {
     "delete_cmd_postfix": ") ",
     "delete_cmd_prefix": "rm(",
     "library": "var_list.r",
     "varRefreshCmd": "cat(var_dic_list()) "
    }
   },
   "types_to_exclude": [
    "module",
    "function",
    "builtin_function_or_method",
    "instance",
    "_Feature"
   ],
   "window_display": false
  }
 },
 "nbformat": 4,
 "nbformat_minor": 2
}
