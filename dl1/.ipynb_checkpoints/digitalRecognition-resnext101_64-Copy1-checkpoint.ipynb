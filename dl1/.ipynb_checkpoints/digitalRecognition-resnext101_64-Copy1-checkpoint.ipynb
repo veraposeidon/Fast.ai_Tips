{
 "cells": [
  {
   "cell_type": "markdown",
   "metadata": {},
   "source": [
    "## Kaggle 手写数字识别"
   ]
  },
  {
   "cell_type": "code",
   "execution_count": 1,
   "metadata": {
    "ExecuteTime": {
     "end_time": "2018-11-01T05:00:46.796154Z",
     "start_time": "2018-11-01T05:00:46.585998Z"
    },
    "code_folding": []
   },
   "outputs": [],
   "source": [
    "# Put these at the top of every notebook, to get automatic reloading and inline plotting\n",
    "%reload_ext autoreload\n",
    "%autoreload 2\n",
    "%matplotlib inline"
   ]
  },
  {
   "cell_type": "code",
   "execution_count": 2,
   "metadata": {
    "ExecuteTime": {
     "end_time": "2018-11-01T05:00:48.377749Z",
     "start_time": "2018-11-01T05:00:46.798382Z"
    }
   },
   "outputs": [],
   "source": [
    "# This file contains all the main external libs we'll use\n",
    "from fastai.imports import *\n",
    "\n",
    "from fastai.transforms import *\n",
    "from fastai.conv_learner import *\n",
    "from fastai.model import *\n",
    "from fastai.dataset import *\n",
    "from fastai.sgdr import *\n",
    "from fastai.plots import *"
   ]
  },
  {
   "cell_type": "code",
   "execution_count": 3,
   "metadata": {
    "ExecuteTime": {
     "end_time": "2018-11-01T05:00:48.409290Z",
     "start_time": "2018-11-01T05:00:48.381045Z"
    }
   },
   "outputs": [],
   "source": [
    "# 指定设备\n",
    "torch.cuda.set_device(1)"
   ]
  },
  {
   "cell_type": "code",
   "execution_count": 4,
   "metadata": {
    "ExecuteTime": {
     "end_time": "2018-11-01T05:00:49.860306Z",
     "start_time": "2018-11-01T05:00:48.410721Z"
    }
   },
   "outputs": [],
   "source": [
    "PATH = \"data/DigitRecognizer/\"\n",
    "sz=28\n",
    "arch=resnext101_64\n",
    "bs=64"
   ]
  },
  {
   "cell_type": "code",
   "execution_count": 5,
   "metadata": {
    "ExecuteTime": {
     "end_time": "2018-11-01T05:00:50.305891Z",
     "start_time": "2018-11-01T05:00:49.863021Z"
    }
   },
   "outputs": [
    {
     "name": "stdout",
     "output_type": "stream",
     "text": [
      "sample_submission.csv  test.csv  tmp  train.csv\r\n"
     ]
    }
   ],
   "source": [
    "!ls {PATH}"
   ]
  },
  {
   "cell_type": "code",
   "execution_count": 6,
   "metadata": {
    "ExecuteTime": {
     "end_time": "2018-11-01T05:00:50.630028Z",
     "start_time": "2018-11-01T05:00:50.308238Z"
    }
   },
   "outputs": [],
   "source": [
    "# 根据label文件， 交叉验证分割训练集和验证集\n",
    "train_csv = f'{PATH}train.csv'\n",
    "n = len(list(open(train_csv))) - 1 # header is not counted (-1)"
   ]
  },
  {
   "cell_type": "code",
   "execution_count": 7,
   "metadata": {
    "ExecuteTime": {
     "end_time": "2018-11-01T05:00:50.664076Z",
     "start_time": "2018-11-01T05:00:50.633067Z"
    }
   },
   "outputs": [
    {
     "data": {
      "text/plain": [
       "42000"
      ]
     },
     "execution_count": 7,
     "metadata": {},
     "output_type": "execute_result"
    }
   ],
   "source": [
    "# 样本数目\n",
    "n"
   ]
  },
  {
   "cell_type": "markdown",
   "metadata": {},
   "source": [
    "## 研究数据"
   ]
  },
  {
   "cell_type": "code",
   "execution_count": 8,
   "metadata": {
    "ExecuteTime": {
     "end_time": "2018-11-01T05:00:50.823603Z",
     "start_time": "2018-11-01T05:00:50.666986Z"
    }
   },
   "outputs": [
    {
     "name": "stdout",
     "output_type": "stream",
     "text": [
      "sample_submission.csv  test.csv  tmp  train.csv\r\n"
     ]
    }
   ],
   "source": [
    "!ls {PATH}"
   ]
  },
  {
   "cell_type": "code",
   "execution_count": 9,
   "metadata": {
    "ExecuteTime": {
     "end_time": "2018-11-01T05:00:54.724733Z",
     "start_time": "2018-11-01T05:00:50.827388Z"
    }
   },
   "outputs": [],
   "source": [
    "train_df = pd.read_csv(train_csv)"
   ]
  },
  {
   "cell_type": "code",
   "execution_count": 10,
   "metadata": {
    "ExecuteTime": {
     "end_time": "2018-11-01T05:00:54.781088Z",
     "start_time": "2018-11-01T05:00:54.728413Z"
    }
   },
   "outputs": [
    {
     "data": {
      "text/html": [
       "<div>\n",
       "<style scoped>\n",
       "    .dataframe tbody tr th:only-of-type {\n",
       "        vertical-align: middle;\n",
       "    }\n",
       "\n",
       "    .dataframe tbody tr th {\n",
       "        vertical-align: top;\n",
       "    }\n",
       "\n",
       "    .dataframe thead th {\n",
       "        text-align: right;\n",
       "    }\n",
       "</style>\n",
       "<table border=\"1\" class=\"dataframe\">\n",
       "  <thead>\n",
       "    <tr style=\"text-align: right;\">\n",
       "      <th></th>\n",
       "      <th>label</th>\n",
       "      <th>pixel0</th>\n",
       "      <th>pixel1</th>\n",
       "      <th>pixel2</th>\n",
       "      <th>pixel3</th>\n",
       "      <th>pixel4</th>\n",
       "      <th>pixel5</th>\n",
       "      <th>pixel6</th>\n",
       "      <th>pixel7</th>\n",
       "      <th>pixel8</th>\n",
       "      <th>...</th>\n",
       "      <th>pixel774</th>\n",
       "      <th>pixel775</th>\n",
       "      <th>pixel776</th>\n",
       "      <th>pixel777</th>\n",
       "      <th>pixel778</th>\n",
       "      <th>pixel779</th>\n",
       "      <th>pixel780</th>\n",
       "      <th>pixel781</th>\n",
       "      <th>pixel782</th>\n",
       "      <th>pixel783</th>\n",
       "    </tr>\n",
       "  </thead>\n",
       "  <tbody>\n",
       "    <tr>\n",
       "      <th>0</th>\n",
       "      <td>1</td>\n",
       "      <td>0</td>\n",
       "      <td>0</td>\n",
       "      <td>0</td>\n",
       "      <td>0</td>\n",
       "      <td>0</td>\n",
       "      <td>0</td>\n",
       "      <td>0</td>\n",
       "      <td>0</td>\n",
       "      <td>0</td>\n",
       "      <td>...</td>\n",
       "      <td>0</td>\n",
       "      <td>0</td>\n",
       "      <td>0</td>\n",
       "      <td>0</td>\n",
       "      <td>0</td>\n",
       "      <td>0</td>\n",
       "      <td>0</td>\n",
       "      <td>0</td>\n",
       "      <td>0</td>\n",
       "      <td>0</td>\n",
       "    </tr>\n",
       "    <tr>\n",
       "      <th>1</th>\n",
       "      <td>0</td>\n",
       "      <td>0</td>\n",
       "      <td>0</td>\n",
       "      <td>0</td>\n",
       "      <td>0</td>\n",
       "      <td>0</td>\n",
       "      <td>0</td>\n",
       "      <td>0</td>\n",
       "      <td>0</td>\n",
       "      <td>0</td>\n",
       "      <td>...</td>\n",
       "      <td>0</td>\n",
       "      <td>0</td>\n",
       "      <td>0</td>\n",
       "      <td>0</td>\n",
       "      <td>0</td>\n",
       "      <td>0</td>\n",
       "      <td>0</td>\n",
       "      <td>0</td>\n",
       "      <td>0</td>\n",
       "      <td>0</td>\n",
       "    </tr>\n",
       "    <tr>\n",
       "      <th>2</th>\n",
       "      <td>1</td>\n",
       "      <td>0</td>\n",
       "      <td>0</td>\n",
       "      <td>0</td>\n",
       "      <td>0</td>\n",
       "      <td>0</td>\n",
       "      <td>0</td>\n",
       "      <td>0</td>\n",
       "      <td>0</td>\n",
       "      <td>0</td>\n",
       "      <td>...</td>\n",
       "      <td>0</td>\n",
       "      <td>0</td>\n",
       "      <td>0</td>\n",
       "      <td>0</td>\n",
       "      <td>0</td>\n",
       "      <td>0</td>\n",
       "      <td>0</td>\n",
       "      <td>0</td>\n",
       "      <td>0</td>\n",
       "      <td>0</td>\n",
       "    </tr>\n",
       "    <tr>\n",
       "      <th>3</th>\n",
       "      <td>4</td>\n",
       "      <td>0</td>\n",
       "      <td>0</td>\n",
       "      <td>0</td>\n",
       "      <td>0</td>\n",
       "      <td>0</td>\n",
       "      <td>0</td>\n",
       "      <td>0</td>\n",
       "      <td>0</td>\n",
       "      <td>0</td>\n",
       "      <td>...</td>\n",
       "      <td>0</td>\n",
       "      <td>0</td>\n",
       "      <td>0</td>\n",
       "      <td>0</td>\n",
       "      <td>0</td>\n",
       "      <td>0</td>\n",
       "      <td>0</td>\n",
       "      <td>0</td>\n",
       "      <td>0</td>\n",
       "      <td>0</td>\n",
       "    </tr>\n",
       "    <tr>\n",
       "      <th>4</th>\n",
       "      <td>0</td>\n",
       "      <td>0</td>\n",
       "      <td>0</td>\n",
       "      <td>0</td>\n",
       "      <td>0</td>\n",
       "      <td>0</td>\n",
       "      <td>0</td>\n",
       "      <td>0</td>\n",
       "      <td>0</td>\n",
       "      <td>0</td>\n",
       "      <td>...</td>\n",
       "      <td>0</td>\n",
       "      <td>0</td>\n",
       "      <td>0</td>\n",
       "      <td>0</td>\n",
       "      <td>0</td>\n",
       "      <td>0</td>\n",
       "      <td>0</td>\n",
       "      <td>0</td>\n",
       "      <td>0</td>\n",
       "      <td>0</td>\n",
       "    </tr>\n",
       "  </tbody>\n",
       "</table>\n",
       "<p>5 rows × 785 columns</p>\n",
       "</div>"
      ],
      "text/plain": [
       "   label  pixel0  pixel1  pixel2  pixel3  pixel4  pixel5  pixel6  pixel7  \\\n",
       "0      1       0       0       0       0       0       0       0       0   \n",
       "1      0       0       0       0       0       0       0       0       0   \n",
       "2      1       0       0       0       0       0       0       0       0   \n",
       "3      4       0       0       0       0       0       0       0       0   \n",
       "4      0       0       0       0       0       0       0       0       0   \n",
       "\n",
       "   pixel8    ...     pixel774  pixel775  pixel776  pixel777  pixel778  \\\n",
       "0       0    ...            0         0         0         0         0   \n",
       "1       0    ...            0         0         0         0         0   \n",
       "2       0    ...            0         0         0         0         0   \n",
       "3       0    ...            0         0         0         0         0   \n",
       "4       0    ...            0         0         0         0         0   \n",
       "\n",
       "   pixel779  pixel780  pixel781  pixel782  pixel783  \n",
       "0         0         0         0         0         0  \n",
       "1         0         0         0         0         0  \n",
       "2         0         0         0         0         0  \n",
       "3         0         0         0         0         0  \n",
       "4         0         0         0         0         0  \n",
       "\n",
       "[5 rows x 785 columns]"
      ]
     },
     "execution_count": 10,
     "metadata": {},
     "output_type": "execute_result"
    }
   ],
   "source": [
    "train_df.head()"
   ]
  },
  {
   "cell_type": "markdown",
   "metadata": {},
   "source": [
    "## 数据预处理和交叉验证分割"
   ]
  },
  {
   "cell_type": "code",
   "execution_count": 11,
   "metadata": {
    "ExecuteTime": {
     "end_time": "2018-11-01T05:01:01.038685Z",
     "start_time": "2018-11-01T05:00:54.784022Z"
    }
   },
   "outputs": [],
   "source": [
    "# 读取CSV\n",
    "train=pd.read_csv(f'{PATH}/train.csv')\n",
    "test=pd.read_csv(f'{PATH}/test.csv')"
   ]
  },
  {
   "cell_type": "code",
   "execution_count": 12,
   "metadata": {
    "ExecuteTime": {
     "end_time": "2018-11-01T05:01:01.079942Z",
     "start_time": "2018-11-01T05:01:01.041095Z"
    }
   },
   "outputs": [],
   "source": [
    "# 训练图像和标签\n",
    "images=train.iloc[:,1:]\n",
    "labels=train.iloc[:,0:1]"
   ]
  },
  {
   "cell_type": "code",
   "execution_count": 13,
   "metadata": {
    "ExecuteTime": {
     "end_time": "2018-11-01T05:01:01.115108Z",
     "start_time": "2018-11-01T05:01:01.082244Z"
    }
   },
   "outputs": [
    {
     "name": "stdout",
     "output_type": "stream",
     "text": [
      "(42000, 784)\n",
      "(42000, 1)\n",
      "(28000, 784)\n"
     ]
    }
   ],
   "source": [
    "print(images.shape)\n",
    "print(labels.shape)\n",
    "print(test.shape)"
   ]
  },
  {
   "cell_type": "code",
   "execution_count": 14,
   "metadata": {
    "ExecuteTime": {
     "end_time": "2018-11-01T05:01:01.151396Z",
     "start_time": "2018-11-01T05:01:01.117229Z"
    }
   },
   "outputs": [
    {
     "name": "stdout",
     "output_type": "stream",
     "text": [
      "(42000, 28, 28)\n",
      "(42000,)\n",
      "(28000, 28, 28)\n"
     ]
    }
   ],
   "source": [
    "# 一维图像转换为二维\n",
    "images = np.reshape(images.values,(-1, 28, 28))\n",
    "labels = labels.values.flatten()\n",
    "test_images =  np.reshape(test.values,(-1, 28, 28))\n",
    "print(images.shape)\n",
    "print(labels.shape)\n",
    "print(test_images.shape)"
   ]
  },
  {
   "cell_type": "code",
   "execution_count": 15,
   "metadata": {
    "ExecuteTime": {
     "end_time": "2018-11-01T05:01:02.408013Z",
     "start_time": "2018-11-01T05:01:01.153392Z"
    }
   },
   "outputs": [],
   "source": [
    "images=np.stack((images,)*3, axis=-1)# .astype('float32')\n",
    "test_images=np.stack((test_images,)*3, axis=-1) #.astype('float32')"
   ]
  },
  {
   "cell_type": "code",
   "execution_count": 16,
   "metadata": {
    "ExecuteTime": {
     "end_time": "2018-11-01T05:01:02.433006Z",
     "start_time": "2018-11-01T05:01:02.409699Z"
    }
   },
   "outputs": [
    {
     "name": "stdout",
     "output_type": "stream",
     "text": [
      "(42000, 28, 28, 3)\n",
      "(28000, 28, 28, 3)\n"
     ]
    }
   ],
   "source": [
    "print(images.shape)\n",
    "print(test_images.shape)"
   ]
  },
  {
   "cell_type": "code",
   "execution_count": 17,
   "metadata": {
    "ExecuteTime": {
     "end_time": "2018-11-01T05:01:02.488862Z",
     "start_time": "2018-11-01T05:01:02.434636Z"
    }
   },
   "outputs": [],
   "source": [
    "# 省内存\n",
    "del train\n",
    "del test"
   ]
  },
  {
   "cell_type": "code",
   "execution_count": 18,
   "metadata": {
    "ExecuteTime": {
     "end_time": "2018-11-01T05:01:02.675437Z",
     "start_time": "2018-11-01T05:01:02.490660Z"
    }
   },
   "outputs": [
    {
     "data": {
      "text/plain": [
       "<matplotlib.image.AxesImage at 0x7ff3cfba8cf8>"
      ]
     },
     "execution_count": 18,
     "metadata": {},
     "output_type": "execute_result"
    },
    {
     "data": {
      "image/png": "[encoded data removed]",
      "text/plain": [
       "<Figure size 432x288 with 1 Axes>"
      ]
     },
     "metadata": {
      "needs_background": "light"
     },
     "output_type": "display_data"
    }
   ],
   "source": [
    "# 查看数据\n",
    "plt.grid(0)\n",
    "plt.imshow(images[3])"
   ]
  },
  {
   "cell_type": "code",
   "execution_count": 19,
   "metadata": {
    "ExecuteTime": {
     "end_time": "2018-11-01T05:01:05.360178Z",
     "start_time": "2018-11-01T05:01:02.677043Z"
    }
   },
   "outputs": [],
   "source": [
    "# 分割数据集\n",
    "from sklearn.model_selection import train_test_split\n",
    "\n",
    "train_img, val_img, train_lbl, val_lbl = train_test_split(\n",
    "    images, labels, test_size=0.2, random_state=3)"
   ]
  },
  {
   "cell_type": "code",
   "execution_count": 20,
   "metadata": {
    "ExecuteTime": {
     "end_time": "2018-11-01T05:01:05.385467Z",
     "start_time": "2018-11-01T05:01:05.362003Z"
    }
   },
   "outputs": [
    {
     "name": "stdout",
     "output_type": "stream",
     "text": [
      "(33600, 28, 28, 3)\n",
      "(8400, 28, 28, 3)\n"
     ]
    }
   ],
   "source": [
    "print(train_img.shape)\n",
    "print(val_img.shape)"
   ]
  },
  {
   "cell_type": "markdown",
   "metadata": {},
   "source": [
    "## 训练模型"
   ]
  },
  {
   "cell_type": "code",
   "execution_count": 21,
   "metadata": {
    "ExecuteTime": {
     "end_time": "2018-11-01T05:01:05.433110Z",
     "start_time": "2018-11-01T05:01:05.387112Z"
    }
   },
   "outputs": [],
   "source": [
    "# 数据扩增方式\n",
    "# transformer\n",
    "tfms = tfms_from_model(arch, sz, aug_tfms=transforms_basic + [AddPadding(pad=2)] + [RandomCrop(targ_sz=28)], max_zoom=1.1)"
   ]
  },
  {
   "cell_type": "code",
   "execution_count": 22,
   "metadata": {
    "ExecuteTime": {
     "end_time": "2018-11-01T05:01:06.487048Z",
     "start_time": "2018-11-01T05:01:05.437584Z"
    }
   },
   "outputs": [],
   "source": [
    "# 构建数据加载器\n",
    "classes = np.unique(train_lbl)\n",
    "\n",
    "data=ImageClassifierData.from_arrays(path= f'{PATH}tmp',trn=(train_img/255, train_lbl),\n",
    "                                     val=(val_img/255, val_lbl),\n",
    "                                     bs = bs,\n",
    "                                     classes=classes,\n",
    "                                     test=test_images/255,\n",
    "                                     tfms=tfms)"
   ]
  },
  {
   "cell_type": "code",
   "execution_count": 23,
   "metadata": {
    "ExecuteTime": {
     "end_time": "2018-11-01T05:02:20.006489Z",
     "start_time": "2018-11-01T05:01:06.490641Z"
    }
   },
   "outputs": [
    {
     "name": "stdout",
     "output_type": "stream",
     "text": [
      "100%|██████████| 525/525 [00:35<00:00, 18.68it/s]\n",
      "100%|██████████| 132/132 [00:08<00:00, 16.30it/s]\n",
      "100%|██████████| 438/438 [00:26<00:00, 16.57it/s]\n"
     ]
    }
   ],
   "source": [
    "# 构建学习器\n",
    "learn = ConvLearner.pretrained(arch, data, precompute=True)"
   ]
  },
  {
   "cell_type": "code",
   "execution_count": 24,
   "metadata": {
    "ExecuteTime": {
     "end_time": "2018-11-01T05:02:30.449118Z",
     "start_time": "2018-11-01T05:02:20.009520Z"
    }
   },
   "outputs": [
    {
     "data": {
      "application/vnd.jupyter.widget-view+json": {
       "model_id": "c9614ac2d9bd43a6844d3c7cba819a26",
       "version_major": 2,
       "version_minor": 0
      },
      "text/plain": [
       "HBox(children=(IntProgress(value=0, description='Epoch', max=1), HTML(value='')))"
      ]
     },
     "metadata": {},
     "output_type": "display_data"
    },
    {
     "name": "stdout",
     "output_type": "stream",
     "text": [
      " 83%|████████▎ | 434/525 [00:08<00:02, 41.68it/s, loss=1.63] \n",
      "                                                            \r"
     ]
    },
    {
     "data": {
      "image/png": "[encoded data removed]",
      "text/plain": [
       "<Figure size 432x288 with 1 Axes>"
      ]
     },
     "metadata": {
      "needs_background": "light"
     },
     "output_type": "display_data"
    }
   ],
   "source": [
    "# 找最优学习率\n",
    "lrf=learn.lr_find()\n",
    "learn.sched.plot()"
   ]
  },
  {
   "cell_type": "code",
   "execution_count": 25,
   "metadata": {
    "ExecuteTime": {
     "end_time": "2018-11-01T05:04:06.936517Z",
     "start_time": "2018-11-01T05:02:30.451131Z"
    }
   },
   "outputs": [
    {
     "data": {
      "application/vnd.jupyter.widget-view+json": {
       "model_id": "52084ee56bd74861a17565150feb7c83",
       "version_major": 2,
       "version_minor": 0
      },
      "text/plain": [
       "HBox(children=(IntProgress(value=0, description='Epoch', max=8), HTML(value='')))"
      ]
     },
     "metadata": {},
     "output_type": "display_data"
    },
    {
     "name": "stdout",
     "output_type": "stream",
     "text": [
      "epoch      trn_loss   val_loss   accuracy                    \n",
      "    0      0.274983   0.199311   0.93369   \n",
      "    1      0.198208   0.15306    0.948333                    \n",
      "    2      0.213818   0.136481   0.955595                    \n",
      "    3      0.160592   0.13811    0.955357                    \n",
      "    4      0.152863   0.12799    0.959643                    \n",
      "    5      0.139646   0.129716   0.961429                    \n",
      "    6      0.142631   0.119458   0.962143                    \n",
      "    7      0.137618   0.120047   0.964405                    \n",
      "\n"
     ]
    },
    {
     "data": {
      "text/plain": [
       "[array([0.12005]), 0.9644047619047619]"
      ]
     },
     "execution_count": 25,
     "metadata": {},
     "output_type": "execute_result"
    }
   ],
   "source": [
    "# 根据曲线，选择学习率 lr= 0.1\n",
    "# 进行训练，并根据train loss和 validation loss判断是否过拟合\n",
    "learn.fit(1e-1, 8)"
   ]
  },
  {
   "cell_type": "code",
   "execution_count": 26,
   "metadata": {
    "ExecuteTime": {
     "end_time": "2018-11-01T05:04:06.986040Z",
     "start_time": "2018-11-01T05:04:06.938966Z"
    }
   },
   "outputs": [],
   "source": [
    "# 先保存模型\n",
    "# 当然目前还是欠拟合的\n",
    "learn.save('first_try')\n",
    "learn.load('first_try')"
   ]
  },
  {
   "cell_type": "markdown",
   "metadata": {},
   "source": [
    "## 模型优化"
   ]
  },
  {
   "cell_type": "code",
   "execution_count": 27,
   "metadata": {
    "ExecuteTime": {
     "end_time": "2018-11-01T05:04:08.939433Z",
     "start_time": "2018-11-01T05:04:06.988195Z"
    }
   },
   "outputs": [],
   "source": [
    "# DropOut手段\n",
    "# ps是Dropout参数\n",
    "learn = ConvLearner.pretrained(arch, data, precompute=True, ps=0.5)"
   ]
  },
  {
   "cell_type": "code",
   "execution_count": 28,
   "metadata": {
    "ExecuteTime": {
     "end_time": "2018-11-01T05:04:18.404836Z",
     "start_time": "2018-11-01T05:04:08.941507Z"
    }
   },
   "outputs": [
    {
     "data": {
      "application/vnd.jupyter.widget-view+json": {
       "model_id": "2b5b5f8503cf4908acc4c6ebe2febeb0",
       "version_major": 2,
       "version_minor": 0
      },
      "text/plain": [
       "HBox(children=(IntProgress(value=0, description='Epoch', max=1), HTML(value='')))"
      ]
     },
     "metadata": {},
     "output_type": "display_data"
    },
    {
     "name": "stdout",
     "output_type": "stream",
     "text": [
      " 83%|████████▎ | 437/525 [00:08<00:02, 38.06it/s, loss=2.06] \n",
      "                                                            \r"
     ]
    },
    {
     "data": {
      "image/png": "[encoded data removed]",
      "text/plain": [
       "<Figure size 432x288 with 1 Axes>"
      ]
     },
     "metadata": {
      "needs_background": "light"
     },
     "output_type": "display_data"
    }
   ],
   "source": [
    "# 找最优学习率\n",
    "lrf=learn.lr_find()\n",
    "learn.sched.plot()"
   ]
  },
  {
   "cell_type": "code",
   "execution_count": 29,
   "metadata": {
    "ExecuteTime": {
     "end_time": "2018-11-01T05:05:19.468033Z",
     "start_time": "2018-11-01T05:04:18.406714Z"
    },
    "code_folding": []
   },
   "outputs": [
    {
     "data": {
      "application/vnd.jupyter.widget-view+json": {
       "model_id": "3b8b0ef5659741039f40539b96c9da98",
       "version_major": 2,
       "version_minor": 0
      },
      "text/plain": [
       "HBox(children=(IntProgress(value=0, description='Epoch', max=5), HTML(value='')))"
      ]
     },
     "metadata": {},
     "output_type": "display_data"
    },
    {
     "name": "stdout",
     "output_type": "stream",
     "text": [
      "epoch      trn_loss   val_loss   accuracy                    \n",
      "    0      0.317158   0.19464    0.935119  \n",
      "    1      0.2598     0.1734     0.944881                    \n",
      "    2      0.207689   0.150801   0.952143                    \n",
      "    3      0.213899   0.13703    0.954881                    \n",
      "    4      0.174896   0.130922   0.957381                    \n",
      "\n"
     ]
    },
    {
     "data": {
      "text/plain": [
       "[array([0.13092]), 0.9573809523809523]"
      ]
     },
     "execution_count": 29,
     "metadata": {},
     "output_type": "execute_result"
    }
   ],
   "source": [
    "# 根据曲线，选择学习率 lr= 0.1\n",
    "# 进行训练，并根据train loss和 validation loss判断是否过拟合\n",
    "learn.fit(1e-1, 5)"
   ]
  },
  {
   "cell_type": "code",
   "execution_count": 30,
   "metadata": {
    "ExecuteTime": {
     "end_time": "2018-11-01T05:05:19.511703Z",
     "start_time": "2018-11-01T05:05:19.472354Z"
    }
   },
   "outputs": [],
   "source": [
    "learn.save('dropOut')\n",
    "learn.load('dropOut')"
   ]
  },
  {
   "cell_type": "code",
   "execution_count": 31,
   "metadata": {
    "ExecuteTime": {
     "end_time": "2018-11-01T05:05:19.963682Z",
     "start_time": "2018-11-01T05:05:19.513397Z"
    }
   },
   "outputs": [],
   "source": [
    "learn.precompute = False"
   ]
  },
  {
   "cell_type": "code",
   "execution_count": 32,
   "metadata": {
    "ExecuteTime": {
     "end_time": "2018-11-01T05:05:52.245252Z",
     "start_time": "2018-11-01T05:05:19.966215Z"
    }
   },
   "outputs": [
    {
     "data": {
      "application/vnd.jupyter.widget-view+json": {
       "model_id": "e79dcf81b0c74a16971e056807be37c2",
       "version_major": 2,
       "version_minor": 0
      },
      "text/plain": [
       "HBox(children=(IntProgress(value=0, description='Epoch', max=1), HTML(value='')))"
      ]
     },
     "metadata": {},
     "output_type": "display_data"
    },
    {
     "name": "stdout",
     "output_type": "stream",
     "text": [
      " 84%|████████▍ | 442/525 [00:30<00:08,  9.32it/s, loss=1.13] "
     ]
    },
    {
     "data": {
      "image/png": "[encoded data removed]",
      "text/plain": [
       "<Figure size 432x288 with 1 Axes>"
      ]
     },
     "metadata": {
      "needs_background": "light"
     },
     "output_type": "display_data"
    }
   ],
   "source": [
    "# 找最优学习率\n",
    "lrf=learn.lr_find()\n",
    "learn.sched.plot()"
   ]
  },
  {
   "cell_type": "code",
   "execution_count": 33,
   "metadata": {
    "ExecuteTime": {
     "end_time": "2018-11-01T05:16:24.807109Z",
     "start_time": "2018-11-01T05:05:52.247695Z"
    }
   },
   "outputs": [
    {
     "data": {
      "application/vnd.jupyter.widget-view+json": {
       "model_id": "3a657affda7149828ac0c70fdb2c3b08",
       "version_major": 2,
       "version_minor": 0
      },
      "text/plain": [
       "HBox(children=(IntProgress(value=0, description='Epoch', max=15), HTML(value='')))"
      ]
     },
     "metadata": {},
     "output_type": "display_data"
    },
    {
     "name": "stdout",
     "output_type": "stream",
     "text": [
      "epoch      trn_loss   val_loss   accuracy                    \n",
      "    0      0.26754    0.137729   0.955714  \n",
      "    1      0.228966   0.143739   0.954405                    \n",
      "    2      0.222551   0.129113   0.958452                    \n",
      "    3      0.234704   0.138637   0.955238                    \n",
      "    4      0.233933   0.128033   0.958214                    \n",
      "    5      0.213325   0.119944   0.960595                    \n",
      "    6      0.204307   0.122251   0.960119                    \n",
      "    7      0.234767   0.132185   0.957024                    \n",
      "    8      0.234062   0.13402    0.956786                    \n",
      "    9      0.22086    0.117657   0.961667                    \n",
      "    10     0.203032   0.123946   0.961071                    \n",
      "    11     0.183642   0.117649   0.961071                    \n",
      "    12     0.187012   0.113057   0.963095                    \n",
      "    13     0.170765   0.110144   0.964048                    \n",
      "    14     0.179473   0.110842   0.964048                    \n"
     ]
    },
    {
     "data": {
      "text/plain": [
       "[array([0.11084]), 0.964047619047619]"
      ]
     },
     "execution_count": 33,
     "metadata": {},
     "output_type": "execute_result"
    }
   ],
   "source": [
    "# 可以加上SGDR算法\n",
    "learn.fit(1e-1, n_cycle=4, cycle_len=1, cycle_mult=2)"
   ]
  },
  {
   "cell_type": "code",
   "execution_count": 34,
   "metadata": {
    "ExecuteTime": {
     "end_time": "2018-11-01T05:16:25.673948Z",
     "start_time": "2018-11-01T05:16:24.809135Z"
    }
   },
   "outputs": [
    {
     "data": {
      "image/png": "[encoded data removed]",
      "text/plain": [
       "<Figure size 432x288 with 1 Axes>"
      ]
     },
     "metadata": {
      "needs_background": "light"
     },
     "output_type": "display_data"
    }
   ],
   "source": [
    "learn.sched.plot_lr()"
   ]
  },
  {
   "cell_type": "code",
   "execution_count": 35,
   "metadata": {
    "ExecuteTime": {
     "end_time": "2018-11-01T05:21:17.961991Z",
     "start_time": "2018-11-01T05:16:25.675871Z"
    }
   },
   "outputs": [
    {
     "data": {
      "application/vnd.jupyter.widget-view+json": {
       "model_id": "86e746edc4ee447c8c1b0f3fd3d1cf66",
       "version_major": 2,
       "version_minor": 0
      },
      "text/plain": [
       "HBox(children=(IntProgress(value=0, description='Epoch', max=7), HTML(value='')))"
      ]
     },
     "metadata": {},
     "output_type": "display_data"
    },
    {
     "name": "stdout",
     "output_type": "stream",
     "text": [
      "epoch      trn_loss   val_loss   accuracy                    \n",
      "    0      0.183977   0.11308    0.964167  \n",
      "    1      0.165255   0.11386    0.963214                    \n",
      "    2      0.174176   0.113564   0.962619                    \n",
      "    3      0.174515   0.111123   0.964643                    \n",
      "    4      0.170266   0.110733   0.964405                    \n",
      "    5      0.177971   0.110655   0.96381                     \n",
      "    6      0.17023    0.109759   0.964048                    \n"
     ]
    },
    {
     "data": {
      "text/plain": [
       "[array([0.10976]), 0.964047619047619]"
      ]
     },
     "execution_count": 35,
     "metadata": {},
     "output_type": "execute_result"
    }
   ],
   "source": [
    "# 目前还是欠拟合状态\n",
    "learn.fit(1e-2, n_cycle=3, cycle_len=1, cycle_mult=2)"
   ]
  },
  {
   "cell_type": "markdown",
   "metadata": {},
   "source": [
    "## 多分布率处理"
   ]
  },
  {
   "cell_type": "code",
   "execution_count": 36,
   "metadata": {
    "ExecuteTime": {
     "end_time": "2018-11-01T05:21:17.992547Z",
     "start_time": "2018-11-01T05:21:17.964038Z"
    }
   },
   "outputs": [],
   "source": [
    "# fast.ai 获取指定size的数据集\n",
    "def get_data(sz):\n",
    "    # 此处sz是做dataloader时将图像预处理为指定sz大小\n",
    "    tfms = tfms_from_model(arch, sz, aug_tfms=transforms_basic + [AddPadding(pad=2)] + [RandomCrop(targ_sz=sz)], max_zoom=1.1)\n",
    "    return ImageClassifierData.from_arrays(path= f'{PATH}tmp',trn=(train_img/255, train_lbl),\n",
    "                                     val=(val_img/255, val_lbl),\n",
    "                                     bs = bs,\n",
    "                                     classes=classes,\n",
    "                                     test=test_images/255,\n",
    "                                     tfms=tfms)"
   ]
  },
  {
   "cell_type": "code",
   "execution_count": 37,
   "metadata": {
    "ExecuteTime": {
     "end_time": "2018-11-01T05:21:49.545643Z",
     "start_time": "2018-11-01T05:21:17.994183Z"
    }
   },
   "outputs": [
    {
     "data": {
      "application/vnd.jupyter.widget-view+json": {
       "model_id": "40d768f4fa6e48598efdbeed765a298f",
       "version_major": 2,
       "version_minor": 0
      },
      "text/plain": [
       "HBox(children=(IntProgress(value=0, description='Epoch', max=1), HTML(value='')))"
      ]
     },
     "metadata": {},
     "output_type": "display_data"
    },
    {
     "name": "stdout",
     "output_type": "stream",
     "text": [
      " 83%|████████▎ | 438/525 [00:29<00:03, 23.94it/s, loss=0.578]"
     ]
    },
    {
     "data": {
      "image/png": "[encoded data removed]",
      "text/plain": [
       "<Figure size 432x288 with 1 Axes>"
      ]
     },
     "metadata": {
      "needs_background": "light"
     },
     "output_type": "display_data"
    }
   ],
   "source": [
    "# 找最优学习率\n",
    "lrf=learn.lr_find()\n",
    "learn.sched.plot()"
   ]
  },
  {
   "cell_type": "code",
   "execution_count": 38,
   "metadata": {
    "ExecuteTime": {
     "end_time": "2018-11-01T05:21:49.577413Z",
     "start_time": "2018-11-01T05:21:49.547581Z"
    }
   },
   "outputs": [],
   "source": [
    "# differencial learning rate的分配，除了第三个参数是针对全连接层的，第一二个参数平均分配剩余测网络层\n",
    "lr = 1e-2\n",
    "lrs = np.array([lr/9,lr/3,lr])"
   ]
  },
  {
   "cell_type": "code",
   "execution_count": 39,
   "metadata": {
    "ExecuteTime": {
     "end_time": "2018-11-01T05:34:01.037399Z",
     "start_time": "2018-11-01T05:21:49.579203Z"
    }
   },
   "outputs": [
    {
     "data": {
      "application/vnd.jupyter.widget-view+json": {
       "model_id": "3bf9f55158fa43d9aba891b774ca5952",
       "version_major": 2,
       "version_minor": 0
      },
      "text/plain": [
       "HBox(children=(IntProgress(value=0, description='Epoch', max=7), HTML(value='')))"
      ]
     },
     "metadata": {},
     "output_type": "display_data"
    },
    {
     "name": "stdout",
     "output_type": "stream",
     "text": [
      "epoch      trn_loss   val_loss   accuracy                     \n",
      "    0      0.105211   0.052219   0.983929  \n",
      "    1      0.072058   0.038679   0.987143                     \n",
      "    2      0.04859    0.031206   0.990714                     \n",
      "    3      0.049083   0.034584   0.988929                     \n",
      "    4      0.040643   0.028713   0.990476                     \n",
      "    5      0.029351   0.02445    0.991786                     \n",
      "    6      0.026229   0.023161   0.991905                     \n"
     ]
    },
    {
     "data": {
      "text/plain": [
       "[array([0.02316]), 0.991904761904762]"
      ]
     },
     "execution_count": 39,
     "metadata": {},
     "output_type": "execute_result"
    }
   ],
   "source": [
    "# 从新训练\n",
    "# 事实上，可以直接跳过从预训练模型中训练全连接层参数这一步，直接unfreeze进行全部权重的训练\n",
    "# 但是，预训练模型的卷积层参数不是随机的，而是在ImageNet数据集上训练过的。\n",
    "#（对于与ImageNet类似的数据，是好事，对于与ImageNet不同的数据集，也比没有要好）\n",
    "# 但是全连接层又是全部随机的，所以对于全连接层，可以先进行一次训练（在预训练卷积参数的帮助下），使之比随机要好，\n",
    "# 然后再放开卷积层的参数，对其进行全部的训练\n",
    "learn.unfreeze()\n",
    "learn.fit(lrs, 3, cycle_len=1, cycle_mult=2)"
   ]
  },
  {
   "cell_type": "code",
   "execution_count": 40,
   "metadata": {
    "ExecuteTime": {
     "end_time": "2018-11-01T05:34:01.302404Z",
     "start_time": "2018-11-01T05:34:01.040782Z"
    }
   },
   "outputs": [],
   "source": [
    "learn.save(f'{sz}')"
   ]
  },
  {
   "cell_type": "code",
   "execution_count": 41,
   "metadata": {
    "ExecuteTime": {
     "end_time": "2018-11-01T05:34:02.025644Z",
     "start_time": "2018-11-01T05:34:01.304542Z"
    }
   },
   "outputs": [
    {
     "data": {
      "image/png": "[encoded data removed]",
      "text/plain": [
       "<Figure size 432x288 with 1 Axes>"
      ]
     },
     "metadata": {
      "needs_background": "light"
     },
     "output_type": "display_data"
    }
   ],
   "source": [
    "learn.sched.plot_loss()"
   ]
  },
  {
   "cell_type": "code",
   "execution_count": 42,
   "metadata": {
    "ExecuteTime": {
     "end_time": "2018-11-01T05:34:02.055173Z",
     "start_time": "2018-11-01T05:34:02.027618Z"
    }
   },
   "outputs": [],
   "source": [
    "sz=56"
   ]
  },
  {
   "cell_type": "code",
   "execution_count": 43,
   "metadata": {
    "ExecuteTime": {
     "end_time": "2018-11-01T05:40:07.141114Z",
     "start_time": "2018-11-01T05:34:02.056965Z"
    }
   },
   "outputs": [
    {
     "data": {
      "application/vnd.jupyter.widget-view+json": {
       "model_id": "df65dd1489124ab99f6dc24d4a429415",
       "version_major": 2,
       "version_minor": 0
      },
      "text/plain": [
       "HBox(children=(IntProgress(value=0, description='Epoch', max=7), HTML(value='')))"
      ]
     },
     "metadata": {},
     "output_type": "display_data"
    },
    {
     "name": "stdout",
     "output_type": "stream",
     "text": [
      "epoch      trn_loss   val_loss   accuracy                    \n",
      "    0      0.757907   0.570661   0.844286  \n",
      "    1      0.499019   0.304121   0.914405                    \n",
      "    2      0.455893   0.281939   0.918571                    \n",
      "    3      0.402226   0.225838   0.934643                    \n",
      "    4      0.36548    0.193338   0.942381                    \n",
      "    5      0.325702   0.182049   0.947024                    \n",
      "    6      0.318741   0.175933   0.948452                    \n"
     ]
    },
    {
     "data": {
      "text/plain": [
       "[array([0.17593]), 0.9484523809523809]"
      ]
     },
     "execution_count": 43,
     "metadata": {},
     "output_type": "execute_result"
    }
   ],
   "source": [
    "learn.set_data(get_data(sz))\n",
    "learn.freeze()\n",
    "learn.fit(lr, 3, cycle_len=1, cycle_mult=2)"
   ]
  },
  {
   "cell_type": "code",
   "execution_count": 44,
   "metadata": {
    "ExecuteTime": {
     "end_time": "2018-11-01T05:56:34.848819Z",
     "start_time": "2018-11-01T05:40:07.143590Z"
    }
   },
   "outputs": [
    {
     "data": {
      "application/vnd.jupyter.widget-view+json": {
       "model_id": "777cef0d89a3409eaa555b16ba955154",
       "version_major": 2,
       "version_minor": 0
      },
      "text/plain": [
       "HBox(children=(IntProgress(value=0, description='Epoch', max=7), HTML(value='')))"
      ]
     },
     "metadata": {},
     "output_type": "display_data"
    },
    {
     "name": "stdout",
     "output_type": "stream",
     "text": [
      "epoch      trn_loss   val_loss   accuracy                     \n",
      "    0      0.058693   0.034893   0.989524  \n",
      "    1      0.054986   0.026994   0.992143                     \n",
      "    2      0.036006   0.021957   0.992619                     \n",
      "    3      0.034336   0.025406   0.99131                      \n",
      "    4      0.026008   0.021791   0.991905                     \n",
      "    5      0.014845   0.020832   0.993452                     \n",
      "    6      0.013636   0.01937    0.99381                      \n"
     ]
    },
    {
     "data": {
      "image/png": "[encoded data removed]",
      "text/plain": [
       "<Figure size 432x288 with 1 Axes>"
      ]
     },
     "metadata": {
      "needs_background": "light"
     },
     "output_type": "display_data"
    }
   ],
   "source": [
    "learn.unfreeze()\n",
    "learn.fit(lrs, 3, cycle_len=1, cycle_mult=2)\n",
    "learn.save(f'{sz}')\n",
    "learn.sched.plot_loss()"
   ]
  },
  {
   "cell_type": "code",
   "execution_count": 50,
   "metadata": {
    "ExecuteTime": {
     "end_time": "2018-11-01T07:34:20.422585Z",
     "start_time": "2018-11-01T07:34:17.270433Z"
    }
   },
   "outputs": [],
   "source": [
    "learn.load('56')"
   ]
  },
  {
   "cell_type": "code",
   "execution_count": 52,
   "metadata": {
    "ExecuteTime": {
     "end_time": "2018-11-01T07:37:04.642774Z",
     "start_time": "2018-11-01T07:37:04.611294Z"
    }
   },
   "outputs": [],
   "source": [
    "# sz为56时已经很完美了，trainloss越等于validationloss了。\n",
    "sz=112"
   ]
  },
  {
   "cell_type": "code",
   "execution_count": 47,
   "metadata": {
    "ExecuteTime": {
     "end_time": "2018-11-01T06:06:47.324557Z",
     "start_time": "2018-11-01T05:56:37.416901Z"
    }
   },
   "outputs": [
    {
     "data": {
      "application/vnd.jupyter.widget-view+json": {
       "model_id": "f51175cdae044a5eb653030d315d15f3",
       "version_major": 2,
       "version_minor": 0
      },
      "text/plain": [
       "HBox(children=(IntProgress(value=0, description='Epoch', max=7), HTML(value='')))"
      ]
     },
     "metadata": {},
     "output_type": "display_data"
    },
    {
     "name": "stdout",
     "output_type": "stream",
     "text": [
      "epoch      trn_loss   val_loss   accuracy                    \n",
      "    0      1.185216   0.996413   0.669762  \n",
      "    1      0.96527    0.736496   0.766905                    \n",
      "    2      0.868851   0.669329   0.790714                    \n",
      "    3      0.813786   0.56094    0.823571                    \n",
      "    4      0.743812   0.505451   0.842619                    \n",
      "    5      0.714868   0.486642   0.846905                    \n",
      "    6      0.705779   0.492632   0.8425                      \n"
     ]
    },
    {
     "data": {
      "text/plain": [
       "[array([0.49263]), 0.8425]"
      ]
     },
     "execution_count": 47,
     "metadata": {},
     "output_type": "execute_result"
    }
   ],
   "source": [
    "learn.set_data(get_data(sz))\n",
    "learn.freeze()\n",
    "learn.fit(lr, 3, cycle_len=1, cycle_mult=2)"
   ]
  },
  {
   "cell_type": "code",
   "execution_count": 48,
   "metadata": {
    "ExecuteTime": {
     "end_time": "2018-11-01T06:36:00.131905Z",
     "start_time": "2018-11-01T06:06:47.326575Z"
    }
   },
   "outputs": [
    {
     "data": {
      "application/vnd.jupyter.widget-view+json": {
       "model_id": "b4a181e8deef4aba8bd6c7685954128d",
       "version_major": 2,
       "version_minor": 0
      },
      "text/plain": [
       "HBox(children=(IntProgress(value=0, description='Epoch', max=7), HTML(value='')))"
      ]
     },
     "metadata": {},
     "output_type": "display_data"
    },
    {
     "name": "stdout",
     "output_type": "stream",
     "text": [
      "epoch      trn_loss   val_loss   accuracy                     \n",
      "    0      0.056944   0.039509   0.98869   \n",
      "    1      0.042435   0.028595   0.99119                      \n",
      "    2      0.024617   0.023517   0.992262                     \n",
      "    3      0.033676   0.022817   0.992976                     \n",
      "    4      0.022803   0.022622   0.993571                     \n",
      "    5      0.013123   0.019921   0.994524                     \n",
      "    6      0.012305   0.01797    0.994881                      \n"
     ]
    },
    {
     "data": {
      "image/png": "[encoded data removed]",
      "text/plain": [
       "<Figure size 432x288 with 1 Axes>"
      ]
     },
     "metadata": {
      "needs_background": "light"
     },
     "output_type": "display_data"
    }
   ],
   "source": [
    "learn.unfreeze()\n",
    "learn.fit(lrs, 3, cycle_len=1, cycle_mult=2)\n",
    "learn.save(f'{sz}')\n",
    "learn.sched.plot_loss()"
   ]
  },
  {
   "cell_type": "code",
   "execution_count": 49,
   "metadata": {
    "ExecuteTime": {
     "end_time": "2018-11-01T07:33:11.087641Z",
     "start_time": "2018-11-01T07:33:10.604535Z"
    }
   },
   "outputs": [
    {
     "data": {
      "text/plain": [
       "OrderedDict([('Conv2d-1',\n",
       "              OrderedDict([('input_shape', [-1, 3, 28, 28]),\n",
       "                           ('output_shape', [-1, 64, 14, 14]),\n",
       "                           ('trainable', True),\n",
       "                           ('nb_params', 9408)])),\n",
       "             ('BatchNorm2d-2',\n",
       "              OrderedDict([('input_shape', [-1, 64, 14, 14]),\n",
       "                           ('output_shape', [-1, 64, 14, 14]),\n",
       "                           ('trainable', True),\n",
       "                           ('nb_params', 128)])),\n",
       "             ('ReLU-3',\n",
       "              OrderedDict([('input_shape', [-1, 64, 14, 14]),\n",
       "                           ('output_shape', [-1, 64, 14, 14]),\n",
       "                           ('nb_params', 0)])),\n",
       "             ('MaxPool2d-4',\n",
       "              OrderedDict([('input_shape', [-1, 64, 14, 14]),\n",
       "                           ('output_shape', [-1, 64, 7, 7]),\n",
       "                           ('nb_params', 0)])),\n",
       "             ('Conv2d-5',\n",
       "              OrderedDict([('input_shape', [-1, 64, 7, 7]),\n",
       "                           ('output_shape', [-1, 256, 7, 7]),\n",
       "                           ('trainable', True),\n",
       "                           ('nb_params', 16384)])),\n",
       "             ('BatchNorm2d-6',\n",
       "              OrderedDict([('input_shape', [-1, 256, 7, 7]),\n",
       "                           ('output_shape', [-1, 256, 7, 7]),\n",
       "                           ('trainable', True),\n",
       "                           ('nb_params', 512)])),\n",
       "             ('ReLU-7',\n",
       "              OrderedDict([('input_shape', [-1, 256, 7, 7]),\n",
       "                           ('output_shape', [-1, 256, 7, 7]),\n",
       "                           ('nb_params', 0)])),\n",
       "             ('Conv2d-8',\n",
       "              OrderedDict([('input_shape', [-1, 256, 7, 7]),\n",
       "                           ('output_shape', [-1, 256, 7, 7]),\n",
       "                           ('trainable', True),\n",
       "                           ('nb_params', 9216)])),\n",
       "             ('BatchNorm2d-9',\n",
       "              OrderedDict([('input_shape', [-1, 256, 7, 7]),\n",
       "                           ('output_shape', [-1, 256, 7, 7]),\n",
       "                           ('trainable', True),\n",
       "                           ('nb_params', 512)])),\n",
       "             ('ReLU-10',\n",
       "              OrderedDict([('input_shape', [-1, 256, 7, 7]),\n",
       "                           ('output_shape', [-1, 256, 7, 7]),\n",
       "                           ('nb_params', 0)])),\n",
       "             ('Conv2d-11',\n",
       "              OrderedDict([('input_shape', [-1, 256, 7, 7]),\n",
       "                           ('output_shape', [-1, 256, 7, 7]),\n",
       "                           ('trainable', True),\n",
       "                           ('nb_params', 65536)])),\n",
       "             ('BatchNorm2d-12',\n",
       "              OrderedDict([('input_shape', [-1, 256, 7, 7]),\n",
       "                           ('output_shape', [-1, 256, 7, 7]),\n",
       "                           ('trainable', True),\n",
       "                           ('nb_params', 512)])),\n",
       "             ('Conv2d-13',\n",
       "              OrderedDict([('input_shape', [-1, 64, 7, 7]),\n",
       "                           ('output_shape', [-1, 256, 7, 7]),\n",
       "                           ('trainable', True),\n",
       "                           ('nb_params', 16384)])),\n",
       "             ('BatchNorm2d-14',\n",
       "              OrderedDict([('input_shape', [-1, 256, 7, 7]),\n",
       "                           ('output_shape', [-1, 256, 7, 7]),\n",
       "                           ('trainable', True),\n",
       "                           ('nb_params', 512)])),\n",
       "             ('ReLU-15',\n",
       "              OrderedDict([('input_shape', [-1, 256, 7, 7]),\n",
       "                           ('output_shape', [-1, 256, 7, 7]),\n",
       "                           ('nb_params', 0)])),\n",
       "             ('Conv2d-16',\n",
       "              OrderedDict([('input_shape', [-1, 256, 7, 7]),\n",
       "                           ('output_shape', [-1, 256, 7, 7]),\n",
       "                           ('trainable', True),\n",
       "                           ('nb_params', 65536)])),\n",
       "             ('BatchNorm2d-17',\n",
       "              OrderedDict([('input_shape', [-1, 256, 7, 7]),\n",
       "                           ('output_shape', [-1, 256, 7, 7]),\n",
       "                           ('trainable', True),\n",
       "                           ('nb_params', 512)])),\n",
       "             ('ReLU-18',\n",
       "              OrderedDict([('input_shape', [-1, 256, 7, 7]),\n",
       "                           ('output_shape', [-1, 256, 7, 7]),\n",
       "                           ('nb_params', 0)])),\n",
       "             ('Conv2d-19',\n",
       "              OrderedDict([('input_shape', [-1, 256, 7, 7]),\n",
       "                           ('output_shape', [-1, 256, 7, 7]),\n",
       "                           ('trainable', True),\n",
       "                           ('nb_params', 9216)])),\n",
       "             ('BatchNorm2d-20',\n",
       "              OrderedDict([('input_shape', [-1, 256, 7, 7]),\n",
       "                           ('output_shape', [-1, 256, 7, 7]),\n",
       "                           ('trainable', True),\n",
       "                           ('nb_params', 512)])),\n",
       "             ('ReLU-21',\n",
       "              OrderedDict([('input_shape', [-1, 256, 7, 7]),\n",
       "                           ('output_shape', [-1, 256, 7, 7]),\n",
       "                           ('nb_params', 0)])),\n",
       "             ('Conv2d-22',\n",
       "              OrderedDict([('input_shape', [-1, 256, 7, 7]),\n",
       "                           ('output_shape', [-1, 256, 7, 7]),\n",
       "                           ('trainable', True),\n",
       "                           ('nb_params', 65536)])),\n",
       "             ('BatchNorm2d-23',\n",
       "              OrderedDict([('input_shape', [-1, 256, 7, 7]),\n",
       "                           ('output_shape', [-1, 256, 7, 7]),\n",
       "                           ('trainable', True),\n",
       "                           ('nb_params', 512)])),\n",
       "             ('ReLU-24',\n",
       "              OrderedDict([('input_shape', [-1, 256, 7, 7]),\n",
       "                           ('output_shape', [-1, 256, 7, 7]),\n",
       "                           ('nb_params', 0)])),\n",
       "             ('Conv2d-25',\n",
       "              OrderedDict([('input_shape', [-1, 256, 7, 7]),\n",
       "                           ('output_shape', [-1, 256, 7, 7]),\n",
       "                           ('trainable', True),\n",
       "                           ('nb_params', 65536)])),\n",
       "             ('BatchNorm2d-26',\n",
       "              OrderedDict([('input_shape', [-1, 256, 7, 7]),\n",
       "                           ('output_shape', [-1, 256, 7, 7]),\n",
       "                           ('trainable', True),\n",
       "                           ('nb_params', 512)])),\n",
       "             ('ReLU-27',\n",
       "              OrderedDict([('input_shape', [-1, 256, 7, 7]),\n",
       "                           ('output_shape', [-1, 256, 7, 7]),\n",
       "                           ('nb_params', 0)])),\n",
       "             ('Conv2d-28',\n",
       "              OrderedDict([('input_shape', [-1, 256, 7, 7]),\n",
       "                           ('output_shape', [-1, 256, 7, 7]),\n",
       "                           ('trainable', True),\n",
       "                           ('nb_params', 9216)])),\n",
       "             ('BatchNorm2d-29',\n",
       "              OrderedDict([('input_shape', [-1, 256, 7, 7]),\n",
       "                           ('output_shape', [-1, 256, 7, 7]),\n",
       "                           ('trainable', True),\n",
       "                           ('nb_params', 512)])),\n",
       "             ('ReLU-30',\n",
       "              OrderedDict([('input_shape', [-1, 256, 7, 7]),\n",
       "                           ('output_shape', [-1, 256, 7, 7]),\n",
       "                           ('nb_params', 0)])),\n",
       "             ('Conv2d-31',\n",
       "              OrderedDict([('input_shape', [-1, 256, 7, 7]),\n",
       "                           ('output_shape', [-1, 256, 7, 7]),\n",
       "                           ('trainable', True),\n",
       "                           ('nb_params', 65536)])),\n",
       "             ('BatchNorm2d-32',\n",
       "              OrderedDict([('input_shape', [-1, 256, 7, 7]),\n",
       "                           ('output_shape', [-1, 256, 7, 7]),\n",
       "                           ('trainable', True),\n",
       "                           ('nb_params', 512)])),\n",
       "             ('ReLU-33',\n",
       "              OrderedDict([('input_shape', [-1, 256, 7, 7]),\n",
       "                           ('output_shape', [-1, 256, 7, 7]),\n",
       "                           ('nb_params', 0)])),\n",
       "             ('Conv2d-34',\n",
       "              OrderedDict([('input_shape', [-1, 256, 7, 7]),\n",
       "                           ('output_shape', [-1, 512, 7, 7]),\n",
       "                           ('trainable', True),\n",
       "                           ('nb_params', 131072)])),\n",
       "             ('BatchNorm2d-35',\n",
       "              OrderedDict([('input_shape', [-1, 512, 7, 7]),\n",
       "                           ('output_shape', [-1, 512, 7, 7]),\n",
       "                           ('trainable', True),\n",
       "                           ('nb_params', 1024)])),\n",
       "             ('ReLU-36',\n",
       "              OrderedDict([('input_shape', [-1, 512, 7, 7]),\n",
       "                           ('output_shape', [-1, 512, 7, 7]),\n",
       "                           ('nb_params', 0)])),\n",
       "             ('Conv2d-37',\n",
       "              OrderedDict([('input_shape', [-1, 512, 7, 7]),\n",
       "                           ('output_shape', [-1, 512, 4, 4]),\n",
       "                           ('trainable', True),\n",
       "                           ('nb_params', 36864)])),\n",
       "             ('BatchNorm2d-38',\n",
       "              OrderedDict([('input_shape', [-1, 512, 4, 4]),\n",
       "                           ('output_shape', [-1, 512, 4, 4]),\n",
       "                           ('trainable', True),\n",
       "                           ('nb_params', 1024)])),\n",
       "             ('ReLU-39',\n",
       "              OrderedDict([('input_shape', [-1, 512, 4, 4]),\n",
       "                           ('output_shape', [-1, 512, 4, 4]),\n",
       "                           ('nb_params', 0)])),\n",
       "             ('Conv2d-40',\n",
       "              OrderedDict([('input_shape', [-1, 512, 4, 4]),\n",
       "                           ('output_shape', [-1, 512, 4, 4]),\n",
       "                           ('trainable', True),\n",
       "                           ('nb_params', 262144)])),\n",
       "             ('BatchNorm2d-41',\n",
       "              OrderedDict([('input_shape', [-1, 512, 4, 4]),\n",
       "                           ('output_shape', [-1, 512, 4, 4]),\n",
       "                           ('trainable', True),\n",
       "                           ('nb_params', 1024)])),\n",
       "             ('Conv2d-42',\n",
       "              OrderedDict([('input_shape', [-1, 256, 7, 7]),\n",
       "                           ('output_shape', [-1, 512, 4, 4]),\n",
       "                           ('trainable', True),\n",
       "                           ('nb_params', 131072)])),\n",
       "             ('BatchNorm2d-43',\n",
       "              OrderedDict([('input_shape', [-1, 512, 4, 4]),\n",
       "                           ('output_shape', [-1, 512, 4, 4]),\n",
       "                           ('trainable', True),\n",
       "                           ('nb_params', 1024)])),\n",
       "             ('ReLU-44',\n",
       "              OrderedDict([('input_shape', [-1, 512, 4, 4]),\n",
       "                           ('output_shape', [-1, 512, 4, 4]),\n",
       "                           ('nb_params', 0)])),\n",
       "             ('Conv2d-45',\n",
       "              OrderedDict([('input_shape', [-1, 512, 4, 4]),\n",
       "                           ('output_shape', [-1, 512, 4, 4]),\n",
       "                           ('trainable', True),\n",
       "                           ('nb_params', 262144)])),\n",
       "             ('BatchNorm2d-46',\n",
       "              OrderedDict([('input_shape', [-1, 512, 4, 4]),\n",
       "                           ('output_shape', [-1, 512, 4, 4]),\n",
       "                           ('trainable', True),\n",
       "                           ('nb_params', 1024)])),\n",
       "             ('ReLU-47',\n",
       "              OrderedDict([('input_shape', [-1, 512, 4, 4]),\n",
       "                           ('output_shape', [-1, 512, 4, 4]),\n",
       "                           ('nb_params', 0)])),\n",
       "             ('Conv2d-48',\n",
       "              OrderedDict([('input_shape', [-1, 512, 4, 4]),\n",
       "                           ('output_shape', [-1, 512, 4, 4]),\n",
       "                           ('trainable', True),\n",
       "                           ('nb_params', 36864)])),\n",
       "             ('BatchNorm2d-49',\n",
       "              OrderedDict([('input_shape', [-1, 512, 4, 4]),\n",
       "                           ('output_shape', [-1, 512, 4, 4]),\n",
       "                           ('trainable', True),\n",
       "                           ('nb_params', 1024)])),\n",
       "             ('ReLU-50',\n",
       "              OrderedDict([('input_shape', [-1, 512, 4, 4]),\n",
       "                           ('output_shape', [-1, 512, 4, 4]),\n",
       "                           ('nb_params', 0)])),\n",
       "             ('Conv2d-51',\n",
       "              OrderedDict([('input_shape', [-1, 512, 4, 4]),\n",
       "                           ('output_shape', [-1, 512, 4, 4]),\n",
       "                           ('trainable', True),\n",
       "                           ('nb_params', 262144)])),\n",
       "             ('BatchNorm2d-52',\n",
       "              OrderedDict([('input_shape', [-1, 512, 4, 4]),\n",
       "                           ('output_shape', [-1, 512, 4, 4]),\n",
       "                           ('trainable', True),\n",
       "                           ('nb_params', 1024)])),\n",
       "             ('ReLU-53',\n",
       "              OrderedDict([('input_shape', [-1, 512, 4, 4]),\n",
       "                           ('output_shape', [-1, 512, 4, 4]),\n",
       "                           ('nb_params', 0)])),\n",
       "             ('Conv2d-54',\n",
       "              OrderedDict([('input_shape', [-1, 512, 4, 4]),\n",
       "                           ('output_shape', [-1, 512, 4, 4]),\n",
       "                           ('trainable', True),\n",
       "                           ('nb_params', 262144)])),\n",
       "             ('BatchNorm2d-55',\n",
       "              OrderedDict([('input_shape', [-1, 512, 4, 4]),\n",
       "                           ('output_shape', [-1, 512, 4, 4]),\n",
       "                           ('trainable', True),\n",
       "                           ('nb_params', 1024)])),\n",
       "             ('ReLU-56',\n",
       "              OrderedDict([('input_shape', [-1, 512, 4, 4]),\n",
       "                           ('output_shape', [-1, 512, 4, 4]),\n",
       "                           ('nb_params', 0)])),\n",
       "             ('Conv2d-57',\n",
       "              OrderedDict([('input_shape', [-1, 512, 4, 4]),\n",
       "                           ('output_shape', [-1, 512, 4, 4]),\n",
       "                           ('trainable', True),\n",
       "                           ('nb_params', 36864)])),\n",
       "             ('BatchNorm2d-58',\n",
       "              OrderedDict([('input_shape', [-1, 512, 4, 4]),\n",
       "                           ('output_shape', [-1, 512, 4, 4]),\n",
       "                           ('trainable', True),\n",
       "                           ('nb_params', 1024)])),\n",
       "             ('ReLU-59',\n",
       "              OrderedDict([('input_shape', [-1, 512, 4, 4]),\n",
       "                           ('output_shape', [-1, 512, 4, 4]),\n",
       "                           ('nb_params', 0)])),\n",
       "             ('Conv2d-60',\n",
       "              OrderedDict([('input_shape', [-1, 512, 4, 4]),\n",
       "                           ('output_shape', [-1, 512, 4, 4]),\n",
       "                           ('trainable', True),\n",
       "                           ('nb_params', 262144)])),\n",
       "             ('BatchNorm2d-61',\n",
       "              OrderedDict([('input_shape', [-1, 512, 4, 4]),\n",
       "                           ('output_shape', [-1, 512, 4, 4]),\n",
       "                           ('trainable', True),\n",
       "                           ('nb_params', 1024)])),\n",
       "             ('ReLU-62',\n",
       "              OrderedDict([('input_shape', [-1, 512, 4, 4]),\n",
       "                           ('output_shape', [-1, 512, 4, 4]),\n",
       "                           ('nb_params', 0)])),\n",
       "             ('Conv2d-63',\n",
       "              OrderedDict([('input_shape', [-1, 512, 4, 4]),\n",
       "                           ('output_shape', [-1, 512, 4, 4]),\n",
       "                           ('trainable', True),\n",
       "                           ('nb_params', 262144)])),\n",
       "             ('BatchNorm2d-64',\n",
       "              OrderedDict([('input_shape', [-1, 512, 4, 4]),\n",
       "                           ('output_shape', [-1, 512, 4, 4]),\n",
       "                           ('trainable', True),\n",
       "                           ('nb_params', 1024)])),\n",
       "             ('ReLU-65',\n",
       "              OrderedDict([('input_shape', [-1, 512, 4, 4]),\n",
       "                           ('output_shape', [-1, 512, 4, 4]),\n",
       "                           ('nb_params', 0)])),\n",
       "             ('Conv2d-66',\n",
       "              OrderedDict([('input_shape', [-1, 512, 4, 4]),\n",
       "                           ('output_shape', [-1, 512, 4, 4]),\n",
       "                           ('trainable', True),\n",
       "                           ('nb_params', 36864)])),\n",
       "             ('BatchNorm2d-67',\n",
       "              OrderedDict([('input_shape', [-1, 512, 4, 4]),\n",
       "                           ('output_shape', [-1, 512, 4, 4]),\n",
       "                           ('trainable', True),\n",
       "                           ('nb_params', 1024)])),\n",
       "             ('ReLU-68',\n",
       "              OrderedDict([('input_shape', [-1, 512, 4, 4]),\n",
       "                           ('output_shape', [-1, 512, 4, 4]),\n",
       "                           ('nb_params', 0)])),\n",
       "             ('Conv2d-69',\n",
       "              OrderedDict([('input_shape', [-1, 512, 4, 4]),\n",
       "                           ('output_shape', [-1, 512, 4, 4]),\n",
       "                           ('trainable', True),\n",
       "                           ('nb_params', 262144)])),\n",
       "             ('BatchNorm2d-70',\n",
       "              OrderedDict([('input_shape', [-1, 512, 4, 4]),\n",
       "                           ('output_shape', [-1, 512, 4, 4]),\n",
       "                           ('trainable', True),\n",
       "                           ('nb_params', 1024)])),\n",
       "             ('ReLU-71',\n",
       "              OrderedDict([('input_shape', [-1, 512, 4, 4]),\n",
       "                           ('output_shape', [-1, 512, 4, 4]),\n",
       "                           ('nb_params', 0)])),\n",
       "             ('Conv2d-72',\n",
       "              OrderedDict([('input_shape', [-1, 512, 4, 4]),\n",
       "                           ('output_shape', [-1, 1024, 4, 4]),\n",
       "                           ('trainable', True),\n",
       "                           ('nb_params', 524288)])),\n",
       "             ('BatchNorm2d-73',\n",
       "              OrderedDict([('input_shape', [-1, 1024, 4, 4]),\n",
       "                           ('output_shape', [-1, 1024, 4, 4]),\n",
       "                           ('trainable', True),\n",
       "                           ('nb_params', 2048)])),\n",
       "             ('ReLU-74',\n",
       "              OrderedDict([('input_shape', [-1, 1024, 4, 4]),\n",
       "                           ('output_shape', [-1, 1024, 4, 4]),\n",
       "                           ('nb_params', 0)])),\n",
       "             ('Conv2d-75',\n",
       "              OrderedDict([('input_shape', [-1, 1024, 4, 4]),\n",
       "                           ('output_shape', [-1, 1024, 2, 2]),\n",
       "                           ('trainable', True),\n",
       "                           ('nb_params', 147456)])),\n",
       "             ('BatchNorm2d-76',\n",
       "              OrderedDict([('input_shape', [-1, 1024, 2, 2]),\n",
       "                           ('output_shape', [-1, 1024, 2, 2]),\n",
       "                           ('trainable', True),\n",
       "                           ('nb_params', 2048)])),\n",
       "             ('ReLU-77',\n",
       "              OrderedDict([('input_shape', [-1, 1024, 2, 2]),\n",
       "                           ('output_shape', [-1, 1024, 2, 2]),\n",
       "                           ('nb_params', 0)])),\n",
       "             ('Conv2d-78',\n",
       "              OrderedDict([('input_shape', [-1, 1024, 2, 2]),\n",
       "                           ('output_shape', [-1, 1024, 2, 2]),\n",
       "                           ('trainable', True),\n",
       "                           ('nb_params', 1048576)])),\n",
       "             ('BatchNorm2d-79',\n",
       "              OrderedDict([('input_shape', [-1, 1024, 2, 2]),\n",
       "                           ('output_shape', [-1, 1024, 2, 2]),\n",
       "                           ('trainable', True),\n",
       "                           ('nb_params', 2048)])),\n",
       "             ('Conv2d-80',\n",
       "              OrderedDict([('input_shape', [-1, 512, 4, 4]),\n",
       "                           ('output_shape', [-1, 1024, 2, 2]),\n",
       "                           ('trainable', True),\n",
       "                           ('nb_params', 524288)])),\n",
       "             ('BatchNorm2d-81',\n",
       "              OrderedDict([('input_shape', [-1, 1024, 2, 2]),\n",
       "                           ('output_shape', [-1, 1024, 2, 2]),\n",
       "                           ('trainable', True),\n",
       "                           ('nb_params', 2048)])),\n",
       "             ('ReLU-82',\n",
       "              OrderedDict([('input_shape', [-1, 1024, 2, 2]),\n",
       "                           ('output_shape', [-1, 1024, 2, 2]),\n",
       "                           ('nb_params', 0)])),\n",
       "             ('Conv2d-83',\n",
       "              OrderedDict([('input_shape', [-1, 1024, 2, 2]),\n",
       "                           ('output_shape', [-1, 1024, 2, 2]),\n",
       "                           ('trainable', True),\n",
       "                           ('nb_params', 1048576)])),\n",
       "             ('BatchNorm2d-84',\n",
       "              OrderedDict([('input_shape', [-1, 1024, 2, 2]),\n",
       "                           ('output_shape', [-1, 1024, 2, 2]),\n",
       "                           ('trainable', True),\n",
       "                           ('nb_params', 2048)])),\n",
       "             ('ReLU-85',\n",
       "              OrderedDict([('input_shape', [-1, 1024, 2, 2]),\n",
       "                           ('output_shape', [-1, 1024, 2, 2]),\n",
       "                           ('nb_params', 0)])),\n",
       "             ('Conv2d-86',\n",
       "              OrderedDict([('input_shape', [-1, 1024, 2, 2]),\n",
       "                           ('output_shape', [-1, 1024, 2, 2]),\n",
       "                           ('trainable', True),\n",
       "                           ('nb_params', 147456)])),\n",
       "             ('BatchNorm2d-87',\n",
       "              OrderedDict([('input_shape', [-1, 1024, 2, 2]),\n",
       "                           ('output_shape', [-1, 1024, 2, 2]),\n",
       "                           ('trainable', True),\n",
       "                           ('nb_params', 2048)])),\n",
       "             ('ReLU-88',\n",
       "              OrderedDict([('input_shape', [-1, 1024, 2, 2]),\n",
       "                           ('output_shape', [-1, 1024, 2, 2]),\n",
       "                           ('nb_params', 0)])),\n",
       "             ('Conv2d-89',\n",
       "              OrderedDict([('input_shape', [-1, 1024, 2, 2]),\n",
       "                           ('output_shape', [-1, 1024, 2, 2]),\n",
       "                           ('trainable', True),\n",
       "                           ('nb_params', 1048576)])),\n",
       "             ('BatchNorm2d-90',\n",
       "              OrderedDict([('input_shape', [-1, 1024, 2, 2]),\n",
       "                           ('output_shape', [-1, 1024, 2, 2]),\n",
       "                           ('trainable', True),\n",
       "                           ('nb_params', 2048)])),\n",
       "             ('ReLU-91',\n",
       "              OrderedDict([('input_shape', [-1, 1024, 2, 2]),\n",
       "                           ('output_shape', [-1, 1024, 2, 2]),\n",
       "                           ('nb_params', 0)])),\n",
       "             ('Conv2d-92',\n",
       "              OrderedDict([('input_shape', [-1, 1024, 2, 2]),\n",
       "                           ('output_shape', [-1, 1024, 2, 2]),\n",
       "                           ('trainable', True),\n",
       "                           ('nb_params', 1048576)])),\n",
       "             ('BatchNorm2d-93',\n",
       "              OrderedDict([('input_shape', [-1, 1024, 2, 2]),\n",
       "                           ('output_shape', [-1, 1024, 2, 2]),\n",
       "                           ('trainable', True),\n",
       "                           ('nb_params', 2048)])),\n",
       "             ('ReLU-94',\n",
       "              OrderedDict([('input_shape', [-1, 1024, 2, 2]),\n",
       "                           ('output_shape', [-1, 1024, 2, 2]),\n",
       "                           ('nb_params', 0)])),\n",
       "             ('Conv2d-95',\n",
       "              OrderedDict([('input_shape', [-1, 1024, 2, 2]),\n",
       "                           ('output_shape', [-1, 1024, 2, 2]),\n",
       "                           ('trainable', True),\n",
       "                           ('nb_params', 147456)])),\n",
       "             ('BatchNorm2d-96',\n",
       "              OrderedDict([('input_shape', [-1, 1024, 2, 2]),\n",
       "                           ('output_shape', [-1, 1024, 2, 2]),\n",
       "                           ('trainable', True),\n",
       "                           ('nb_params', 2048)])),\n",
       "             ('ReLU-97',\n",
       "              OrderedDict([('input_shape', [-1, 1024, 2, 2]),\n",
       "                           ('output_shape', [-1, 1024, 2, 2]),\n",
       "                           ('nb_params', 0)])),\n",
       "             ('Conv2d-98',\n",
       "              OrderedDict([('input_shape', [-1, 1024, 2, 2]),\n",
       "                           ('output_shape', [-1, 1024, 2, 2]),\n",
       "                           ('trainable', True),\n",
       "                           ('nb_params', 1048576)])),\n",
       "             ('BatchNorm2d-99',\n",
       "              OrderedDict([('input_shape', [-1, 1024, 2, 2]),\n",
       "                           ('output_shape', [-1, 1024, 2, 2]),\n",
       "                           ('trainable', True),\n",
       "                           ('nb_params', 2048)])),\n",
       "             ('ReLU-100',\n",
       "              OrderedDict([('input_shape', [-1, 1024, 2, 2]),\n",
       "                           ('output_shape', [-1, 1024, 2, 2]),\n",
       "                           ('nb_params', 0)])),\n",
       "             ('Conv2d-101',\n",
       "              OrderedDict([('input_shape', [-1, 1024, 2, 2]),\n",
       "                           ('output_shape', [-1, 1024, 2, 2]),\n",
       "                           ('trainable', True),\n",
       "                           ('nb_params', 1048576)])),\n",
       "             ('BatchNorm2d-102',\n",
       "              OrderedDict([('input_shape', [-1, 1024, 2, 2]),\n",
       "                           ('output_shape', [-1, 1024, 2, 2]),\n",
       "                           ('trainable', True),\n",
       "                           ('nb_params', 2048)])),\n",
       "             ('ReLU-103',\n",
       "              OrderedDict([('input_shape', [-1, 1024, 2, 2]),\n",
       "                           ('output_shape', [-1, 1024, 2, 2]),\n",
       "                           ('nb_params', 0)])),\n",
       "             ('Conv2d-104',\n",
       "              OrderedDict([('input_shape', [-1, 1024, 2, 2]),\n",
       "                           ('output_shape', [-1, 1024, 2, 2]),\n",
       "                           ('trainable', True),\n",
       "                           ('nb_params', 147456)])),\n",
       "             ('BatchNorm2d-105',\n",
       "              OrderedDict([('input_shape', [-1, 1024, 2, 2]),\n",
       "                           ('output_shape', [-1, 1024, 2, 2]),\n",
       "                           ('trainable', True),\n",
       "                           ('nb_params', 2048)])),\n",
       "             ('ReLU-106',\n",
       "              OrderedDict([('input_shape', [-1, 1024, 2, 2]),\n",
       "                           ('output_shape', [-1, 1024, 2, 2]),\n",
       "                           ('nb_params', 0)])),\n",
       "             ('Conv2d-107',\n",
       "              OrderedDict([('input_shape', [-1, 1024, 2, 2]),\n",
       "                           ('output_shape', [-1, 1024, 2, 2]),\n",
       "                           ('trainable', True),\n",
       "                           ('nb_params', 1048576)])),\n",
       "             ('BatchNorm2d-108',\n",
       "              OrderedDict([('input_shape', [-1, 1024, 2, 2]),\n",
       "                           ('output_shape', [-1, 1024, 2, 2]),\n",
       "                           ('trainable', True),\n",
       "                           ('nb_params', 2048)])),\n",
       "             ('ReLU-109',\n",
       "              OrderedDict([('input_shape', [-1, 1024, 2, 2]),\n",
       "                           ('output_shape', [-1, 1024, 2, 2]),\n",
       "                           ('nb_params', 0)])),\n",
       "             ('Conv2d-110',\n",
       "              OrderedDict([('input_shape', [-1, 1024, 2, 2]),\n",
       "                           ('output_shape', [-1, 1024, 2, 2]),\n",
       "                           ('trainable', True),\n",
       "                           ('nb_params', 1048576)])),\n",
       "             ('BatchNorm2d-111',\n",
       "              OrderedDict([('input_shape', [-1, 1024, 2, 2]),\n",
       "                           ('output_shape', [-1, 1024, 2, 2]),\n",
       "                           ('trainable', True),\n",
       "                           ('nb_params', 2048)])),\n",
       "             ('ReLU-112',\n",
       "              OrderedDict([('input_shape', [-1, 1024, 2, 2]),\n",
       "                           ('output_shape', [-1, 1024, 2, 2]),\n",
       "                           ('nb_params', 0)])),\n",
       "             ('Conv2d-113',\n",
       "              OrderedDict([('input_shape', [-1, 1024, 2, 2]),\n",
       "                           ('output_shape', [-1, 1024, 2, 2]),\n",
       "                           ('trainable', True),\n",
       "                           ('nb_params', 147456)])),\n",
       "             ('BatchNorm2d-114',\n",
       "              OrderedDict([('input_shape', [-1, 1024, 2, 2]),\n",
       "                           ('output_shape', [-1, 1024, 2, 2]),\n",
       "                           ('trainable', True),\n",
       "                           ('nb_params', 2048)])),\n",
       "             ('ReLU-115',\n",
       "              OrderedDict([('input_shape', [-1, 1024, 2, 2]),\n",
       "                           ('output_shape', [-1, 1024, 2, 2]),\n",
       "                           ('nb_params', 0)])),\n",
       "             ('Conv2d-116',\n",
       "              OrderedDict([('input_shape', [-1, 1024, 2, 2]),\n",
       "                           ('output_shape', [-1, 1024, 2, 2]),\n",
       "                           ('trainable', True),\n",
       "                           ('nb_params', 1048576)])),\n",
       "             ('BatchNorm2d-117',\n",
       "              OrderedDict([('input_shape', [-1, 1024, 2, 2]),\n",
       "                           ('output_shape', [-1, 1024, 2, 2]),\n",
       "                           ('trainable', True),\n",
       "                           ('nb_params', 2048)])),\n",
       "             ('ReLU-118',\n",
       "              OrderedDict([('input_shape', [-1, 1024, 2, 2]),\n",
       "                           ('output_shape', [-1, 1024, 2, 2]),\n",
       "                           ('nb_params', 0)])),\n",
       "             ('Conv2d-119',\n",
       "              OrderedDict([('input_shape', [-1, 1024, 2, 2]),\n",
       "                           ('output_shape', [-1, 1024, 2, 2]),\n",
       "                           ('trainable', True),\n",
       "                           ('nb_params', 1048576)])),\n",
       "             ('BatchNorm2d-120',\n",
       "              OrderedDict([('input_shape', [-1, 1024, 2, 2]),\n",
       "                           ('output_shape', [-1, 1024, 2, 2]),\n",
       "                           ('trainable', True),\n",
       "                           ('nb_params', 2048)])),\n",
       "             ('ReLU-121',\n",
       "              OrderedDict([('input_shape', [-1, 1024, 2, 2]),\n",
       "                           ('output_shape', [-1, 1024, 2, 2]),\n",
       "                           ('nb_params', 0)])),\n",
       "             ('Conv2d-122',\n",
       "              OrderedDict([('input_shape', [-1, 1024, 2, 2]),\n",
       "                           ('output_shape', [-1, 1024, 2, 2]),\n",
       "                           ('trainable', True),\n",
       "                           ('nb_params', 147456)])),\n",
       "             ('BatchNorm2d-123',\n",
       "              OrderedDict([('input_shape', [-1, 1024, 2, 2]),\n",
       "                           ('output_shape', [-1, 1024, 2, 2]),\n",
       "                           ('trainable', True),\n",
       "                           ('nb_params', 2048)])),\n",
       "             ('ReLU-124',\n",
       "              OrderedDict([('input_shape', [-1, 1024, 2, 2]),\n",
       "                           ('output_shape', [-1, 1024, 2, 2]),\n",
       "                           ('nb_params', 0)])),\n",
       "             ('Conv2d-125',\n",
       "              OrderedDict([('input_shape', [-1, 1024, 2, 2]),\n",
       "                           ('output_shape', [-1, 1024, 2, 2]),\n",
       "                           ('trainable', True),\n",
       "                           ('nb_params', 1048576)])),\n",
       "             ('BatchNorm2d-126',\n",
       "              OrderedDict([('input_shape', [-1, 1024, 2, 2]),\n",
       "                           ('output_shape', [-1, 1024, 2, 2]),\n",
       "                           ('trainable', True),\n",
       "                           ('nb_params', 2048)])),\n",
       "             ('ReLU-127',\n",
       "              OrderedDict([('input_shape', [-1, 1024, 2, 2]),\n",
       "                           ('output_shape', [-1, 1024, 2, 2]),\n",
       "                           ('nb_params', 0)])),\n",
       "             ('Conv2d-128',\n",
       "              OrderedDict([('input_shape', [-1, 1024, 2, 2]),\n",
       "                           ('output_shape', [-1, 1024, 2, 2]),\n",
       "                           ('trainable', True),\n",
       "                           ('nb_params', 1048576)])),\n",
       "             ('BatchNorm2d-129',\n",
       "              OrderedDict([('input_shape', [-1, 1024, 2, 2]),\n",
       "                           ('output_shape', [-1, 1024, 2, 2]),\n",
       "                           ('trainable', True),\n",
       "                           ('nb_params', 2048)])),\n",
       "             ('ReLU-130',\n",
       "              OrderedDict([('input_shape', [-1, 1024, 2, 2]),\n",
       "                           ('output_shape', [-1, 1024, 2, 2]),\n",
       "                           ('nb_params', 0)])),\n",
       "             ('Conv2d-131',\n",
       "              OrderedDict([('input_shape', [-1, 1024, 2, 2]),\n",
       "                           ('output_shape', [-1, 1024, 2, 2]),\n",
       "                           ('trainable', True),\n",
       "                           ('nb_params', 147456)])),\n",
       "             ('BatchNorm2d-132',\n",
       "              OrderedDict([('input_shape', [-1, 1024, 2, 2]),\n",
       "                           ('output_shape', [-1, 1024, 2, 2]),\n",
       "                           ('trainable', True),\n",
       "                           ('nb_params', 2048)])),\n",
       "             ('ReLU-133',\n",
       "              OrderedDict([('input_shape', [-1, 1024, 2, 2]),\n",
       "                           ('output_shape', [-1, 1024, 2, 2]),\n",
       "                           ('nb_params', 0)])),\n",
       "             ('Conv2d-134',\n",
       "              OrderedDict([('input_shape', [-1, 1024, 2, 2]),\n",
       "                           ('output_shape', [-1, 1024, 2, 2]),\n",
       "                           ('trainable', True),\n",
       "                           ('nb_params', 1048576)])),\n",
       "             ('BatchNorm2d-135',\n",
       "              OrderedDict([('input_shape', [-1, 1024, 2, 2]),\n",
       "                           ('output_shape', [-1, 1024, 2, 2]),\n",
       "                           ('trainable', True),\n",
       "                           ('nb_params', 2048)])),\n",
       "             ('ReLU-136',\n",
       "              OrderedDict([('input_shape', [-1, 1024, 2, 2]),\n",
       "                           ('output_shape', [-1, 1024, 2, 2]),\n",
       "                           ('nb_params', 0)])),\n",
       "             ('Conv2d-137',\n",
       "              OrderedDict([('input_shape', [-1, 1024, 2, 2]),\n",
       "                           ('output_shape', [-1, 1024, 2, 2]),\n",
       "                           ('trainable', True),\n",
       "                           ('nb_params', 1048576)])),\n",
       "             ('BatchNorm2d-138',\n",
       "              OrderedDict([('input_shape', [-1, 1024, 2, 2]),\n",
       "                           ('output_shape', [-1, 1024, 2, 2]),\n",
       "                           ('trainable', True),\n",
       "                           ('nb_params', 2048)])),\n",
       "             ('ReLU-139',\n",
       "              OrderedDict([('input_shape', [-1, 1024, 2, 2]),\n",
       "                           ('output_shape', [-1, 1024, 2, 2]),\n",
       "                           ('nb_params', 0)])),\n",
       "             ('Conv2d-140',\n",
       "              OrderedDict([('input_shape', [-1, 1024, 2, 2]),\n",
       "                           ('output_shape', [-1, 1024, 2, 2]),\n",
       "                           ('trainable', True),\n",
       "                           ('nb_params', 147456)])),\n",
       "             ('BatchNorm2d-141',\n",
       "              OrderedDict([('input_shape', [-1, 1024, 2, 2]),\n",
       "                           ('output_shape', [-1, 1024, 2, 2]),\n",
       "                           ('trainable', True),\n",
       "                           ('nb_params', 2048)])),\n",
       "             ('ReLU-142',\n",
       "              OrderedDict([('input_shape', [-1, 1024, 2, 2]),\n",
       "                           ('output_shape', [-1, 1024, 2, 2]),\n",
       "                           ('nb_params', 0)])),\n",
       "             ('Conv2d-143',\n",
       "              OrderedDict([('input_shape', [-1, 1024, 2, 2]),\n",
       "                           ('output_shape', [-1, 1024, 2, 2]),\n",
       "                           ('trainable', True),\n",
       "                           ('nb_params', 1048576)])),\n",
       "             ('BatchNorm2d-144',\n",
       "              OrderedDict([('input_shape', [-1, 1024, 2, 2]),\n",
       "                           ('output_shape', [-1, 1024, 2, 2]),\n",
       "                           ('trainable', True),\n",
       "                           ('nb_params', 2048)])),\n",
       "             ('ReLU-145',\n",
       "              OrderedDict([('input_shape', [-1, 1024, 2, 2]),\n",
       "                           ('output_shape', [-1, 1024, 2, 2]),\n",
       "                           ('nb_params', 0)])),\n",
       "             ('Conv2d-146',\n",
       "              OrderedDict([('input_shape', [-1, 1024, 2, 2]),\n",
       "                           ('output_shape', [-1, 1024, 2, 2]),\n",
       "                           ('trainable', True),\n",
       "                           ('nb_params', 1048576)])),\n",
       "             ('BatchNorm2d-147',\n",
       "              OrderedDict([('input_shape', [-1, 1024, 2, 2]),\n",
       "                           ('output_shape', [-1, 1024, 2, 2]),\n",
       "                           ('trainable', True),\n",
       "                           ('nb_params', 2048)])),\n",
       "             ('ReLU-148',\n",
       "              OrderedDict([('input_shape', [-1, 1024, 2, 2]),\n",
       "                           ('output_shape', [-1, 1024, 2, 2]),\n",
       "                           ('nb_params', 0)])),\n",
       "             ('Conv2d-149',\n",
       "              OrderedDict([('input_shape', [-1, 1024, 2, 2]),\n",
       "                           ('output_shape', [-1, 1024, 2, 2]),\n",
       "                           ('trainable', True),\n",
       "                           ('nb_params', 147456)])),\n",
       "             ('BatchNorm2d-150',\n",
       "              OrderedDict([('input_shape', [-1, 1024, 2, 2]),\n",
       "                           ('output_shape', [-1, 1024, 2, 2]),\n",
       "                           ('trainable', True),\n",
       "                           ('nb_params', 2048)])),\n",
       "             ('ReLU-151',\n",
       "              OrderedDict([('input_shape', [-1, 1024, 2, 2]),\n",
       "                           ('output_shape', [-1, 1024, 2, 2]),\n",
       "                           ('nb_params', 0)])),\n",
       "             ('Conv2d-152',\n",
       "              OrderedDict([('input_shape', [-1, 1024, 2, 2]),\n",
       "                           ('output_shape', [-1, 1024, 2, 2]),\n",
       "                           ('trainable', True),\n",
       "                           ('nb_params', 1048576)])),\n",
       "             ('BatchNorm2d-153',\n",
       "              OrderedDict([('input_shape', [-1, 1024, 2, 2]),\n",
       "                           ('output_shape', [-1, 1024, 2, 2]),\n",
       "                           ('trainable', True),\n",
       "                           ('nb_params', 2048)])),\n",
       "             ('ReLU-154',\n",
       "              OrderedDict([('input_shape', [-1, 1024, 2, 2]),\n",
       "                           ('output_shape', [-1, 1024, 2, 2]),\n",
       "                           ('nb_params', 0)])),\n",
       "             ('Conv2d-155',\n",
       "              OrderedDict([('input_shape', [-1, 1024, 2, 2]),\n",
       "                           ('output_shape', [-1, 1024, 2, 2]),\n",
       "                           ('trainable', True),\n",
       "                           ('nb_params', 1048576)])),\n",
       "             ('BatchNorm2d-156',\n",
       "              OrderedDict([('input_shape', [-1, 1024, 2, 2]),\n",
       "                           ('output_shape', [-1, 1024, 2, 2]),\n",
       "                           ('trainable', True),\n",
       "                           ('nb_params', 2048)])),\n",
       "             ('ReLU-157',\n",
       "              OrderedDict([('input_shape', [-1, 1024, 2, 2]),\n",
       "                           ('output_shape', [-1, 1024, 2, 2]),\n",
       "                           ('nb_params', 0)])),\n",
       "             ('Conv2d-158',\n",
       "              OrderedDict([('input_shape', [-1, 1024, 2, 2]),\n",
       "                           ('output_shape', [-1, 1024, 2, 2]),\n",
       "                           ('trainable', True),\n",
       "                           ('nb_params', 147456)])),\n",
       "             ('BatchNorm2d-159',\n",
       "              OrderedDict([('input_shape', [-1, 1024, 2, 2]),\n",
       "                           ('output_shape', [-1, 1024, 2, 2]),\n",
       "                           ('trainable', True),\n",
       "                           ('nb_params', 2048)])),\n",
       "             ('ReLU-160',\n",
       "              OrderedDict([('input_shape', [-1, 1024, 2, 2]),\n",
       "                           ('output_shape', [-1, 1024, 2, 2]),\n",
       "                           ('nb_params', 0)])),\n",
       "             ('Conv2d-161',\n",
       "              OrderedDict([('input_shape', [-1, 1024, 2, 2]),\n",
       "                           ('output_shape', [-1, 1024, 2, 2]),\n",
       "                           ('trainable', True),\n",
       "                           ('nb_params', 1048576)])),\n",
       "             ('BatchNorm2d-162',\n",
       "              OrderedDict([('input_shape', [-1, 1024, 2, 2]),\n",
       "                           ('output_shape', [-1, 1024, 2, 2]),\n",
       "                           ('trainable', True),\n",
       "                           ('nb_params', 2048)])),\n",
       "             ('ReLU-163',\n",
       "              OrderedDict([('input_shape', [-1, 1024, 2, 2]),\n",
       "                           ('output_shape', [-1, 1024, 2, 2]),\n",
       "                           ('nb_params', 0)])),\n",
       "             ('Conv2d-164',\n",
       "              OrderedDict([('input_shape', [-1, 1024, 2, 2]),\n",
       "                           ('output_shape', [-1, 1024, 2, 2]),\n",
       "                           ('trainable', True),\n",
       "                           ('nb_params', 1048576)])),\n",
       "             ('BatchNorm2d-165',\n",
       "              OrderedDict([('input_shape', [-1, 1024, 2, 2]),\n",
       "                           ('output_shape', [-1, 1024, 2, 2]),\n",
       "                           ('trainable', True),\n",
       "                           ('nb_params', 2048)])),\n",
       "             ('ReLU-166',\n",
       "              OrderedDict([('input_shape', [-1, 1024, 2, 2]),\n",
       "                           ('output_shape', [-1, 1024, 2, 2]),\n",
       "                           ('nb_params', 0)])),\n",
       "             ('Conv2d-167',\n",
       "              OrderedDict([('input_shape', [-1, 1024, 2, 2]),\n",
       "                           ('output_shape', [-1, 1024, 2, 2]),\n",
       "                           ('trainable', True),\n",
       "                           ('nb_params', 147456)])),\n",
       "             ('BatchNorm2d-168',\n",
       "              OrderedDict([('input_shape', [-1, 1024, 2, 2]),\n",
       "                           ('output_shape', [-1, 1024, 2, 2]),\n",
       "                           ('trainable', True),\n",
       "                           ('nb_params', 2048)])),\n",
       "             ('ReLU-169',\n",
       "              OrderedDict([('input_shape', [-1, 1024, 2, 2]),\n",
       "                           ('output_shape', [-1, 1024, 2, 2]),\n",
       "                           ('nb_params', 0)])),\n",
       "             ('Conv2d-170',\n",
       "              OrderedDict([('input_shape', [-1, 1024, 2, 2]),\n",
       "                           ('output_shape', [-1, 1024, 2, 2]),\n",
       "                           ('trainable', True),\n",
       "                           ('nb_params', 1048576)])),\n",
       "             ('BatchNorm2d-171',\n",
       "              OrderedDict([('input_shape', [-1, 1024, 2, 2]),\n",
       "                           ('output_shape', [-1, 1024, 2, 2]),\n",
       "                           ('trainable', True),\n",
       "                           ('nb_params', 2048)])),\n",
       "             ('ReLU-172',\n",
       "              OrderedDict([('input_shape', [-1, 1024, 2, 2]),\n",
       "                           ('output_shape', [-1, 1024, 2, 2]),\n",
       "                           ('nb_params', 0)])),\n",
       "             ('Conv2d-173',\n",
       "              OrderedDict([('input_shape', [-1, 1024, 2, 2]),\n",
       "                           ('output_shape', [-1, 1024, 2, 2]),\n",
       "                           ('trainable', True),\n",
       "                           ('nb_params', 1048576)])),\n",
       "             ('BatchNorm2d-174',\n",
       "              OrderedDict([('input_shape', [-1, 1024, 2, 2]),\n",
       "                           ('output_shape', [-1, 1024, 2, 2]),\n",
       "                           ('trainable', True),\n",
       "                           ('nb_params', 2048)])),\n",
       "             ('ReLU-175',\n",
       "              OrderedDict([('input_shape', [-1, 1024, 2, 2]),\n",
       "                           ('output_shape', [-1, 1024, 2, 2]),\n",
       "                           ('nb_params', 0)])),\n",
       "             ('Conv2d-176',\n",
       "              OrderedDict([('input_shape', [-1, 1024, 2, 2]),\n",
       "                           ('output_shape', [-1, 1024, 2, 2]),\n",
       "                           ('trainable', True),\n",
       "                           ('nb_params', 147456)])),\n",
       "             ('BatchNorm2d-177',\n",
       "              OrderedDict([('input_shape', [-1, 1024, 2, 2]),\n",
       "                           ('output_shape', [-1, 1024, 2, 2]),\n",
       "                           ('trainable', True),\n",
       "                           ('nb_params', 2048)])),\n",
       "             ('ReLU-178',\n",
       "              OrderedDict([('input_shape', [-1, 1024, 2, 2]),\n",
       "                           ('output_shape', [-1, 1024, 2, 2]),\n",
       "                           ('nb_params', 0)])),\n",
       "             ('Conv2d-179',\n",
       "              OrderedDict([('input_shape', [-1, 1024, 2, 2]),\n",
       "                           ('output_shape', [-1, 1024, 2, 2]),\n",
       "                           ('trainable', True),\n",
       "                           ('nb_params', 1048576)])),\n",
       "             ('BatchNorm2d-180',\n",
       "              OrderedDict([('input_shape', [-1, 1024, 2, 2]),\n",
       "                           ('output_shape', [-1, 1024, 2, 2]),\n",
       "                           ('trainable', True),\n",
       "                           ('nb_params', 2048)])),\n",
       "             ('ReLU-181',\n",
       "              OrderedDict([('input_shape', [-1, 1024, 2, 2]),\n",
       "                           ('output_shape', [-1, 1024, 2, 2]),\n",
       "                           ('nb_params', 0)])),\n",
       "             ('Conv2d-182',\n",
       "              OrderedDict([('input_shape', [-1, 1024, 2, 2]),\n",
       "                           ('output_shape', [-1, 1024, 2, 2]),\n",
       "                           ('trainable', True),\n",
       "                           ('nb_params', 1048576)])),\n",
       "             ('BatchNorm2d-183',\n",
       "              OrderedDict([('input_shape', [-1, 1024, 2, 2]),\n",
       "                           ('output_shape', [-1, 1024, 2, 2]),\n",
       "                           ('trainable', True),\n",
       "                           ('nb_params', 2048)])),\n",
       "             ('ReLU-184',\n",
       "              OrderedDict([('input_shape', [-1, 1024, 2, 2]),\n",
       "                           ('output_shape', [-1, 1024, 2, 2]),\n",
       "                           ('nb_params', 0)])),\n",
       "             ('Conv2d-185',\n",
       "              OrderedDict([('input_shape', [-1, 1024, 2, 2]),\n",
       "                           ('output_shape', [-1, 1024, 2, 2]),\n",
       "                           ('trainable', True),\n",
       "                           ('nb_params', 147456)])),\n",
       "             ('BatchNorm2d-186',\n",
       "              OrderedDict([('input_shape', [-1, 1024, 2, 2]),\n",
       "                           ('output_shape', [-1, 1024, 2, 2]),\n",
       "                           ('trainable', True),\n",
       "                           ('nb_params', 2048)])),\n",
       "             ('ReLU-187',\n",
       "              OrderedDict([('input_shape', [-1, 1024, 2, 2]),\n",
       "                           ('output_shape', [-1, 1024, 2, 2]),\n",
       "                           ('nb_params', 0)])),\n",
       "             ('Conv2d-188',\n",
       "              OrderedDict([('input_shape', [-1, 1024, 2, 2]),\n",
       "                           ('output_shape', [-1, 1024, 2, 2]),\n",
       "                           ('trainable', True),\n",
       "                           ('nb_params', 1048576)])),\n",
       "             ('BatchNorm2d-189',\n",
       "              OrderedDict([('input_shape', [-1, 1024, 2, 2]),\n",
       "                           ('output_shape', [-1, 1024, 2, 2]),\n",
       "                           ('trainable', True),\n",
       "                           ('nb_params', 2048)])),\n",
       "             ('ReLU-190',\n",
       "              OrderedDict([('input_shape', [-1, 1024, 2, 2]),\n",
       "                           ('output_shape', [-1, 1024, 2, 2]),\n",
       "                           ('nb_params', 0)])),\n",
       "             ('Conv2d-191',\n",
       "              OrderedDict([('input_shape', [-1, 1024, 2, 2]),\n",
       "                           ('output_shape', [-1, 1024, 2, 2]),\n",
       "                           ('trainable', True),\n",
       "                           ('nb_params', 1048576)])),\n",
       "             ('BatchNorm2d-192',\n",
       "              OrderedDict([('input_shape', [-1, 1024, 2, 2]),\n",
       "                           ('output_shape', [-1, 1024, 2, 2]),\n",
       "                           ('trainable', True),\n",
       "                           ('nb_params', 2048)])),\n",
       "             ('ReLU-193',\n",
       "              OrderedDict([('input_shape', [-1, 1024, 2, 2]),\n",
       "                           ('output_shape', [-1, 1024, 2, 2]),\n",
       "                           ('nb_params', 0)])),\n",
       "             ('Conv2d-194',\n",
       "              OrderedDict([('input_shape', [-1, 1024, 2, 2]),\n",
       "                           ('output_shape', [-1, 1024, 2, 2]),\n",
       "                           ('trainable', True),\n",
       "                           ('nb_params', 147456)])),\n",
       "             ('BatchNorm2d-195',\n",
       "              OrderedDict([('input_shape', [-1, 1024, 2, 2]),\n",
       "                           ('output_shape', [-1, 1024, 2, 2]),\n",
       "                           ('trainable', True),\n",
       "                           ('nb_params', 2048)])),\n",
       "             ('ReLU-196',\n",
       "              OrderedDict([('input_shape', [-1, 1024, 2, 2]),\n",
       "                           ('output_shape', [-1, 1024, 2, 2]),\n",
       "                           ('nb_params', 0)])),\n",
       "             ('Conv2d-197',\n",
       "              OrderedDict([('input_shape', [-1, 1024, 2, 2]),\n",
       "                           ('output_shape', [-1, 1024, 2, 2]),\n",
       "                           ('trainable', True),\n",
       "                           ('nb_params', 1048576)])),\n",
       "             ('BatchNorm2d-198',\n",
       "              OrderedDict([('input_shape', [-1, 1024, 2, 2]),\n",
       "                           ('output_shape', [-1, 1024, 2, 2]),\n",
       "                           ('trainable', True),\n",
       "                           ('nb_params', 2048)])),\n",
       "             ('ReLU-199',\n",
       "              OrderedDict([('input_shape', [-1, 1024, 2, 2]),\n",
       "                           ('output_shape', [-1, 1024, 2, 2]),\n",
       "                           ('nb_params', 0)])),\n",
       "             ('Conv2d-200',\n",
       "              OrderedDict([('input_shape', [-1, 1024, 2, 2]),\n",
       "                           ('output_shape', [-1, 1024, 2, 2]),\n",
       "                           ('trainable', True),\n",
       "                           ('nb_params', 1048576)])),\n",
       "             ('BatchNorm2d-201',\n",
       "              OrderedDict([('input_shape', [-1, 1024, 2, 2]),\n",
       "                           ('output_shape', [-1, 1024, 2, 2]),\n",
       "                           ('trainable', True),\n",
       "                           ('nb_params', 2048)])),\n",
       "             ('ReLU-202',\n",
       "              OrderedDict([('input_shape', [-1, 1024, 2, 2]),\n",
       "                           ('output_shape', [-1, 1024, 2, 2]),\n",
       "                           ('nb_params', 0)])),\n",
       "             ('Conv2d-203',\n",
       "              OrderedDict([('input_shape', [-1, 1024, 2, 2]),\n",
       "                           ('output_shape', [-1, 1024, 2, 2]),\n",
       "                           ('trainable', True),\n",
       "                           ('nb_params', 147456)])),\n",
       "             ('BatchNorm2d-204',\n",
       "              OrderedDict([('input_shape', [-1, 1024, 2, 2]),\n",
       "                           ('output_shape', [-1, 1024, 2, 2]),\n",
       "                           ('trainable', True),\n",
       "                           ('nb_params', 2048)])),\n",
       "             ('ReLU-205',\n",
       "              OrderedDict([('input_shape', [-1, 1024, 2, 2]),\n",
       "                           ('output_shape', [-1, 1024, 2, 2]),\n",
       "                           ('nb_params', 0)])),\n",
       "             ('Conv2d-206',\n",
       "              OrderedDict([('input_shape', [-1, 1024, 2, 2]),\n",
       "                           ('output_shape', [-1, 1024, 2, 2]),\n",
       "                           ('trainable', True),\n",
       "                           ('nb_params', 1048576)])),\n",
       "             ('BatchNorm2d-207',\n",
       "              OrderedDict([('input_shape', [-1, 1024, 2, 2]),\n",
       "                           ('output_shape', [-1, 1024, 2, 2]),\n",
       "                           ('trainable', True),\n",
       "                           ('nb_params', 2048)])),\n",
       "             ('ReLU-208',\n",
       "              OrderedDict([('input_shape', [-1, 1024, 2, 2]),\n",
       "                           ('output_shape', [-1, 1024, 2, 2]),\n",
       "                           ('nb_params', 0)])),\n",
       "             ('Conv2d-209',\n",
       "              OrderedDict([('input_shape', [-1, 1024, 2, 2]),\n",
       "                           ('output_shape', [-1, 1024, 2, 2]),\n",
       "                           ('trainable', True),\n",
       "                           ('nb_params', 1048576)])),\n",
       "             ('BatchNorm2d-210',\n",
       "              OrderedDict([('input_shape', [-1, 1024, 2, 2]),\n",
       "                           ('output_shape', [-1, 1024, 2, 2]),\n",
       "                           ('trainable', True),\n",
       "                           ('nb_params', 2048)])),\n",
       "             ('ReLU-211',\n",
       "              OrderedDict([('input_shape', [-1, 1024, 2, 2]),\n",
       "                           ('output_shape', [-1, 1024, 2, 2]),\n",
       "                           ('nb_params', 0)])),\n",
       "             ('Conv2d-212',\n",
       "              OrderedDict([('input_shape', [-1, 1024, 2, 2]),\n",
       "                           ('output_shape', [-1, 1024, 2, 2]),\n",
       "                           ('trainable', True),\n",
       "                           ('nb_params', 147456)])),\n",
       "             ('BatchNorm2d-213',\n",
       "              OrderedDict([('input_shape', [-1, 1024, 2, 2]),\n",
       "                           ('output_shape', [-1, 1024, 2, 2]),\n",
       "                           ('trainable', True),\n",
       "                           ('nb_params', 2048)])),\n",
       "             ('ReLU-214',\n",
       "              OrderedDict([('input_shape', [-1, 1024, 2, 2]),\n",
       "                           ('output_shape', [-1, 1024, 2, 2]),\n",
       "                           ('nb_params', 0)])),\n",
       "             ('Conv2d-215',\n",
       "              OrderedDict([('input_shape', [-1, 1024, 2, 2]),\n",
       "                           ('output_shape', [-1, 1024, 2, 2]),\n",
       "                           ('trainable', True),\n",
       "                           ('nb_params', 1048576)])),\n",
       "             ('BatchNorm2d-216',\n",
       "              OrderedDict([('input_shape', [-1, 1024, 2, 2]),\n",
       "                           ('output_shape', [-1, 1024, 2, 2]),\n",
       "                           ('trainable', True),\n",
       "                           ('nb_params', 2048)])),\n",
       "             ('ReLU-217',\n",
       "              OrderedDict([('input_shape', [-1, 1024, 2, 2]),\n",
       "                           ('output_shape', [-1, 1024, 2, 2]),\n",
       "                           ('nb_params', 0)])),\n",
       "             ('Conv2d-218',\n",
       "              OrderedDict([('input_shape', [-1, 1024, 2, 2]),\n",
       "                           ('output_shape', [-1, 1024, 2, 2]),\n",
       "                           ('trainable', True),\n",
       "                           ('nb_params', 1048576)])),\n",
       "             ('BatchNorm2d-219',\n",
       "              OrderedDict([('input_shape', [-1, 1024, 2, 2]),\n",
       "                           ('output_shape', [-1, 1024, 2, 2]),\n",
       "                           ('trainable', True),\n",
       "                           ('nb_params', 2048)])),\n",
       "             ('ReLU-220',\n",
       "              OrderedDict([('input_shape', [-1, 1024, 2, 2]),\n",
       "                           ('output_shape', [-1, 1024, 2, 2]),\n",
       "                           ('nb_params', 0)])),\n",
       "             ('Conv2d-221',\n",
       "              OrderedDict([('input_shape', [-1, 1024, 2, 2]),\n",
       "                           ('output_shape', [-1, 1024, 2, 2]),\n",
       "                           ('trainable', True),\n",
       "                           ('nb_params', 147456)])),\n",
       "             ('BatchNorm2d-222',\n",
       "              OrderedDict([('input_shape', [-1, 1024, 2, 2]),\n",
       "                           ('output_shape', [-1, 1024, 2, 2]),\n",
       "                           ('trainable', True),\n",
       "                           ('nb_params', 2048)])),\n",
       "             ('ReLU-223',\n",
       "              OrderedDict([('input_shape', [-1, 1024, 2, 2]),\n",
       "                           ('output_shape', [-1, 1024, 2, 2]),\n",
       "                           ('nb_params', 0)])),\n",
       "             ('Conv2d-224',\n",
       "              OrderedDict([('input_shape', [-1, 1024, 2, 2]),\n",
       "                           ('output_shape', [-1, 1024, 2, 2]),\n",
       "                           ('trainable', True),\n",
       "                           ('nb_params', 1048576)])),\n",
       "             ('BatchNorm2d-225',\n",
       "              OrderedDict([('input_shape', [-1, 1024, 2, 2]),\n",
       "                           ('output_shape', [-1, 1024, 2, 2]),\n",
       "                           ('trainable', True),\n",
       "                           ('nb_params', 2048)])),\n",
       "             ('ReLU-226',\n",
       "              OrderedDict([('input_shape', [-1, 1024, 2, 2]),\n",
       "                           ('output_shape', [-1, 1024, 2, 2]),\n",
       "                           ('nb_params', 0)])),\n",
       "             ('Conv2d-227',\n",
       "              OrderedDict([('input_shape', [-1, 1024, 2, 2]),\n",
       "                           ('output_shape', [-1, 1024, 2, 2]),\n",
       "                           ('trainable', True),\n",
       "                           ('nb_params', 1048576)])),\n",
       "             ('BatchNorm2d-228',\n",
       "              OrderedDict([('input_shape', [-1, 1024, 2, 2]),\n",
       "                           ('output_shape', [-1, 1024, 2, 2]),\n",
       "                           ('trainable', True),\n",
       "                           ('nb_params', 2048)])),\n",
       "             ('ReLU-229',\n",
       "              OrderedDict([('input_shape', [-1, 1024, 2, 2]),\n",
       "                           ('output_shape', [-1, 1024, 2, 2]),\n",
       "                           ('nb_params', 0)])),\n",
       "             ('Conv2d-230',\n",
       "              OrderedDict([('input_shape', [-1, 1024, 2, 2]),\n",
       "                           ('output_shape', [-1, 1024, 2, 2]),\n",
       "                           ('trainable', True),\n",
       "                           ('nb_params', 147456)])),\n",
       "             ('BatchNorm2d-231',\n",
       "              OrderedDict([('input_shape', [-1, 1024, 2, 2]),\n",
       "                           ('output_shape', [-1, 1024, 2, 2]),\n",
       "                           ('trainable', True),\n",
       "                           ('nb_params', 2048)])),\n",
       "             ('ReLU-232',\n",
       "              OrderedDict([('input_shape', [-1, 1024, 2, 2]),\n",
       "                           ('output_shape', [-1, 1024, 2, 2]),\n",
       "                           ('nb_params', 0)])),\n",
       "             ('Conv2d-233',\n",
       "              OrderedDict([('input_shape', [-1, 1024, 2, 2]),\n",
       "                           ('output_shape', [-1, 1024, 2, 2]),\n",
       "                           ('trainable', True),\n",
       "                           ('nb_params', 1048576)])),\n",
       "             ('BatchNorm2d-234',\n",
       "              OrderedDict([('input_shape', [-1, 1024, 2, 2]),\n",
       "                           ('output_shape', [-1, 1024, 2, 2]),\n",
       "                           ('trainable', True),\n",
       "                           ('nb_params', 2048)])),\n",
       "             ('ReLU-235',\n",
       "              OrderedDict([('input_shape', [-1, 1024, 2, 2]),\n",
       "                           ('output_shape', [-1, 1024, 2, 2]),\n",
       "                           ('nb_params', 0)])),\n",
       "             ('Conv2d-236',\n",
       "              OrderedDict([('input_shape', [-1, 1024, 2, 2]),\n",
       "                           ('output_shape', [-1, 1024, 2, 2]),\n",
       "                           ('trainable', True),\n",
       "                           ('nb_params', 1048576)])),\n",
       "             ('BatchNorm2d-237',\n",
       "              OrderedDict([('input_shape', [-1, 1024, 2, 2]),\n",
       "                           ('output_shape', [-1, 1024, 2, 2]),\n",
       "                           ('trainable', True),\n",
       "                           ('nb_params', 2048)])),\n",
       "             ('ReLU-238',\n",
       "              OrderedDict([('input_shape', [-1, 1024, 2, 2]),\n",
       "                           ('output_shape', [-1, 1024, 2, 2]),\n",
       "                           ('nb_params', 0)])),\n",
       "             ('Conv2d-239',\n",
       "              OrderedDict([('input_shape', [-1, 1024, 2, 2]),\n",
       "                           ('output_shape', [-1, 1024, 2, 2]),\n",
       "                           ('trainable', True),\n",
       "                           ('nb_params', 147456)])),\n",
       "             ('BatchNorm2d-240',\n",
       "              OrderedDict([('input_shape', [-1, 1024, 2, 2]),\n",
       "                           ('output_shape', [-1, 1024, 2, 2]),\n",
       "                           ('trainable', True),\n",
       "                           ('nb_params', 2048)])),\n",
       "             ('ReLU-241',\n",
       "              OrderedDict([('input_shape', [-1, 1024, 2, 2]),\n",
       "                           ('output_shape', [-1, 1024, 2, 2]),\n",
       "                           ('nb_params', 0)])),\n",
       "             ('Conv2d-242',\n",
       "              OrderedDict([('input_shape', [-1, 1024, 2, 2]),\n",
       "                           ('output_shape', [-1, 1024, 2, 2]),\n",
       "                           ('trainable', True),\n",
       "                           ('nb_params', 1048576)])),\n",
       "             ('BatchNorm2d-243',\n",
       "              OrderedDict([('input_shape', [-1, 1024, 2, 2]),\n",
       "                           ('output_shape', [-1, 1024, 2, 2]),\n",
       "                           ('trainable', True),\n",
       "                           ('nb_params', 2048)])),\n",
       "             ('ReLU-244',\n",
       "              OrderedDict([('input_shape', [-1, 1024, 2, 2]),\n",
       "                           ('output_shape', [-1, 1024, 2, 2]),\n",
       "                           ('nb_params', 0)])),\n",
       "             ('Conv2d-245',\n",
       "              OrderedDict([('input_shape', [-1, 1024, 2, 2]),\n",
       "                           ('output_shape', [-1, 1024, 2, 2]),\n",
       "                           ('trainable', True),\n",
       "                           ('nb_params', 1048576)])),\n",
       "             ('BatchNorm2d-246',\n",
       "              OrderedDict([('input_shape', [-1, 1024, 2, 2]),\n",
       "                           ('output_shape', [-1, 1024, 2, 2]),\n",
       "                           ('trainable', True),\n",
       "                           ('nb_params', 2048)])),\n",
       "             ('ReLU-247',\n",
       "              OrderedDict([('input_shape', [-1, 1024, 2, 2]),\n",
       "                           ('output_shape', [-1, 1024, 2, 2]),\n",
       "                           ('nb_params', 0)])),\n",
       "             ('Conv2d-248',\n",
       "              OrderedDict([('input_shape', [-1, 1024, 2, 2]),\n",
       "                           ('output_shape', [-1, 1024, 2, 2]),\n",
       "                           ('trainable', True),\n",
       "                           ('nb_params', 147456)])),\n",
       "             ('BatchNorm2d-249',\n",
       "              OrderedDict([('input_shape', [-1, 1024, 2, 2]),\n",
       "                           ('output_shape', [-1, 1024, 2, 2]),\n",
       "                           ('trainable', True),\n",
       "                           ('nb_params', 2048)])),\n",
       "             ('ReLU-250',\n",
       "              OrderedDict([('input_shape', [-1, 1024, 2, 2]),\n",
       "                           ('output_shape', [-1, 1024, 2, 2]),\n",
       "                           ('nb_params', 0)])),\n",
       "             ('Conv2d-251',\n",
       "              OrderedDict([('input_shape', [-1, 1024, 2, 2]),\n",
       "                           ('output_shape', [-1, 1024, 2, 2]),\n",
       "                           ('trainable', True),\n",
       "                           ('nb_params', 1048576)])),\n",
       "             ('BatchNorm2d-252',\n",
       "              OrderedDict([('input_shape', [-1, 1024, 2, 2]),\n",
       "                           ('output_shape', [-1, 1024, 2, 2]),\n",
       "                           ('trainable', True),\n",
       "                           ('nb_params', 2048)])),\n",
       "             ('ReLU-253',\n",
       "              OrderedDict([('input_shape', [-1, 1024, 2, 2]),\n",
       "                           ('output_shape', [-1, 1024, 2, 2]),\n",
       "                           ('nb_params', 0)])),\n",
       "             ('Conv2d-254',\n",
       "              OrderedDict([('input_shape', [-1, 1024, 2, 2]),\n",
       "                           ('output_shape', [-1, 1024, 2, 2]),\n",
       "                           ('trainable', True),\n",
       "                           ('nb_params', 1048576)])),\n",
       "             ('BatchNorm2d-255',\n",
       "              OrderedDict([('input_shape', [-1, 1024, 2, 2]),\n",
       "                           ('output_shape', [-1, 1024, 2, 2]),\n",
       "                           ('trainable', True),\n",
       "                           ('nb_params', 2048)])),\n",
       "             ('ReLU-256',\n",
       "              OrderedDict([('input_shape', [-1, 1024, 2, 2]),\n",
       "                           ('output_shape', [-1, 1024, 2, 2]),\n",
       "                           ('nb_params', 0)])),\n",
       "             ('Conv2d-257',\n",
       "              OrderedDict([('input_shape', [-1, 1024, 2, 2]),\n",
       "                           ('output_shape', [-1, 1024, 2, 2]),\n",
       "                           ('trainable', True),\n",
       "                           ('nb_params', 147456)])),\n",
       "             ('BatchNorm2d-258',\n",
       "              OrderedDict([('input_shape', [-1, 1024, 2, 2]),\n",
       "                           ('output_shape', [-1, 1024, 2, 2]),\n",
       "                           ('trainable', True),\n",
       "                           ('nb_params', 2048)])),\n",
       "             ('ReLU-259',\n",
       "              OrderedDict([('input_shape', [-1, 1024, 2, 2]),\n",
       "                           ('output_shape', [-1, 1024, 2, 2]),\n",
       "                           ('nb_params', 0)])),\n",
       "             ('Conv2d-260',\n",
       "              OrderedDict([('input_shape', [-1, 1024, 2, 2]),\n",
       "                           ('output_shape', [-1, 1024, 2, 2]),\n",
       "                           ('trainable', True),\n",
       "                           ('nb_params', 1048576)])),\n",
       "             ('BatchNorm2d-261',\n",
       "              OrderedDict([('input_shape', [-1, 1024, 2, 2]),\n",
       "                           ('output_shape', [-1, 1024, 2, 2]),\n",
       "                           ('trainable', True),\n",
       "                           ('nb_params', 2048)])),\n",
       "             ('ReLU-262',\n",
       "              OrderedDict([('input_shape', [-1, 1024, 2, 2]),\n",
       "                           ('output_shape', [-1, 1024, 2, 2]),\n",
       "                           ('nb_params', 0)])),\n",
       "             ('Conv2d-263',\n",
       "              OrderedDict([('input_shape', [-1, 1024, 2, 2]),\n",
       "                           ('output_shape', [-1, 1024, 2, 2]),\n",
       "                           ('trainable', True),\n",
       "                           ('nb_params', 1048576)])),\n",
       "             ('BatchNorm2d-264',\n",
       "              OrderedDict([('input_shape', [-1, 1024, 2, 2]),\n",
       "                           ('output_shape', [-1, 1024, 2, 2]),\n",
       "                           ('trainable', True),\n",
       "                           ('nb_params', 2048)])),\n",
       "             ('ReLU-265',\n",
       "              OrderedDict([('input_shape', [-1, 1024, 2, 2]),\n",
       "                           ('output_shape', [-1, 1024, 2, 2]),\n",
       "                           ('nb_params', 0)])),\n",
       "             ('Conv2d-266',\n",
       "              OrderedDict([('input_shape', [-1, 1024, 2, 2]),\n",
       "                           ('output_shape', [-1, 1024, 2, 2]),\n",
       "                           ('trainable', True),\n",
       "                           ('nb_params', 147456)])),\n",
       "             ('BatchNorm2d-267',\n",
       "              OrderedDict([('input_shape', [-1, 1024, 2, 2]),\n",
       "                           ('output_shape', [-1, 1024, 2, 2]),\n",
       "                           ('trainable', True),\n",
       "                           ('nb_params', 2048)])),\n",
       "             ('ReLU-268',\n",
       "              OrderedDict([('input_shape', [-1, 1024, 2, 2]),\n",
       "                           ('output_shape', [-1, 1024, 2, 2]),\n",
       "                           ('nb_params', 0)])),\n",
       "             ('Conv2d-269',\n",
       "              OrderedDict([('input_shape', [-1, 1024, 2, 2]),\n",
       "                           ('output_shape', [-1, 1024, 2, 2]),\n",
       "                           ('trainable', True),\n",
       "                           ('nb_params', 1048576)])),\n",
       "             ('BatchNorm2d-270',\n",
       "              OrderedDict([('input_shape', [-1, 1024, 2, 2]),\n",
       "                           ('output_shape', [-1, 1024, 2, 2]),\n",
       "                           ('trainable', True),\n",
       "                           ('nb_params', 2048)])),\n",
       "             ('ReLU-271',\n",
       "              OrderedDict([('input_shape', [-1, 1024, 2, 2]),\n",
       "                           ('output_shape', [-1, 1024, 2, 2]),\n",
       "                           ('nb_params', 0)])),\n",
       "             ('Conv2d-272',\n",
       "              OrderedDict([('input_shape', [-1, 1024, 2, 2]),\n",
       "                           ('output_shape', [-1, 1024, 2, 2]),\n",
       "                           ('trainable', True),\n",
       "                           ('nb_params', 1048576)])),\n",
       "             ('BatchNorm2d-273',\n",
       "              OrderedDict([('input_shape', [-1, 1024, 2, 2]),\n",
       "                           ('output_shape', [-1, 1024, 2, 2]),\n",
       "                           ('trainable', True),\n",
       "                           ('nb_params', 2048)])),\n",
       "             ('ReLU-274',\n",
       "              OrderedDict([('input_shape', [-1, 1024, 2, 2]),\n",
       "                           ('output_shape', [-1, 1024, 2, 2]),\n",
       "                           ('nb_params', 0)])),\n",
       "             ('Conv2d-275',\n",
       "              OrderedDict([('input_shape', [-1, 1024, 2, 2]),\n",
       "                           ('output_shape', [-1, 1024, 2, 2]),\n",
       "                           ('trainable', True),\n",
       "                           ('nb_params', 147456)])),\n",
       "             ('BatchNorm2d-276',\n",
       "              OrderedDict([('input_shape', [-1, 1024, 2, 2]),\n",
       "                           ('output_shape', [-1, 1024, 2, 2]),\n",
       "                           ('trainable', True),\n",
       "                           ('nb_params', 2048)])),\n",
       "             ('ReLU-277',\n",
       "              OrderedDict([('input_shape', [-1, 1024, 2, 2]),\n",
       "                           ('output_shape', [-1, 1024, 2, 2]),\n",
       "                           ('nb_params', 0)])),\n",
       "             ('Conv2d-278',\n",
       "              OrderedDict([('input_shape', [-1, 1024, 2, 2]),\n",
       "                           ('output_shape', [-1, 1024, 2, 2]),\n",
       "                           ('trainable', True),\n",
       "                           ('nb_params', 1048576)])),\n",
       "             ('BatchNorm2d-279',\n",
       "              OrderedDict([('input_shape', [-1, 1024, 2, 2]),\n",
       "                           ('output_shape', [-1, 1024, 2, 2]),\n",
       "                           ('trainable', True),\n",
       "                           ('nb_params', 2048)])),\n",
       "             ('ReLU-280',\n",
       "              OrderedDict([('input_shape', [-1, 1024, 2, 2]),\n",
       "                           ('output_shape', [-1, 1024, 2, 2]),\n",
       "                           ('nb_params', 0)])),\n",
       "             ('Conv2d-281',\n",
       "              OrderedDict([('input_shape', [-1, 1024, 2, 2]),\n",
       "                           ('output_shape', [-1, 2048, 2, 2]),\n",
       "                           ('trainable', True),\n",
       "                           ('nb_params', 2097152)])),\n",
       "             ('BatchNorm2d-282',\n",
       "              OrderedDict([('input_shape', [-1, 2048, 2, 2]),\n",
       "                           ('output_shape', [-1, 2048, 2, 2]),\n",
       "                           ('trainable', True),\n",
       "                           ('nb_params', 4096)])),\n",
       "             ('ReLU-283',\n",
       "              OrderedDict([('input_shape', [-1, 2048, 2, 2]),\n",
       "                           ('output_shape', [-1, 2048, 2, 2]),\n",
       "                           ('nb_params', 0)])),\n",
       "             ('Conv2d-284',\n",
       "              OrderedDict([('input_shape', [-1, 2048, 2, 2]),\n",
       "                           ('output_shape', [-1, 2048, 1, 1]),\n",
       "                           ('trainable', True),\n",
       "                           ('nb_params', 589824)])),\n",
       "             ('BatchNorm2d-285',\n",
       "              OrderedDict([('input_shape', [-1, 2048, 1, 1]),\n",
       "                           ('output_shape', [-1, 2048, 1, 1]),\n",
       "                           ('trainable', True),\n",
       "                           ('nb_params', 4096)])),\n",
       "             ('ReLU-286',\n",
       "              OrderedDict([('input_shape', [-1, 2048, 1, 1]),\n",
       "                           ('output_shape', [-1, 2048, 1, 1]),\n",
       "                           ('nb_params', 0)])),\n",
       "             ('Conv2d-287',\n",
       "              OrderedDict([('input_shape', [-1, 2048, 1, 1]),\n",
       "                           ('output_shape', [-1, 2048, 1, 1]),\n",
       "                           ('trainable', True),\n",
       "                           ('nb_params', 4194304)])),\n",
       "             ('BatchNorm2d-288',\n",
       "              OrderedDict([('input_shape', [-1, 2048, 1, 1]),\n",
       "                           ('output_shape', [-1, 2048, 1, 1]),\n",
       "                           ('trainable', True),\n",
       "                           ('nb_params', 4096)])),\n",
       "             ('Conv2d-289',\n",
       "              OrderedDict([('input_shape', [-1, 1024, 2, 2]),\n",
       "                           ('output_shape', [-1, 2048, 1, 1]),\n",
       "                           ('trainable', True),\n",
       "                           ('nb_params', 2097152)])),\n",
       "             ('BatchNorm2d-290',\n",
       "              OrderedDict([('input_shape', [-1, 2048, 1, 1]),\n",
       "                           ('output_shape', [-1, 2048, 1, 1]),\n",
       "                           ('trainable', True),\n",
       "                           ('nb_params', 4096)])),\n",
       "             ('ReLU-291',\n",
       "              OrderedDict([('input_shape', [-1, 2048, 1, 1]),\n",
       "                           ('output_shape', [-1, 2048, 1, 1]),\n",
       "                           ('nb_params', 0)])),\n",
       "             ('Conv2d-292',\n",
       "              OrderedDict([('input_shape', [-1, 2048, 1, 1]),\n",
       "                           ('output_shape', [-1, 2048, 1, 1]),\n",
       "                           ('trainable', True),\n",
       "                           ('nb_params', 4194304)])),\n",
       "             ('BatchNorm2d-293',\n",
       "              OrderedDict([('input_shape', [-1, 2048, 1, 1]),\n",
       "                           ('output_shape', [-1, 2048, 1, 1]),\n",
       "                           ('trainable', True),\n",
       "                           ('nb_params', 4096)])),\n",
       "             ('ReLU-294',\n",
       "              OrderedDict([('input_shape', [-1, 2048, 1, 1]),\n",
       "                           ('output_shape', [-1, 2048, 1, 1]),\n",
       "                           ('nb_params', 0)])),\n",
       "             ('Conv2d-295',\n",
       "              OrderedDict([('input_shape', [-1, 2048, 1, 1]),\n",
       "                           ('output_shape', [-1, 2048, 1, 1]),\n",
       "                           ('trainable', True),\n",
       "                           ('nb_params', 589824)])),\n",
       "             ('BatchNorm2d-296',\n",
       "              OrderedDict([('input_shape', [-1, 2048, 1, 1]),\n",
       "                           ('output_shape', [-1, 2048, 1, 1]),\n",
       "                           ('trainable', True),\n",
       "                           ('nb_params', 4096)])),\n",
       "             ('ReLU-297',\n",
       "              OrderedDict([('input_shape', [-1, 2048, 1, 1]),\n",
       "                           ('output_shape', [-1, 2048, 1, 1]),\n",
       "                           ('nb_params', 0)])),\n",
       "             ('Conv2d-298',\n",
       "              OrderedDict([('input_shape', [-1, 2048, 1, 1]),\n",
       "                           ('output_shape', [-1, 2048, 1, 1]),\n",
       "                           ('trainable', True),\n",
       "                           ('nb_params', 4194304)])),\n",
       "             ('BatchNorm2d-299',\n",
       "              OrderedDict([('input_shape', [-1, 2048, 1, 1]),\n",
       "                           ('output_shape', [-1, 2048, 1, 1]),\n",
       "                           ('trainable', True),\n",
       "                           ('nb_params', 4096)])),\n",
       "             ('ReLU-300',\n",
       "              OrderedDict([('input_shape', [-1, 2048, 1, 1]),\n",
       "                           ('output_shape', [-1, 2048, 1, 1]),\n",
       "                           ('nb_params', 0)])),\n",
       "             ('Conv2d-301',\n",
       "              OrderedDict([('input_shape', [-1, 2048, 1, 1]),\n",
       "                           ('output_shape', [-1, 2048, 1, 1]),\n",
       "                           ('trainable', True),\n",
       "                           ('nb_params', 4194304)])),\n",
       "             ('BatchNorm2d-302',\n",
       "              OrderedDict([('input_shape', [-1, 2048, 1, 1]),\n",
       "                           ('output_shape', [-1, 2048, 1, 1]),\n",
       "                           ('trainable', True),\n",
       "                           ('nb_params', 4096)])),\n",
       "             ('ReLU-303',\n",
       "              OrderedDict([('input_shape', [-1, 2048, 1, 1]),\n",
       "                           ('output_shape', [-1, 2048, 1, 1]),\n",
       "                           ('nb_params', 0)])),\n",
       "             ('Conv2d-304',\n",
       "              OrderedDict([('input_shape', [-1, 2048, 1, 1]),\n",
       "                           ('output_shape', [-1, 2048, 1, 1]),\n",
       "                           ('trainable', True),\n",
       "                           ('nb_params', 589824)])),\n",
       "             ('BatchNorm2d-305',\n",
       "              OrderedDict([('input_shape', [-1, 2048, 1, 1]),\n",
       "                           ('output_shape', [-1, 2048, 1, 1]),\n",
       "                           ('trainable', True),\n",
       "                           ('nb_params', 4096)])),\n",
       "             ('ReLU-306',\n",
       "              OrderedDict([('input_shape', [-1, 2048, 1, 1]),\n",
       "                           ('output_shape', [-1, 2048, 1, 1]),\n",
       "                           ('nb_params', 0)])),\n",
       "             ('Conv2d-307',\n",
       "              OrderedDict([('input_shape', [-1, 2048, 1, 1]),\n",
       "                           ('output_shape', [-1, 2048, 1, 1]),\n",
       "                           ('trainable', True),\n",
       "                           ('nb_params', 4194304)])),\n",
       "             ('BatchNorm2d-308',\n",
       "              OrderedDict([('input_shape', [-1, 2048, 1, 1]),\n",
       "                           ('output_shape', [-1, 2048, 1, 1]),\n",
       "                           ('trainable', True),\n",
       "                           ('nb_params', 4096)])),\n",
       "             ('ReLU-309',\n",
       "              OrderedDict([('input_shape', [-1, 2048, 1, 1]),\n",
       "                           ('output_shape', [-1, 2048, 1, 1]),\n",
       "                           ('nb_params', 0)])),\n",
       "             ('AdaptiveMaxPool2d-310',\n",
       "              OrderedDict([('input_shape', [-1, 2048, 1, 1]),\n",
       "                           ('output_shape', [-1, 2048, 1, 1]),\n",
       "                           ('nb_params', 0)])),\n",
       "             ('AdaptiveAvgPool2d-311',\n",
       "              OrderedDict([('input_shape', [-1, 2048, 1, 1]),\n",
       "                           ('output_shape', [-1, 2048, 1, 1]),\n",
       "                           ('nb_params', 0)])),\n",
       "             ('AdaptiveConcatPool2d-312',\n",
       "              OrderedDict([('input_shape', [-1, 2048, 1, 1]),\n",
       "                           ('output_shape', [-1, 4096, 1, 1]),\n",
       "                           ('nb_params', 0)])),\n",
       "             ('Flatten-313',\n",
       "              OrderedDict([('input_shape', [-1, 4096, 1, 1]),\n",
       "                           ('output_shape', [-1, 4096]),\n",
       "                           ('nb_params', 0)])),\n",
       "             ('BatchNorm1d-314',\n",
       "              OrderedDict([('input_shape', [-1, 4096]),\n",
       "                           ('output_shape', [-1, 4096]),\n",
       "                           ('trainable', True),\n",
       "                           ('nb_params', 8192)])),\n",
       "             ('Dropout-315',\n",
       "              OrderedDict([('input_shape', [-1, 4096]),\n",
       "                           ('output_shape', [-1, 4096]),\n",
       "                           ('nb_params', 0)])),\n",
       "             ('Linear-316',\n",
       "              OrderedDict([('input_shape', [-1, 4096]),\n",
       "                           ('output_shape', [-1, 512]),\n",
       "                           ('trainable', True),\n",
       "                           ('nb_params', 2097664)])),\n",
       "             ('ReLU-317',\n",
       "              OrderedDict([('input_shape', [-1, 512]),\n",
       "                           ('output_shape', [-1, 512]),\n",
       "                           ('nb_params', 0)])),\n",
       "             ('BatchNorm1d-318',\n",
       "              OrderedDict([('input_shape', [-1, 512]),\n",
       "                           ('output_shape', [-1, 512]),\n",
       "                           ('trainable', True),\n",
       "                           ('nb_params', 1024)])),\n",
       "             ('Dropout-319',\n",
       "              OrderedDict([('input_shape', [-1, 512]),\n",
       "                           ('output_shape', [-1, 512]),\n",
       "                           ('nb_params', 0)])),\n",
       "             ('Linear-320',\n",
       "              OrderedDict([('input_shape', [-1, 512]),\n",
       "                           ('output_shape', [-1, 10]),\n",
       "                           ('trainable', True),\n",
       "                           ('nb_params', 5130)])),\n",
       "             ('LogSoftmax-321',\n",
       "              OrderedDict([('input_shape', [-1, 10]),\n",
       "                           ('output_shape', [-1, 10]),\n",
       "                           ('nb_params', 0)]))])"
      ]
     },
     "execution_count": 49,
     "metadata": {},
     "output_type": "execute_result"
    }
   ],
   "source": [
    "learn.summary()"
   ]
  },
  {
   "cell_type": "code",
   "execution_count": 54,
   "metadata": {
    "ExecuteTime": {
     "end_time": "2018-11-01T07:37:36.113725Z",
     "start_time": "2018-11-01T07:37:33.617061Z"
    }
   },
   "outputs": [],
   "source": [
    "learn.load('112')"
   ]
  },
  {
   "cell_type": "markdown",
   "metadata": {
    "ExecuteTime": {
     "end_time": "2018-11-01T07:41:00.370493Z",
     "start_time": "2018-11-01T07:40:59.805482Z"
    }
   },
   "source": [
    "## 预测提交"
   ]
  },
  {
   "cell_type": "code",
   "execution_count": 56,
   "metadata": {
    "ExecuteTime": {
     "end_time": "2018-11-01T07:45:43.386435Z",
     "start_time": "2018-11-01T07:41:07.823429Z"
    }
   },
   "outputs": [
    {
     "name": "stdout",
     "output_type": "stream",
     "text": [
      "                                             \r"
     ]
    },
    {
     "data": {
      "text/plain": [
       "(28000, 10)"
      ]
     },
     "execution_count": 56,
     "metadata": {},
     "output_type": "execute_result"
    }
   ],
   "source": [
    "log_preds_test, y_test=learn.TTA(is_test=True)\n",
    "probs_test=np.mean(np.exp(log_preds_test),0)\n",
    "probs_test.shape"
   ]
  },
  {
   "cell_type": "code",
   "execution_count": 58,
   "metadata": {
    "ExecuteTime": {
     "end_time": "2018-11-01T07:48:24.906381Z",
     "start_time": "2018-11-01T07:48:24.797082Z"
    }
   },
   "outputs": [
    {
     "data": {
      "text/html": [
       "<div>\n",
       "<style scoped>\n",
       "    .dataframe tbody tr th:only-of-type {\n",
       "        vertical-align: middle;\n",
       "    }\n",
       "\n",
       "    .dataframe tbody tr th {\n",
       "        vertical-align: top;\n",
       "    }\n",
       "\n",
       "    .dataframe thead th {\n",
       "        text-align: right;\n",
       "    }\n",
       "</style>\n",
       "<table border=\"1\" class=\"dataframe\">\n",
       "  <thead>\n",
       "    <tr style=\"text-align: right;\">\n",
       "      <th></th>\n",
       "      <th>0</th>\n",
       "      <th>1</th>\n",
       "      <th>2</th>\n",
       "      <th>3</th>\n",
       "      <th>4</th>\n",
       "      <th>5</th>\n",
       "      <th>6</th>\n",
       "      <th>7</th>\n",
       "      <th>8</th>\n",
       "      <th>9</th>\n",
       "    </tr>\n",
       "  </thead>\n",
       "  <tbody>\n",
       "    <tr>\n",
       "      <th>0</th>\n",
       "      <td>1.558885e-06</td>\n",
       "      <td>4.017460e-07</td>\n",
       "      <td>9.999739e-01</td>\n",
       "      <td>1.131181e-05</td>\n",
       "      <td>6.964455e-07</td>\n",
       "      <td>7.736384e-07</td>\n",
       "      <td>0.000003</td>\n",
       "      <td>4.786107e-06</td>\n",
       "      <td>2.801615e-06</td>\n",
       "      <td>6.077519e-07</td>\n",
       "    </tr>\n",
       "    <tr>\n",
       "      <th>1</th>\n",
       "      <td>9.999897e-01</td>\n",
       "      <td>1.935149e-07</td>\n",
       "      <td>2.589761e-07</td>\n",
       "      <td>8.540859e-08</td>\n",
       "      <td>2.887857e-07</td>\n",
       "      <td>4.020090e-07</td>\n",
       "      <td>0.000003</td>\n",
       "      <td>1.290594e-07</td>\n",
       "      <td>5.488259e-07</td>\n",
       "      <td>5.058601e-06</td>\n",
       "    </tr>\n",
       "    <tr>\n",
       "      <th>2</th>\n",
       "      <td>7.355492e-06</td>\n",
       "      <td>1.647162e-06</td>\n",
       "      <td>4.070369e-05</td>\n",
       "      <td>2.231890e-06</td>\n",
       "      <td>3.052362e-04</td>\n",
       "      <td>5.241324e-06</td>\n",
       "      <td>0.000004</td>\n",
       "      <td>4.967141e-05</td>\n",
       "      <td>8.820339e-05</td>\n",
       "      <td>9.994954e-01</td>\n",
       "    </tr>\n",
       "    <tr>\n",
       "      <th>3</th>\n",
       "      <td>9.974824e-01</td>\n",
       "      <td>4.839094e-06</td>\n",
       "      <td>1.677451e-04</td>\n",
       "      <td>1.810117e-05</td>\n",
       "      <td>5.096490e-06</td>\n",
       "      <td>1.454086e-05</td>\n",
       "      <td>0.000236</td>\n",
       "      <td>2.892814e-05</td>\n",
       "      <td>1.893123e-04</td>\n",
       "      <td>1.852974e-03</td>\n",
       "    </tr>\n",
       "    <tr>\n",
       "      <th>4</th>\n",
       "      <td>6.094835e-07</td>\n",
       "      <td>3.496512e-06</td>\n",
       "      <td>1.326003e-04</td>\n",
       "      <td>9.996668e-01</td>\n",
       "      <td>2.411475e-08</td>\n",
       "      <td>5.471359e-05</td>\n",
       "      <td>0.000001</td>\n",
       "      <td>1.408450e-06</td>\n",
       "      <td>1.379500e-04</td>\n",
       "      <td>1.417384e-06</td>\n",
       "    </tr>\n",
       "  </tbody>\n",
       "</table>\n",
       "</div>"
      ],
      "text/plain": [
       "              0             1             2             3             4  \\\n",
       "0  1.558885e-06  4.017460e-07  9.999739e-01  1.131181e-05  6.964455e-07   \n",
       "1  9.999897e-01  1.935149e-07  2.589761e-07  8.540859e-08  2.887857e-07   \n",
       "2  7.355492e-06  1.647162e-06  4.070369e-05  2.231890e-06  3.052362e-04   \n",
       "3  9.974824e-01  4.839094e-06  1.677451e-04  1.810117e-05  5.096490e-06   \n",
       "4  6.094835e-07  3.496512e-06  1.326003e-04  9.996668e-01  2.411475e-08   \n",
       "\n",
       "              5         6             7             8             9  \n",
       "0  7.736384e-07  0.000003  4.786107e-06  2.801615e-06  6.077519e-07  \n",
       "1  4.020090e-07  0.000003  1.290594e-07  5.488259e-07  5.058601e-06  \n",
       "2  5.241324e-06  0.000004  4.967141e-05  8.820339e-05  9.994954e-01  \n",
       "3  1.454086e-05  0.000236  2.892814e-05  1.893123e-04  1.852974e-03  \n",
       "4  5.471359e-05  0.000001  1.408450e-06  1.379500e-04  1.417384e-06  "
      ]
     },
     "execution_count": 58,
     "metadata": {},
     "output_type": "execute_result"
    }
   ],
   "source": [
    "# 转成pandas格式\n",
    "df = pd.DataFrame(probs_test)\n",
    "df.head()"
   ]
  },
  {
   "cell_type": "code",
   "execution_count": 59,
   "metadata": {
    "ExecuteTime": {
     "end_time": "2018-11-01T07:48:32.593729Z",
     "start_time": "2018-11-01T07:48:32.510208Z"
    }
   },
   "outputs": [],
   "source": [
    "# 找概率最大的作为结果\n",
    "df=df.assign(Label=df.values.argmax(axis=1))\n",
    "df=df.assign(ImageId=df.index.values+1)"
   ]
  },
  {
   "cell_type": "code",
   "execution_count": 62,
   "metadata": {
    "ExecuteTime": {
     "end_time": "2018-11-01T07:49:22.159136Z",
     "start_time": "2018-11-01T07:49:22.123912Z"
    }
   },
   "outputs": [
    {
     "data": {
      "text/html": [
       "<div>\n",
       "<style scoped>\n",
       "    .dataframe tbody tr th:only-of-type {\n",
       "        vertical-align: middle;\n",
       "    }\n",
       "\n",
       "    .dataframe tbody tr th {\n",
       "        vertical-align: top;\n",
       "    }\n",
       "\n",
       "    .dataframe thead th {\n",
       "        text-align: right;\n",
       "    }\n",
       "</style>\n",
       "<table border=\"1\" class=\"dataframe\">\n",
       "  <thead>\n",
       "    <tr style=\"text-align: right;\">\n",
       "      <th></th>\n",
       "      <th>ImageId</th>\n",
       "      <th>Label</th>\n",
       "    </tr>\n",
       "  </thead>\n",
       "  <tbody>\n",
       "    <tr>\n",
       "      <th>0</th>\n",
       "      <td>1</td>\n",
       "      <td>2</td>\n",
       "    </tr>\n",
       "    <tr>\n",
       "      <th>1</th>\n",
       "      <td>2</td>\n",
       "      <td>0</td>\n",
       "    </tr>\n",
       "    <tr>\n",
       "      <th>2</th>\n",
       "      <td>3</td>\n",
       "      <td>9</td>\n",
       "    </tr>\n",
       "    <tr>\n",
       "      <th>3</th>\n",
       "      <td>4</td>\n",
       "      <td>0</td>\n",
       "    </tr>\n",
       "    <tr>\n",
       "      <th>4</th>\n",
       "      <td>5</td>\n",
       "      <td>3</td>\n",
       "    </tr>\n",
       "  </tbody>\n",
       "</table>\n",
       "</div>"
      ],
      "text/plain": [
       "   ImageId  Label\n",
       "0        1      2\n",
       "1        2      0\n",
       "2        3      9\n",
       "3        4      0\n",
       "4        5      3"
      ]
     },
     "execution_count": 62,
     "metadata": {},
     "output_type": "execute_result"
    }
   ],
   "source": [
    "dfResult=df[['ImageId', 'Label']]\n",
    "dfResult.head()"
   ]
  },
  {
   "cell_type": "code",
   "execution_count": 63,
   "metadata": {
    "ExecuteTime": {
     "end_time": "2018-11-01T07:49:25.084526Z",
     "start_time": "2018-11-01T07:49:25.050575Z"
    }
   },
   "outputs": [
    {
     "data": {
      "text/plain": [
       "(28000, 2)"
      ]
     },
     "execution_count": 63,
     "metadata": {},
     "output_type": "execute_result"
    }
   ],
   "source": [
    "dfResult.shape"
   ]
  },
  {
   "cell_type": "code",
   "execution_count": 66,
   "metadata": {
    "ExecuteTime": {
     "end_time": "2018-11-01T07:51:23.862592Z",
     "start_time": "2018-11-01T07:51:23.673064Z"
    }
   },
   "outputs": [],
   "source": [
    "# 写入csv文件并压缩\n",
    "SUBM = f'{PATH}subm/'\n",
    "os.makedirs(SUBM, exist_ok=True)\n",
    "dfResult.to_csv(f'{SUBM}subm.gz', compression='gzip', index=False)"
   ]
  },
  {
   "cell_type": "code",
   "execution_count": 67,
   "metadata": {
    "ExecuteTime": {
     "end_time": "2018-11-01T07:51:25.375869Z",
     "start_time": "2018-11-01T07:51:25.342546Z"
    }
   },
   "outputs": [
    {
     "data": {
      "text/html": [
       "<a href='data/DigitRecognizer/subm/subm.gz' target='_blank'>data/DigitRecognizer/subm/subm.gz</a><br>"
      ],
      "text/plain": [
       "/home/ubuntu/Fast.ai_Tips/dl1/data/DigitRecognizer/subm/subm.gz"
      ]
     },
     "execution_count": 67,
     "metadata": {},
     "output_type": "execute_result"
    }
   ],
   "source": [
    "# 显示文件路径链接\n",
    "FileLink(f'{SUBM}subm.gz')"
   ]
  },
  {
   "cell_type": "markdown",
   "metadata": {
    "ExecuteTime": {
     "end_time": "2018-10-31T17:30:05.295063Z",
     "start_time": "2018-10-31T17:30:04.746035Z"
    },
    "deletable": false,
    "editable": false,
    "run_control": {
     "frozen": true
    }
   },
   "source": [
    "## 尝试自己搭建Dataset"
   ]
  },
  {
   "cell_type": "code",
   "execution_count": null,
   "metadata": {},
   "outputs": [],
   "source": []
  },
  {
   "cell_type": "code",
   "execution_count": null,
   "metadata": {
    "ExecuteTime": {
     "end_time": "2018-10-31T17:12:46.703106Z",
     "start_time": "2018-10-31T17:12:46.661502Z"
    },
    "code_folding": [],
    "deletable": false,
    "editable": false,
    "run_control": {
     "frozen": true
    }
   },
   "outputs": [],
   "source": [
    "# 由于Digital Recognition 的数据集在CSV文件中，因此需要构架自己的数据集格式\n",
    "class DigitalNumberDataset(Dataset):\n",
    "    '''MNIST Dataset'''\n",
    "\n",
    "    def __init__(self, csv_file, train=True, transform=None):\n",
    "        data = pd.read_csv(csv_file)\n",
    "\n",
    "        if train:\n",
    "            self.train = True\n",
    "\n",
    "            self.y = data[\"label\"].values\n",
    "            self.X = data.drop(\n",
    "                labels=[\"label\"], axis=1).values.reshape(-1, 28, 28)\n",
    "\n",
    "        else:\n",
    "            self.train = False\n",
    "\n",
    "            self.y = None\n",
    "            self.X = data.values.reshape((-1, 28, 28))\n",
    "\n",
    "        # 省内存\n",
    "        del data\n",
    "\n",
    "        self.transform = transform\n",
    "\n",
    "    def __len__(self):\n",
    "        return len(self.X)\n",
    "\n",
    "    def __getitem__(self, idx):\n",
    "        image = Image.fromarray(np.uint8(self.X[idx]))\n",
    "        if self.train:\n",
    "            return self.transform(image), self.y[idx]\n",
    "        else:\n",
    "            return self.transform(image)"
   ]
  },
  {
   "cell_type": "code",
   "execution_count": null,
   "metadata": {
    "ExecuteTime": {
     "end_time": "2018-10-31T16:54:54.867685Z",
     "start_time": "2018-10-31T16:54:54.826321Z"
    },
    "deletable": false,
    "editable": false,
    "run_control": {
     "frozen": true
    }
   },
   "outputs": [],
   "source": [
    "class RandomShift(object):\n",
    "    def __init__(self, shift):\n",
    "        self.shift = shift\n",
    "        \n",
    "    @staticmethod\n",
    "    def get_params(shift):\n",
    "        \"\"\"Get parameters for ``rotate`` for a random rotation.\n",
    "        Returns:\n",
    "            sequence: params to be passed to ``rotate`` for random rotation.\n",
    "        \"\"\"\n",
    "        hshift, vshift = np.random.uniform(-shift, shift, size=2)\n",
    "\n",
    "        return hshift, vshift \n",
    "    def __call__(self, img):\n",
    "        hshift, vshift = self.get_params(self.shift)\n",
    "        \n",
    "        return img.transform(img.size, Image.AFFINE, (1,0,hshift,0,1,vshift), resample=Image.BICUBIC, fill=1)"
   ]
  },
  {
   "cell_type": "code",
   "execution_count": null,
   "metadata": {
    "ExecuteTime": {
     "end_time": "2018-10-31T16:55:42.580482Z",
     "start_time": "2018-10-31T16:55:42.527856Z"
    },
    "deletable": false,
    "editable": false,
    "run_control": {
     "frozen": true
    }
   },
   "outputs": [],
   "source": [
    "batch_size = 64"
   ]
  },
  {
   "cell_type": "code",
   "execution_count": null,
   "metadata": {
    "ExecuteTime": {
     "end_time": "2018-10-31T17:02:06.610083Z",
     "start_time": "2018-10-31T17:02:06.578794Z"
    },
    "deletable": false,
    "editable": false,
    "run_control": {
     "frozen": true
    }
   },
   "outputs": [],
   "source": [
    "# 都是针对PIL Image的\n",
    "from torchvision import transforms\n",
    "\n",
    "preprocess = transforms.Compose([\n",
    "    transforms.Pad(padding=2,padding_mode='reflect'),\n",
    "    transforms.RandomCrop(28),\n",
    "    transforms.RandomRotation(15),\n",
    "    RandomShift(2),\n",
    "    transforms.ToTensor(),\n",
    "    transforms.Normalize(mean=(0.5,), std=(0.5,))\n",
    "#     ts.transforms.RandomRotate(20),\n",
    "#     ts.transforms.RandomTranslate(0.1,0.1),\n",
    "#     transforms.Normalize([0.485, 0.456, 0.406], [0.229, 0.224, 0.225])\n",
    "])"
   ]
  },
  {
   "cell_type": "code",
   "execution_count": null,
   "metadata": {
    "ExecuteTime": {
     "end_time": "2018-10-31T17:12:57.029102Z",
     "start_time": "2018-10-31T17:12:49.749623Z"
    },
    "deletable": false,
    "editable": false,
    "run_control": {
     "frozen": true
    }
   },
   "outputs": [],
   "source": [
    "train_dataset = DigitalNumberDataset(csv_file=f'{PATH}train.csv',train=True, transform=preprocess)\n",
    "test_dataset =  DigitalNumberDataset(csv_file=f'{PATH}test.csv',train=False, transform=preprocess)"
   ]
  }
 ],
 "metadata": {
  "kernelspec": {
   "display_name": "Python 3",
   "language": "python",
   "name": "python3"
  },
  "language_info": {
   "codemirror_mode": {
    "name": "ipython",
    "version": 3
   },
   "file_extension": ".py",
   "mimetype": "text/x-python",
   "name": "python",
   "nbconvert_exporter": "python",
   "pygments_lexer": "ipython3",
   "version": "3.6.6"
  },
  "toc": {
   "base_numbering": 1,
   "nav_menu": {},
   "number_sections": true,
   "sideBar": true,
   "skip_h1_title": false,
   "title_cell": "Table of Contents",
   "title_sidebar": "Contents",
   "toc_cell": false,
   "toc_position": {},
   "toc_section_display": true,
   "toc_window_display": false
  },
  "varInspector": {
   "cols": {
    "lenName": 16,
    "lenType": 16,
    "lenVar": 40
   },
   "kernels_config": {
    "python": {
     "delete_cmd_postfix": "",
     "delete_cmd_prefix": "del ",
     "library": "var_list.py",
     "varRefreshCmd": "print(var_dic_list())"
    },
    "r": {
     "delete_cmd_postfix": ") ",
     "delete_cmd_prefix": "rm(",
     "library": "var_list.r",
     "varRefreshCmd": "cat(var_dic_list()) "
    }
   },
   "types_to_exclude": [
    "module",
    "function",
    "builtin_function_or_method",
    "instance",
    "_Feature"
   ],
   "window_display": false
  }
 },
 "nbformat": 4,
 "nbformat_minor": 2
}
