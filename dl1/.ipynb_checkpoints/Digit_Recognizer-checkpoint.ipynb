{
 "cells": [
  {
   "cell_type": "markdown",
   "metadata": {},
   "source": [
    "# Kaggle: Digit Recognizer\n",
    "\n",
    "Learn computer vision fundamentals with the famous MNIST data.\n",
    "\n",
    "比赛页面：https://www.kaggle.com/c/digit-recognizer\n",
    "\n",
    "参考Kernel：\n",
    "\n",
    "[Introduction to CNN Keras - 0.997 (top 6%)](https://www.kaggle.com/yassineghouzam/introduction-to-cnn-keras-0-997-top-6)\n",
    "\n",
    "[Training your own CNN using PyTorch](https://www.kaggle.com/puneetgrover/training-your-own-cnn-using-pytorch)\n"
   ]
  },
  {
   "cell_type": "markdown",
   "metadata": {},
   "source": [
    "由于数据集是Kaggle提供的，不同于深度学习框架自带的MINIST，因此需要自己对数据做预处理，自己写数据加载器。\n",
    "\n",
    "这是第一次打Kaggle的视觉比赛，先走个流程。\n",
    "\n",
    "大概分这么几个步骤：\n",
    "\n",
    "1. 对CSV数据文件做预处理，分割训练集和验证集，写DataLoader\n",
    "2. 调用Pytorch model自带的CNN模型或者自定义模型进行训练\n",
    "3. 测试评估模型\n",
    "4. 对测试集进行预测，进行提交"
   ]
  },
  {
   "cell_type": "markdown",
   "metadata": {},
   "source": [
    "## 导入"
   ]
  },
  {
   "cell_type": "code",
   "execution_count": 3,
   "metadata": {
    "ExecuteTime": {
     "end_time": "2018-11-02T13:23:58.600877Z",
     "start_time": "2018-11-02T13:23:58.568707Z"
    }
   },
   "outputs": [],
   "source": [
    "import pandas as pd\n",
    "import numpy as np\n",
    "import matplotlib.pyplot as plt\n",
    "\n",
    "from PIL import Image\n",
    "import seaborn as sns\n",
    "\n",
    "from __future__ import print_function\n",
    "\n",
    "from sklearn.model_selection import train_test_split\n",
    "\n",
    "import torch \n",
    "import torchvision\n",
    "import torch.nn as nn\n",
    "import torchvision.transforms as transforms\n",
    "# 拓展包\n",
    "import torchsample as ts\n",
    "\n",
    "%matplotlib inline\n",
    "plt.rcParams['figure.figsize'] = (10.0, 8.0) # set default size of plots\n",
    "plt.rcParams['image.interpolation'] = 'nearest'\n",
    "plt.rcParams['image.cmap'] = 'gray'\n",
    "\n",
    "%load_ext autoreload\n",
    "%autoreload 2"
   ]
  },
  {
   "cell_type": "markdown",
   "metadata": {},
   "source": [
    "## 数据预处理\n",
    "\n",
    "1. 读取数据（训练集和验证集），维度检查\n",
    "2. 分割数据集\n",
    "3. 自定义DataLoader"
   ]
  },
  {
   "cell_type": "markdown",
   "metadata": {},
   "source": [
    "### 1. 读取数据，维度检查"
   ]
  },
  {
   "cell_type": "code",
   "execution_count": 102,
   "metadata": {},
   "outputs": [
    {
     "data": {
      "text/plain": [
       "1    4684\n",
       "7    4401\n",
       "3    4351\n",
       "9    4188\n",
       "2    4177\n",
       "6    4137\n",
       "0    4132\n",
       "4    4072\n",
       "8    4063\n",
       "5    3795\n",
       "Name: label, dtype: int64"
      ]
     },
     "execution_count": 102,
     "metadata": {},
     "output_type": "execute_result"
    },
    {
     "data": {
      "image/png": "[encoded data removed]",
      "text/plain": [
       "<Figure size 720x576 with 1 Axes>"
      ]
     },
     "metadata": {},
     "output_type": "display_data"
    }
   ],
   "source": [
    "# 加载数据\n",
    "train = pd.read_csv(\"./data/train.csv\")\n",
    "test = pd.read_csv(\"./data/test.csv\")\n",
    "\n",
    "Y_train = train[\"label\"]\n",
    "\n",
    "# 丢掉第一栏label\n",
    "X_train = train.drop(labels = [\"label\"], axis = 1)\n",
    "\n",
    "# 查看数据分布\n",
    "g = sns.countplot(Y_train)\n",
    "Y_train.value_counts()"
   ]
  },
  {
   "cell_type": "code",
   "execution_count": 103,
   "metadata": {},
   "outputs": [
    {
     "name": "stdout",
     "output_type": "stream",
     "text": [
      "(42000, 784)\n",
      "(42000,)\n",
      "(28000, 784)\n"
     ]
    }
   ],
   "source": [
    "# 查看维度\n",
    "print(X_train.shape)\n",
    "print(Y_train.shape)\n",
    "print(test.shape)"
   ]
  },
  {
   "cell_type": "code",
   "execution_count": 1,
   "metadata": {},
   "outputs": [
    {
     "ename": "NameError",
     "evalue": "name 'X_train' is not defined",
     "output_type": "error",
     "traceback": [
      "\u001b[0;31m---------------------------------------------------------------------------\u001b[0m",
      "\u001b[0;31mNameError\u001b[0m                                 Traceback (most recent call last)",
      "\u001b[0;32m<ipython-input-1-16e2d70544dd>\u001b[0m in \u001b[0;36m<module>\u001b[0;34m()\u001b[0m\n\u001b[1;32m      6\u001b[0m \u001b[0;31m# test = test.values.reshape(-1,1,28,28)\u001b[0m\u001b[0;34m\u001b[0m\u001b[0;34m\u001b[0m\u001b[0m\n\u001b[1;32m      7\u001b[0m \u001b[0;34m\u001b[0m\u001b[0m\n\u001b[0;32m----> 8\u001b[0;31m \u001b[0mX_train\u001b[0m \u001b[0;34m=\u001b[0m \u001b[0mX_train\u001b[0m\u001b[0;34m.\u001b[0m\u001b[0mvalues\u001b[0m\u001b[0;34m.\u001b[0m\u001b[0mreshape\u001b[0m\u001b[0;34m(\u001b[0m\u001b[0;34m-\u001b[0m\u001b[0;36m1\u001b[0m\u001b[0;34m,\u001b[0m\u001b[0;36m28\u001b[0m\u001b[0;34m,\u001b[0m\u001b[0;36m28\u001b[0m\u001b[0;34m)\u001b[0m\u001b[0;34m\u001b[0m\u001b[0m\n\u001b[0m\u001b[1;32m      9\u001b[0m \u001b[0mY_train\u001b[0m  \u001b[0;34m=\u001b[0m\u001b[0mY_train\u001b[0m\u001b[0;34m.\u001b[0m\u001b[0mvalues\u001b[0m\u001b[0;34m\u001b[0m\u001b[0m\n\u001b[1;32m     10\u001b[0m \u001b[0mtest\u001b[0m \u001b[0;34m=\u001b[0m \u001b[0mtest\u001b[0m\u001b[0;34m.\u001b[0m\u001b[0mvalues\u001b[0m\u001b[0;34m.\u001b[0m\u001b[0mreshape\u001b[0m\u001b[0;34m(\u001b[0m\u001b[0;34m-\u001b[0m\u001b[0;36m1\u001b[0m\u001b[0;34m,\u001b[0m\u001b[0;36m28\u001b[0m\u001b[0;34m,\u001b[0m\u001b[0;36m28\u001b[0m\u001b[0;34m)\u001b[0m\u001b[0;34m\u001b[0m\u001b[0m\n",
      "\u001b[0;31mNameError\u001b[0m: name 'X_train' is not defined"
     ]
    }
   ],
   "source": [
    "# 将Padas数据结构转换为numpy\n",
    "# reshape为单通道图像（28*28*1）\n",
    "\n",
    "# X_train = X_train.values.reshape(-1,1,28,28)\n",
    "# Y_train  =Y_train.values\n",
    "# test = test.values.reshape(-1,1,28,28)\n",
    "\n",
    "X_train = X_train.values.reshape(-1,28,28)\n",
    "Y_train  =Y_train.values\n",
    "test = test.values.reshape(-1,28,28)"
   ]
  },
  {
   "cell_type": "markdown",
   "metadata": {},
   "source": [
    "### 2. 分割数据集和验证集"
   ]
  },
  {
   "cell_type": "code",
   "execution_count": 105,
   "metadata": {},
   "outputs": [],
   "source": [
    "# 设置随机种子\n",
    "random_seed = 5\n",
    "\n",
    "# 分割测试集和验证集\n",
    "X_train, X_val, Y_train, Y_val = train_test_split(X_train, Y_train, test_size = 0.1, random_state=random_seed)"
   ]
  },
  {
   "cell_type": "code",
   "execution_count": 106,
   "metadata": {},
   "outputs": [
    {
     "name": "stdout",
     "output_type": "stream",
     "text": [
      "(37800, 28, 28)\n",
      "(4200, 28, 28)\n",
      "(37800,)\n",
      "(4200,)\n"
     ]
    }
   ],
   "source": [
    "# 查看维度\n",
    "print(X_train.shape)\n",
    "print(X_val.shape)\n",
    "print(Y_train.shape)\n",
    "print(Y_val.shape)"
   ]
  },
  {
   "cell_type": "code",
   "execution_count": 108,
   "metadata": {},
   "outputs": [
    {
     "data": {
      "text/plain": [
       "<matplotlib.image.AxesImage at 0x7f233164e2b0>"
      ]
     },
     "execution_count": 108,
     "metadata": {},
     "output_type": "execute_result"
    },
    {
     "data": {
      "image/png": "[encoded data removed]",
      "text/plain": [
       "<Figure size 720x576 with 1 Axes>"
      ]
     },
     "metadata": {},
     "output_type": "display_data"
    }
   ],
   "source": [
    "# 展示案例\n",
    "plt.imshow(X_train[0])\n",
    "# image = Image.fromarray(np.uint8(X_train[0]))\n",
    "# plt.imshow(np.asarray(image))"
   ]
  },
  {
   "cell_type": "markdown",
   "metadata": {},
   "source": [
    "### 3. 自定义Dataloader"
   ]
  },
  {
   "cell_type": "code",
   "execution_count": 91,
   "metadata": {},
   "outputs": [],
   "source": [
    "# 都是针对PIL Image的\n",
    "preprocess = transforms.Compose([\n",
    "    transforms.RandomHorizontalFlip(),\n",
    "#     transforms.Resize(256),\n",
    "#     transforms.RandomCrop(224),\n",
    "    transforms.RandomRotation(20),\n",
    "    transforms.ToTensor(),\n",
    "    transforms.Normalize((0.1307,), (0.3081,))\n",
    "#     ts.transforms.RandomRotate(20),\n",
    "#     ts.transforms.RandomTranslate(0.1,0.1),\n",
    "#     transforms.Normalize([0.485, 0.456, 0.406], [0.229, 0.224, 0.225])\n",
    "    \n",
    "])"
   ]
  },
  {
   "cell_type": "code",
   "execution_count": 60,
   "metadata": {},
   "outputs": [],
   "source": [
    "# 构建自定义数据加载类\n",
    "class MINISTDataset(torch.utils.data.Dataset):\n",
    "    def __init__(self, images = None, labels = None, transfrom=None):\n",
    "        self.images = images\n",
    "        self.labels = labels\n",
    "        self.transfrom= transfrom\n",
    "        \n",
    "    def __getitem__(self, index):\n",
    "        image = self.images[index]\n",
    "        image = Image.fromarray(np.uint8(image))\n",
    "#         image = image.convert('RGB')\n",
    "        label = self.labels[index]\n",
    "        \n",
    "        \n",
    "        #  2. 预处理数据（比如使用 torchvision.Transform）\n",
    "        if self.transfrom:\n",
    "            image = self.transfrom(image)\n",
    "            \n",
    "        # 3. 返回数据对（比如 image和label）\n",
    "        return (image, label)\n",
    "    \n",
    "    def __len__(self):\n",
    "        # 将0替换成数据集的总长度\n",
    "        count = len(self.images)\n",
    "        return count"
   ]
  },
  {
   "cell_type": "markdown",
   "metadata": {},
   "source": [
    "## 建立CNN模型进行训练"
   ]
  },
  {
   "cell_type": "code",
   "execution_count": 67,
   "metadata": {},
   "outputs": [],
   "source": [
    "# 超参数设置\n",
    "num_epochs = 50\n",
    "num_classes = 10\n",
    "batch_size = 64\n",
    "learning_rate = 0.001"
   ]
  },
  {
   "cell_type": "code",
   "execution_count": 68,
   "metadata": {},
   "outputs": [],
   "source": [
    "# 设备配置\n",
    "torch.cuda.set_device(1) # 这句用来设置pytorch在哪块GPU上运行\n",
    "device = torch.device('cuda' if torch.cuda.is_available() else 'cpu')"
   ]
  },
  {
   "cell_type": "code",
   "execution_count": 69,
   "metadata": {},
   "outputs": [],
   "source": [
    "# 设置训练集和验证集\n",
    "train_set = MINISTDataset(images=X_train, labels=Y_train,transfrom=preprocess)\n",
    "train_loader  = torch.utils.data.DataLoader(dataset=train_set,\n",
    "                                           batch_size=batch_size, \n",
    "                                           shuffle=True)\n",
    "\n",
    "val_set = MINISTDataset(images =X_val, labels=Y_val, transfrom=preprocess )\n",
    "val_loader = torch.utils.data.DataLoader(dataset=val_set,\n",
    "                                           batch_size=batch_size, \n",
    "                                           shuffle=True)"
   ]
  },
  {
   "cell_type": "code",
   "execution_count": 70,
   "metadata": {},
   "outputs": [],
   "source": [
    "# 迭代的使用\n",
    "# 当迭代开始时，队列和线程开始从文件中加载数据\n",
    "data_iter = iter(train_loader)\n",
    "\n",
    "# 获取一组mini-batch\n",
    "images, labels = data_iter.next()"
   ]
  },
  {
   "cell_type": "code",
   "execution_count": 71,
   "metadata": {},
   "outputs": [],
   "source": [
    "# Convolutional neural network (two convolutional layers)\n",
    "class ConvNet(nn.Module):\n",
    "    def __init__(self, num_classes=10):\n",
    "        super(ConvNet, self).__init__()\n",
    "        self.layer1 = nn.Sequential(\n",
    "            nn.Conv2d(1, 16, kernel_size=5, stride=1, padding=2),\n",
    "            nn.BatchNorm2d(16),\n",
    "            nn.ReLU(),\n",
    "            nn.MaxPool2d(kernel_size=2, stride=2))\n",
    "        self.layer2 = nn.Sequential(\n",
    "            nn.Conv2d(16, 32, kernel_size=5, stride=1, padding=2),\n",
    "            nn.BatchNorm2d(32),\n",
    "            nn.ReLU(),\n",
    "            nn.MaxPool2d(kernel_size=2, stride=2))\n",
    "        self.fc = nn.Linear(7*7*32, num_classes)\n",
    "        \n",
    "    def forward(self, x):\n",
    "        out = self.layer1(x)\n",
    "        out = self.layer2(out)\n",
    "        out = out.reshape(out.size(0), -1)\n",
    "        out = self.fc(out)\n",
    "        return out"
   ]
  },
  {
   "cell_type": "code",
   "execution_count": 72,
   "metadata": {},
   "outputs": [],
   "source": [
    "# 自建模型\n",
    "class CNN(nn.Module):\n",
    "    def __init__(self, num_classes=10):\n",
    "        super(CNN, self).__init__()\n",
    "        self.layer1 = nn.Sequential(\n",
    "            nn.Conv2d(1, 16, kernel_size=5, stride=1, padding=2),\n",
    "            nn.BatchNorm2d(16),\n",
    "            nn.ReLU(),\n",
    "            nn.Conv2d(16, 32, kernel_size=5, stride=1, padding=2),\n",
    "            nn.BatchNorm2d(32),\n",
    "            nn.ReLU(),\n",
    "            nn.MaxPool2d(kernel_size=2, stride=2),\n",
    "            nn.Dropout2d(0.25))\n",
    "        \n",
    "        self.layer2 = nn.Sequential(\n",
    "            nn.Conv2d(32, 64, kernel_size=5, stride=1, padding=2),\n",
    "            nn.BatchNorm2d(64),\n",
    "            nn.ReLU(),\n",
    "            nn.Conv2d(64, 128, kernel_size=5, stride=1, padding=2),\n",
    "            nn.BatchNorm2d(128),\n",
    "            nn.ReLU(),\n",
    "            nn.MaxPool2d(kernel_size=2, stride=2),\n",
    "            nn.Dropout2d(0.25))\n",
    "        \n",
    "        self.fc = nn.Sequential(\n",
    "            nn.Linear(7*7*128, 256),\n",
    "            nn.Dropout2d(0.25),\n",
    "            nn.Linear(256, num_classes))\n",
    "\n",
    "    def forward(self, x):\n",
    "        out = self.layer1(x)\n",
    "        out = self.layer2(out)\n",
    "        out = out.reshape(out.size(0), -1)\n",
    "        out = self.fc(out)\n",
    "        return out"
   ]
  },
  {
   "cell_type": "code",
   "execution_count": 73,
   "metadata": {},
   "outputs": [],
   "source": [
    "# 创建模型实例\n",
    "model = ConvNet(num_classes).to(device)"
   ]
  },
  {
   "cell_type": "code",
   "execution_count": 74,
   "metadata": {},
   "outputs": [],
   "source": [
    "# 损失函数和优化器\n",
    "criterion = nn.CrossEntropyLoss()\n",
    "optimizer = torch.optim.Adam(model.parameters(), lr=learning_rate)"
   ]
  },
  {
   "cell_type": "code",
   "execution_count": 75,
   "metadata": {},
   "outputs": [
    {
     "name": "stdout",
     "output_type": "stream",
     "text": [
      "Epoch [1/50], Step [100/591], Loss: 0.2546\n",
      "Epoch [1/50], Step [200/591], Loss: 0.5350\n",
      "Epoch [1/50], Step [300/591], Loss: 0.2688\n",
      "Epoch [1/50], Step [400/591], Loss: 0.2134\n",
      "Epoch [1/50], Step [500/591], Loss: 0.3210\n",
      "Epoch [2/50], Step [100/591], Loss: 0.1524\n",
      "Epoch [2/50], Step [200/591], Loss: 0.0956\n",
      "Epoch [2/50], Step [300/591], Loss: 0.0802\n",
      "Epoch [2/50], Step [400/591], Loss: 0.2139\n",
      "Epoch [2/50], Step [500/591], Loss: 0.1441\n",
      "Epoch [3/50], Step [100/591], Loss: 0.0792\n",
      "Epoch [3/50], Step [200/591], Loss: 0.1044\n",
      "Epoch [3/50], Step [300/591], Loss: 0.2517\n",
      "Epoch [3/50], Step [400/591], Loss: 0.1473\n",
      "Epoch [3/50], Step [500/591], Loss: 0.2498\n",
      "Epoch [4/50], Step [100/591], Loss: 0.0066\n",
      "Epoch [4/50], Step [200/591], Loss: 0.0310\n",
      "Epoch [4/50], Step [300/591], Loss: 0.1400\n",
      "Epoch [4/50], Step [400/591], Loss: 0.1412\n",
      "Epoch [4/50], Step [500/591], Loss: 0.1200\n",
      "Epoch [5/50], Step [100/591], Loss: 0.1417\n",
      "Epoch [5/50], Step [200/591], Loss: 0.0469\n",
      "Epoch [5/50], Step [300/591], Loss: 0.0675\n",
      "Epoch [5/50], Step [400/591], Loss: 0.0927\n",
      "Epoch [5/50], Step [500/591], Loss: 0.1280\n",
      "Epoch [6/50], Step [100/591], Loss: 0.1273\n",
      "Epoch [6/50], Step [200/591], Loss: 0.1237\n",
      "Epoch [6/50], Step [300/591], Loss: 0.1131\n",
      "Epoch [6/50], Step [400/591], Loss: 0.1453\n",
      "Epoch [6/50], Step [500/591], Loss: 0.0511\n",
      "Epoch [7/50], Step [100/591], Loss: 0.1623\n",
      "Epoch [7/50], Step [200/591], Loss: 0.0234\n",
      "Epoch [7/50], Step [300/591], Loss: 0.0065\n",
      "Epoch [7/50], Step [400/591], Loss: 0.0400\n",
      "Epoch [7/50], Step [500/591], Loss: 0.0135\n",
      "Epoch [8/50], Step [100/591], Loss: 0.0832\n",
      "Epoch [8/50], Step [200/591], Loss: 0.0726\n",
      "Epoch [8/50], Step [300/591], Loss: 0.0311\n",
      "Epoch [8/50], Step [400/591], Loss: 0.0558\n",
      "Epoch [8/50], Step [500/591], Loss: 0.0122\n",
      "Epoch [9/50], Step [100/591], Loss: 0.0389\n",
      "Epoch [9/50], Step [200/591], Loss: 0.0393\n",
      "Epoch [9/50], Step [300/591], Loss: 0.0158\n",
      "Epoch [9/50], Step [400/591], Loss: 0.2017\n",
      "Epoch [9/50], Step [500/591], Loss: 0.0199\n",
      "Epoch [10/50], Step [100/591], Loss: 0.0397\n",
      "Epoch [10/50], Step [200/591], Loss: 0.0981\n",
      "Epoch [10/50], Step [300/591], Loss: 0.0462\n",
      "Epoch [10/50], Step [400/591], Loss: 0.0157\n",
      "Epoch [10/50], Step [500/591], Loss: 0.1176\n",
      "Epoch [11/50], Step [100/591], Loss: 0.0110\n",
      "Epoch [11/50], Step [200/591], Loss: 0.0119\n",
      "Epoch [11/50], Step [300/591], Loss: 0.0218\n",
      "Epoch [11/50], Step [400/591], Loss: 0.0582\n",
      "Epoch [11/50], Step [500/591], Loss: 0.0409\n",
      "Epoch [12/50], Step [100/591], Loss: 0.0164\n",
      "Epoch [12/50], Step [200/591], Loss: 0.3042\n",
      "Epoch [12/50], Step [300/591], Loss: 0.0294\n",
      "Epoch [12/50], Step [400/591], Loss: 0.1562\n",
      "Epoch [12/50], Step [500/591], Loss: 0.0179\n",
      "Epoch [13/50], Step [100/591], Loss: 0.0488\n",
      "Epoch [13/50], Step [200/591], Loss: 0.0588\n",
      "Epoch [13/50], Step [300/591], Loss: 0.0108\n",
      "Epoch [13/50], Step [400/591], Loss: 0.0243\n",
      "Epoch [13/50], Step [500/591], Loss: 0.0122\n",
      "Epoch [14/50], Step [100/591], Loss: 0.0054\n",
      "Epoch [14/50], Step [200/591], Loss: 0.0812\n",
      "Epoch [14/50], Step [300/591], Loss: 0.0612\n",
      "Epoch [14/50], Step [400/591], Loss: 0.0714\n",
      "Epoch [14/50], Step [500/591], Loss: 0.0719\n",
      "Epoch [15/50], Step [100/591], Loss: 0.0134\n",
      "Epoch [15/50], Step [200/591], Loss: 0.0277\n",
      "Epoch [15/50], Step [300/591], Loss: 0.2295\n",
      "Epoch [15/50], Step [400/591], Loss: 0.0362\n",
      "Epoch [15/50], Step [500/591], Loss: 0.0197\n",
      "Epoch [16/50], Step [100/591], Loss: 0.0320\n",
      "Epoch [16/50], Step [200/591], Loss: 0.0304\n",
      "Epoch [16/50], Step [300/591], Loss: 0.1203\n",
      "Epoch [16/50], Step [400/591], Loss: 0.1441\n",
      "Epoch [16/50], Step [500/591], Loss: 0.0677\n",
      "Epoch [17/50], Step [100/591], Loss: 0.2456\n",
      "Epoch [17/50], Step [200/591], Loss: 0.0678\n",
      "Epoch [17/50], Step [300/591], Loss: 0.0220\n",
      "Epoch [17/50], Step [400/591], Loss: 0.0269\n",
      "Epoch [17/50], Step [500/591], Loss: 0.0909\n",
      "Epoch [18/50], Step [100/591], Loss: 0.0259\n",
      "Epoch [18/50], Step [200/591], Loss: 0.0043\n",
      "Epoch [18/50], Step [300/591], Loss: 0.0415\n",
      "Epoch [18/50], Step [400/591], Loss: 0.0179\n",
      "Epoch [18/50], Step [500/591], Loss: 0.1326\n",
      "Epoch [19/50], Step [100/591], Loss: 0.0140\n",
      "Epoch [19/50], Step [200/591], Loss: 0.0826\n",
      "Epoch [19/50], Step [300/591], Loss: 0.0257\n",
      "Epoch [19/50], Step [400/591], Loss: 0.0167\n",
      "Epoch [19/50], Step [500/591], Loss: 0.0572\n",
      "Epoch [20/50], Step [100/591], Loss: 0.1176\n",
      "Epoch [20/50], Step [200/591], Loss: 0.0810\n",
      "Epoch [20/50], Step [300/591], Loss: 0.0345\n",
      "Epoch [20/50], Step [400/591], Loss: 0.0327\n",
      "Epoch [20/50], Step [500/591], Loss: 0.0124\n",
      "Epoch [21/50], Step [100/591], Loss: 0.0449\n",
      "Epoch [21/50], Step [200/591], Loss: 0.0239\n",
      "Epoch [21/50], Step [300/591], Loss: 0.0175\n",
      "Epoch [21/50], Step [400/591], Loss: 0.0845\n",
      "Epoch [21/50], Step [500/591], Loss: 0.0765\n",
      "Epoch [22/50], Step [100/591], Loss: 0.0029\n",
      "Epoch [22/50], Step [200/591], Loss: 0.0473\n",
      "Epoch [22/50], Step [300/591], Loss: 0.0212\n",
      "Epoch [22/50], Step [400/591], Loss: 0.0121\n",
      "Epoch [22/50], Step [500/591], Loss: 0.1266\n",
      "Epoch [23/50], Step [100/591], Loss: 0.0207\n",
      "Epoch [23/50], Step [200/591], Loss: 0.0539\n",
      "Epoch [23/50], Step [300/591], Loss: 0.0276\n",
      "Epoch [23/50], Step [400/591], Loss: 0.0496\n",
      "Epoch [23/50], Step [500/591], Loss: 0.0182\n",
      "Epoch [24/50], Step [100/591], Loss: 0.1432\n",
      "Epoch [24/50], Step [200/591], Loss: 0.1068\n",
      "Epoch [24/50], Step [300/591], Loss: 0.0241\n",
      "Epoch [24/50], Step [400/591], Loss: 0.1827\n",
      "Epoch [24/50], Step [500/591], Loss: 0.0400\n",
      "Epoch [25/50], Step [100/591], Loss: 0.0248\n",
      "Epoch [25/50], Step [200/591], Loss: 0.0169\n",
      "Epoch [25/50], Step [300/591], Loss: 0.0279\n",
      "Epoch [25/50], Step [400/591], Loss: 0.1071\n",
      "Epoch [25/50], Step [500/591], Loss: 0.0180\n",
      "Epoch [26/50], Step [100/591], Loss: 0.0207\n",
      "Epoch [26/50], Step [200/591], Loss: 0.0293\n",
      "Epoch [26/50], Step [300/591], Loss: 0.0268\n",
      "Epoch [26/50], Step [400/591], Loss: 0.0218\n",
      "Epoch [26/50], Step [500/591], Loss: 0.0243\n",
      "Epoch [27/50], Step [100/591], Loss: 0.0049\n",
      "Epoch [27/50], Step [200/591], Loss: 0.0290\n",
      "Epoch [27/50], Step [300/591], Loss: 0.0046\n",
      "Epoch [27/50], Step [400/591], Loss: 0.0014\n",
      "Epoch [27/50], Step [500/591], Loss: 0.1797\n",
      "Epoch [28/50], Step [100/591], Loss: 0.1043\n",
      "Epoch [28/50], Step [200/591], Loss: 0.0161\n",
      "Epoch [28/50], Step [300/591], Loss: 0.0200\n",
      "Epoch [28/50], Step [400/591], Loss: 0.0018\n",
      "Epoch [28/50], Step [500/591], Loss: 0.0669\n",
      "Epoch [29/50], Step [100/591], Loss: 0.0291\n",
      "Epoch [29/50], Step [200/591], Loss: 0.0745\n",
      "Epoch [29/50], Step [300/591], Loss: 0.0956\n",
      "Epoch [29/50], Step [400/591], Loss: 0.0675\n",
      "Epoch [29/50], Step [500/591], Loss: 0.0009\n",
      "Epoch [30/50], Step [100/591], Loss: 0.0037\n",
      "Epoch [30/50], Step [200/591], Loss: 0.0651\n",
      "Epoch [30/50], Step [300/591], Loss: 0.0182\n",
      "Epoch [30/50], Step [400/591], Loss: 0.0188\n",
      "Epoch [30/50], Step [500/591], Loss: 0.0586\n",
      "Epoch [31/50], Step [100/591], Loss: 0.1046\n",
      "Epoch [31/50], Step [200/591], Loss: 0.0535\n",
      "Epoch [31/50], Step [300/591], Loss: 0.0129\n",
      "Epoch [31/50], Step [400/591], Loss: 0.1376\n",
      "Epoch [31/50], Step [500/591], Loss: 0.0169\n",
      "Epoch [32/50], Step [100/591], Loss: 0.0082\n",
      "Epoch [32/50], Step [200/591], Loss: 0.0029\n",
      "Epoch [32/50], Step [300/591], Loss: 0.0100\n",
      "Epoch [32/50], Step [400/591], Loss: 0.0729\n",
      "Epoch [32/50], Step [500/591], Loss: 0.0236\n",
      "Epoch [33/50], Step [100/591], Loss: 0.0206\n",
      "Epoch [33/50], Step [200/591], Loss: 0.0026\n",
      "Epoch [33/50], Step [300/591], Loss: 0.0161\n",
      "Epoch [33/50], Step [400/591], Loss: 0.1502\n",
      "Epoch [33/50], Step [500/591], Loss: 0.0242\n",
      "Epoch [34/50], Step [100/591], Loss: 0.0267\n",
      "Epoch [34/50], Step [200/591], Loss: 0.0713\n",
      "Epoch [34/50], Step [300/591], Loss: 0.0164\n",
      "Epoch [34/50], Step [400/591], Loss: 0.0331\n",
      "Epoch [34/50], Step [500/591], Loss: 0.0086\n",
      "Epoch [35/50], Step [100/591], Loss: 0.0147\n",
      "Epoch [35/50], Step [200/591], Loss: 0.0253\n",
      "Epoch [35/50], Step [300/591], Loss: 0.0357\n",
      "Epoch [35/50], Step [400/591], Loss: 0.0104\n",
      "Epoch [35/50], Step [500/591], Loss: 0.0471\n",
      "Epoch [36/50], Step [100/591], Loss: 0.0171\n",
      "Epoch [36/50], Step [200/591], Loss: 0.0414\n",
      "Epoch [36/50], Step [300/591], Loss: 0.2195\n",
      "Epoch [36/50], Step [400/591], Loss: 0.1370\n",
      "Epoch [36/50], Step [500/591], Loss: 0.0126\n",
      "Epoch [37/50], Step [100/591], Loss: 0.0588\n",
      "Epoch [37/50], Step [200/591], Loss: 0.0145\n",
      "Epoch [37/50], Step [300/591], Loss: 0.0202\n",
      "Epoch [37/50], Step [400/591], Loss: 0.0788\n",
      "Epoch [37/50], Step [500/591], Loss: 0.0016\n",
      "Epoch [38/50], Step [100/591], Loss: 0.0008\n",
      "Epoch [38/50], Step [200/591], Loss: 0.0099\n",
      "Epoch [38/50], Step [300/591], Loss: 0.0696\n"
     ]
    },
    {
     "name": "stdout",
     "output_type": "stream",
     "text": [
      "Epoch [38/50], Step [400/591], Loss: 0.0292\n",
      "Epoch [38/50], Step [500/591], Loss: 0.0229\n",
      "Epoch [39/50], Step [100/591], Loss: 0.1183\n",
      "Epoch [39/50], Step [200/591], Loss: 0.0080\n",
      "Epoch [39/50], Step [300/591], Loss: 0.0036\n",
      "Epoch [39/50], Step [400/591], Loss: 0.0049\n",
      "Epoch [39/50], Step [500/591], Loss: 0.0081\n",
      "Epoch [40/50], Step [100/591], Loss: 0.0021\n",
      "Epoch [40/50], Step [200/591], Loss: 0.0084\n",
      "Epoch [40/50], Step [300/591], Loss: 0.0084\n",
      "Epoch [40/50], Step [400/591], Loss: 0.0052\n",
      "Epoch [40/50], Step [500/591], Loss: 0.0897\n",
      "Epoch [41/50], Step [100/591], Loss: 0.1283\n",
      "Epoch [41/50], Step [200/591], Loss: 0.1037\n",
      "Epoch [41/50], Step [300/591], Loss: 0.0078\n",
      "Epoch [41/50], Step [400/591], Loss: 0.0051\n",
      "Epoch [41/50], Step [500/591], Loss: 0.0777\n",
      "Epoch [42/50], Step [100/591], Loss: 0.1608\n",
      "Epoch [42/50], Step [200/591], Loss: 0.0264\n",
      "Epoch [42/50], Step [300/591], Loss: 0.0091\n",
      "Epoch [42/50], Step [400/591], Loss: 0.0126\n",
      "Epoch [42/50], Step [500/591], Loss: 0.0012\n",
      "Epoch [43/50], Step [100/591], Loss: 0.0285\n",
      "Epoch [43/50], Step [200/591], Loss: 0.0026\n",
      "Epoch [43/50], Step [300/591], Loss: 0.0527\n",
      "Epoch [43/50], Step [400/591], Loss: 0.0108\n",
      "Epoch [43/50], Step [500/591], Loss: 0.0057\n",
      "Epoch [44/50], Step [100/591], Loss: 0.0231\n",
      "Epoch [44/50], Step [200/591], Loss: 0.1544\n",
      "Epoch [44/50], Step [300/591], Loss: 0.0560\n",
      "Epoch [44/50], Step [400/591], Loss: 0.0804\n",
      "Epoch [44/50], Step [500/591], Loss: 0.1289\n",
      "Epoch [45/50], Step [100/591], Loss: 0.0156\n",
      "Epoch [45/50], Step [200/591], Loss: 0.0012\n",
      "Epoch [45/50], Step [300/591], Loss: 0.0400\n",
      "Epoch [45/50], Step [400/591], Loss: 0.0037\n",
      "Epoch [45/50], Step [500/591], Loss: 0.0022\n",
      "Epoch [46/50], Step [100/591], Loss: 0.0048\n",
      "Epoch [46/50], Step [200/591], Loss: 0.1013\n",
      "Epoch [46/50], Step [300/591], Loss: 0.0059\n",
      "Epoch [46/50], Step [400/591], Loss: 0.0809\n",
      "Epoch [46/50], Step [500/591], Loss: 0.0666\n",
      "Epoch [47/50], Step [100/591], Loss: 0.0724\n",
      "Epoch [47/50], Step [200/591], Loss: 0.0481\n",
      "Epoch [47/50], Step [300/591], Loss: 0.0230\n",
      "Epoch [47/50], Step [400/591], Loss: 0.0186\n",
      "Epoch [47/50], Step [500/591], Loss: 0.0030\n",
      "Epoch [48/50], Step [100/591], Loss: 0.0014\n",
      "Epoch [48/50], Step [200/591], Loss: 0.0059\n",
      "Epoch [48/50], Step [300/591], Loss: 0.0453\n",
      "Epoch [48/50], Step [400/591], Loss: 0.0678\n",
      "Epoch [48/50], Step [500/591], Loss: 0.0040\n",
      "Epoch [49/50], Step [100/591], Loss: 0.0173\n",
      "Epoch [49/50], Step [200/591], Loss: 0.0202\n",
      "Epoch [49/50], Step [300/591], Loss: 0.0347\n",
      "Epoch [49/50], Step [400/591], Loss: 0.0793\n",
      "Epoch [49/50], Step [500/591], Loss: 0.0300\n",
      "Epoch [50/50], Step [100/591], Loss: 0.1689\n",
      "Epoch [50/50], Step [200/591], Loss: 0.0074\n",
      "Epoch [50/50], Step [300/591], Loss: 0.0457\n",
      "Epoch [50/50], Step [400/591], Loss: 0.1127\n",
      "Epoch [50/50], Step [500/591], Loss: 0.0519\n"
     ]
    }
   ],
   "source": [
    "# 训练模型\n",
    "total_step = len(train_loader)\n",
    "for epoch in range(num_epochs):\n",
    "    for i, (images, labels) in enumerate(train_loader):\n",
    "        images = images.to(device)\n",
    "        labels = labels.to(device)\n",
    "        \n",
    "        # Forward pass\n",
    "        outputs = model(images)\n",
    "        loss = criterion(outputs, labels)\n",
    "        \n",
    "        # Backward and optimize\n",
    "        optimizer.zero_grad()\n",
    "        loss.backward()\n",
    "        optimizer.step()\n",
    "        \n",
    "        if (i+1) % 100 == 0:\n",
    "            print ('Epoch [{}/{}], Step [{}/{}], Loss: {:.4f}' \n",
    "                   .format(epoch+1, num_epochs, i+1, total_step, loss.item()))"
   ]
  },
  {
   "cell_type": "code",
   "execution_count": 77,
   "metadata": {},
   "outputs": [
    {
     "name": "stdout",
     "output_type": "stream",
     "text": [
      "Test Accuracy of the model on the 10000 test images: 98.11904761904762 %\n"
     ]
    }
   ],
   "source": [
    "# 验证集\n",
    "# 节省计算资源，不去计算梯度\n",
    "with torch.no_grad():\n",
    "    correct = 0\n",
    "    total = 0\n",
    "    for images, labels in val_loader:\n",
    "        images = images.to(device)\n",
    "        labels = labels.to(device)\n",
    "        outputs = model(images)\n",
    "        _, predicted = torch.max(outputs.data, 1)\n",
    "        total += labels.size(0)\n",
    "        correct += (predicted == labels).sum().item()\n",
    "\n",
    "    print('Test Accuracy of the model on the 10000 test images: {} %'.format(100 * correct / total))\n"
   ]
  },
  {
   "cell_type": "code",
   "execution_count": 22,
   "metadata": {},
   "outputs": [],
   "source": [
    "# 第一次测试 98.4523\n",
    "# 第二次测试 99.0952，但是在测试集上效果不佳，应该是过拟合了。\n",
    "# 第三次居然只有 97.8333"
   ]
  },
  {
   "cell_type": "markdown",
   "metadata": {},
   "source": [
    "### 预测测试集"
   ]
  },
  {
   "cell_type": "code",
   "execution_count": 78,
   "metadata": {},
   "outputs": [
    {
     "name": "stdout",
     "output_type": "stream",
     "text": [
      "(28000, 1, 28, 28)\n"
     ]
    }
   ],
   "source": [
    "model.eval()  # eval mode (batchnorm uses moving mean/variance instead of mini-batch mean/variance)\n",
    "test = np.reshape(test, (-1,1,28,28))\n",
    "print(test.shape)"
   ]
  },
  {
   "cell_type": "code",
   "execution_count": 88,
   "metadata": {},
   "outputs": [
    {
     "name": "stdout",
     "output_type": "stream",
     "text": [
      "(0,)\n",
      "(1000,)\n",
      "(2000,)\n",
      "(3000,)\n",
      "(4000,)\n",
      "(5000,)\n",
      "(6000,)\n",
      "(7000,)\n",
      "(8000,)\n",
      "(9000,)\n",
      "(10000,)\n",
      "(11000,)\n",
      "(12000,)\n",
      "(13000,)\n",
      "(14000,)\n",
      "(15000,)\n",
      "(16000,)\n",
      "(17000,)\n",
      "(18000,)\n",
      "(19000,)\n",
      "(20000,)\n",
      "(21000,)\n",
      "(22000,)\n",
      "(23000,)\n",
      "(24000,)\n",
      "(25000,)\n",
      "(26000,)\n",
      "(27000,)\n",
      "(28000,)\n"
     ]
    }
   ],
   "source": [
    "result= np.array([])\n",
    "print(result.shape)\n",
    "with torch.no_grad():\n",
    "    for i in range(0,len(test), 1000):\n",
    "        imageSet = test[i:i+1000]\n",
    "        imageSet = torch.Tensor(imageSet).to(device)\n",
    "        outputs = model(imageSet)\n",
    "        _,predicted = torch.max(outputs.data, 1)\n",
    "        result = np.append(result, predicted.cpu().numpy())\n",
    "        print(result.shape)"
   ]
  },
  {
   "cell_type": "code",
   "execution_count": 89,
   "metadata": {},
   "outputs": [
    {
     "name": "stdout",
     "output_type": "stream",
     "text": [
      "(28000,)\n"
     ]
    }
   ],
   "source": [
    "print(result.shape)"
   ]
  },
  {
   "cell_type": "code",
   "execution_count": 90,
   "metadata": {},
   "outputs": [],
   "source": [
    "# 生成提交文件\n",
    "results = pd.Series(result,name=\"Label\")\n",
    "submission = pd.concat([pd.Series(range(1,28001),name = \"ImageId\"),results],axis = 1)\n",
    "submission.to_csv(\"test_result.csv\",index=False)"
   ]
  },
  {
   "cell_type": "code",
   "execution_count": 86,
   "metadata": {},
   "outputs": [
    {
     "name": "stdout",
     "output_type": "stream",
     "text": [
      "__Python VERSION: 3.6.5 |Anaconda, Inc.| (default, Apr 29 2018, 16:14:56) \n",
      "[GCC 7.2.0]\n",
      "__pyTorch VERSION: 0.4.1\n",
      "__CUDA VERSION\n",
      "nvcc: NVIDIA (R) Cuda compiler driver\n",
      "Copyright (c) 2005-2017 NVIDIA Corporation\n",
      "Built on Fri_Sep__1_21:08:03_CDT_2017\n",
      "Cuda compilation tools, release 9.0, V9.0.176\n",
      "__CUDNN VERSION: 7102\n",
      "__Number CUDA Devices: 2\n",
      "__Devices\n",
      "Active CUDA Device: GPU 1\n",
      "Available devices  2\n",
      "Current cuda device  1\n"
     ]
    }
   ],
   "source": [
    "# 这一段可以用来查看当前GPU的情况\n",
    "import torch\n",
    "import sys\n",
    "print('__Python VERSION:', sys.version)\n",
    "print('__pyTorch VERSION:', torch.__version__)\n",
    "print('__CUDA VERSION')\n",
    "from subprocess import call\n",
    "# call([\"nvcc\", \"--version\"]) does not work\n",
    "! nvcc --version\n",
    "print('__CUDNN VERSION:', torch.backends.cudnn.version())\n",
    "print('__Number CUDA Devices:', torch.cuda.device_count())\n",
    "print('__Devices')\n",
    "call([\"nvidia-smi\", \"--format=csv\", \"--query-gpu=index,name,driver_version,memory.total,memory.used,memory.free\"])\n",
    "print('Active CUDA Device: GPU', torch.cuda.current_device())\n",
    "\n",
    "print ('Available devices ', torch.cuda.device_count())\n",
    "print ('Current cuda device ', torch.cuda.current_device())"
   ]
  },
  {
   "cell_type": "code",
   "execution_count": null,
   "metadata": {},
   "outputs": [],
   "source": []
  }
 ],
 "metadata": {
  "kernelspec": {
   "display_name": "Python 3",
   "language": "python",
   "name": "python3"
  },
  "language_info": {
   "codemirror_mode": {
    "name": "ipython",
    "version": 3
   },
   "file_extension": ".py",
   "mimetype": "text/x-python",
   "name": "python",
   "nbconvert_exporter": "python",
   "pygments_lexer": "ipython3",
   "version": "3.6.6"
  },
  "toc": {
   "base_numbering": 1,
   "nav_menu": {},
   "number_sections": true,
   "sideBar": true,
   "skip_h1_title": false,
   "title_cell": "Table of Contents",
   "title_sidebar": "Contents",
   "toc_cell": false,
   "toc_position": {},
   "toc_section_display": true,
   "toc_window_display": false
  },
  "varInspector": {
   "cols": {
    "lenName": 16,
    "lenType": 16,
    "lenVar": 40
   },
   "kernels_config": {
    "python": {
     "delete_cmd_postfix": "",
     "delete_cmd_prefix": "del ",
     "library": "var_list.py",
     "varRefreshCmd": "print(var_dic_list())"
    },
    "r": {
     "delete_cmd_postfix": ") ",
     "delete_cmd_prefix": "rm(",
     "library": "var_list.r",
     "varRefreshCmd": "cat(var_dic_list()) "
    }
   },
   "types_to_exclude": [
    "module",
    "function",
    "builtin_function_or_method",
    "instance",
    "_Feature"
   ],
   "window_display": false
  }
 },
 "nbformat": 4,
 "nbformat_minor": 2
}
